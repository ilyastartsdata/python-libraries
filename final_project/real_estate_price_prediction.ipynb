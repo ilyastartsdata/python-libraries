{
 "cells": [
  {
   "cell_type": "markdown",
   "metadata": {},
   "source": [
    "# Final Project: Real Estate Price Prediction"
   ]
  },
  {
   "cell_type": "markdown",
   "metadata": {},
   "source": [
    "Python libraries for Data Science: Numpy, Matplotlib, Scikit-learn"
   ]
  },
  {
   "cell_type": "markdown",
   "metadata": {},
   "source": [
    "**Project Plan**\n",
    "* [General information](#info)\n",
    "* [Preparation](#prep)\n",
    "    * [Connection of libraries and scripts](#libraries)\n",
    "    * [Reduce MU](#mu)\n",
    "    * [Data Upload](#upload)\n",
    "    * [MU optimization](#optim)\n",
    "* [EDA](#eda)\n",
    "    * [Rooms](#rooms)\n",
    "    * [Square](#square)\n",
    "    * [HouseYear](#houseyear)\n",
    "* [Data Processing](#processing)\n",
    "    * [Target Variable](#target)\n",
    "    * [Distribution of HouseYear](#dhy)\n",
    "    * [Distribution of DistrictId](#did)\n",
    "* [Features Engineering](#features)\n",
    "    * [Missing data points](#missing)\n",
    "    * [Data Correlation](#correlation)\n",
    "    * [Cluster](#cluster)\n",
    "* [Building the model](#model)\n",
    "    * [Features](#features)\n",
    "    * [Train test split](#split)\n",
    "* [Linear Regression](#lr)\n",
    "* [Random Forest Regressor](#random)\n",
    "* [Gradient Boosting Regressor](#gbr)\n",
    "* [LassoCV](#cv)\n",
    "* [XGB Regressor](#xgb)\n",
    "* [Result](#result)\n",
    "    * [Best Model](#best)\n",
    "    * [r2 Score](#r2)\n",
    "    * [Mean Squared Error](#mse)\n",
    "* [Output Files](#output)"
   ]
  },
  {
   "cell_type": "markdown",
   "metadata": {},
   "source": [
    "---"
   ]
  },
  {
   "cell_type": "markdown",
   "metadata": {},
   "source": [
    "## General information <a class='anchor' id='info'>"
   ]
  },
  {
   "cell_type": "markdown",
   "metadata": {},
   "source": [
    "**Files:**\n",
    "    \n",
    "    - train.csv\n",
    "    - test.csv\n",
    "    \n",
    "**Task:** \n",
    "\n",
    "    Using the data from train.csv, build a model to predict the price of real estate. Using the obtained model to predict the prices of falts from the test.csv file.\n",
    "    \n",
    "**Target variable:** \n",
    "\n",
    "    Price\n",
    "    \n",
    "**Main metrics:**\n",
    "\n",
    "    R2 - determination coefficient (sklearn.metrics.r2_score)\n",
    "    \n",
    "**Supporting metrics:**\n",
    "\n",
    "    MSE - mean square average error (sklearn.metrics.mean_squared_error)"
   ]
  },
  {
   "cell_type": "markdown",
   "metadata": {},
   "source": [
    "---"
   ]
  },
  {
   "cell_type": "markdown",
   "metadata": {},
   "source": [
    "## Preparation <a class='anchor' id='prep'>"
   ]
  },
  {
   "cell_type": "markdown",
   "metadata": {},
   "source": [
    "**Connection of libraries and scripts** <a class='anchor' id='libraries'>"
   ]
  },
  {
   "cell_type": "code",
   "execution_count": 1,
   "metadata": {},
   "outputs": [],
   "source": [
    "# Data Upload\n",
    "\n",
    "import pandas as pd\n",
    "import matplotlib.pyplot as plt\n",
    "import seaborn as sns\n",
    "\n",
    "from scipy.stats import norm\n",
    "from scipy import stats\n",
    "\n",
    "# Data Processing\n",
    "\n",
    "import numpy as np\n",
    "\n",
    "from sklearn.preprocessing import MinMaxScaler\n",
    "from sklearn.cluster import KMeans\n",
    "from sklearn.cluster import AgglomerativeClustering\n",
    "\n",
    "# Building the Model\n",
    "\n",
    "from sklearn.linear_model import LinearRegression\n",
    "from sklearn.ensemble import RandomForestRegressor\n",
    "from sklearn.ensemble import GradientBoostingRegressor\n",
    "from sklearn.linear_model import LassoCV\n",
    "from xgboost import XGBRegressor\n",
    "\n",
    "from sklearn.model_selection import GridSearchCV\n",
    "\n",
    "from sklearn.metrics import r2_score\n",
    "from sklearn.metrics import mean_squared_error\n",
    "\n",
    "from sklearn.model_selection import train_test_split\n",
    "\n",
    "# Result\n",
    "\n",
    "from sklearn.metrics import r2_score\n",
    "from sklearn.metrics import mean_squared_error"
   ]
  },
  {
   "cell_type": "markdown",
   "metadata": {},
   "source": [
    "**Reduce memory usage (function)**<a class='anchor' id='mu'>"
   ]
  },
  {
   "cell_type": "code",
   "execution_count": 2,
   "metadata": {},
   "outputs": [],
   "source": [
    "def optimizing_df(df):\n",
    "    for col in df.columns:\n",
    "        if df[col].dtypes.kind == 'i' or df[col].dtypes.kind == 'u':\n",
    "            if df[col].min() >= 0:\n",
    "                df[col] = pd.to_numeric(df[col], downcast='unsigned')\n",
    "            else:\n",
    "                df[col] = pd.to_numeric(df[col], downcast='integer')\n",
    "\n",
    "        elif df[col].dtypes.kind == 'f' or df[col].dtypes.kind == 'c':\n",
    "            df[col] = pd.to_numeric(df[col], downcast='float')\n",
    "\n",
    "        elif df[col].dtypes.kind == 'O':\n",
    "            num_unique_values = len(df[col].unique())\n",
    "            num_total_values = len(df[col])\n",
    "            if num_unique_values / num_total_values < 0.5:\n",
    "                df[col] = df[col].astype('category')\n",
    "\n",
    "    return df"
   ]
  },
  {
   "cell_type": "markdown",
   "metadata": {},
   "source": [
    "**Data upload**<a class='anchor' id='upload'>"
   ]
  },
  {
   "cell_type": "code",
   "execution_count": 3,
   "metadata": {},
   "outputs": [
    {
     "name": "stdout",
     "output_type": "stream",
     "text": [
      "Data upload is done\n"
     ]
    }
   ],
   "source": [
    "train_df = pd.read_csv('real-estate-price-prediction-moscow/train.csv')\n",
    "test_df = pd.read_csv('real-estate-price-prediction-moscow/test.csv')\n",
    "print('Data upload is done')"
   ]
  },
  {
   "cell_type": "code",
   "execution_count": 4,
   "metadata": {},
   "outputs": [
    {
     "name": "stdout",
     "output_type": "stream",
     "text": [
      "10000 20\n",
      "5000 19\n"
     ]
    }
   ],
   "source": [
    "# Get info about both dataframes\n",
    "\n",
    "print(train_df.shape[0], train_df.shape[1])\n",
    "print(test_df.shape[0], test_df.shape[1])"
   ]
  },
  {
   "cell_type": "code",
   "execution_count": 5,
   "metadata": {},
   "outputs": [
    {
     "data": {
      "text/html": [
       "<div>\n",
       "<style scoped>\n",
       "    .dataframe tbody tr th:only-of-type {\n",
       "        vertical-align: middle;\n",
       "    }\n",
       "\n",
       "    .dataframe tbody tr th {\n",
       "        vertical-align: top;\n",
       "    }\n",
       "\n",
       "    .dataframe thead th {\n",
       "        text-align: right;\n",
       "    }\n",
       "</style>\n",
       "<table border=\"1\" class=\"dataframe\">\n",
       "  <thead>\n",
       "    <tr style=\"text-align: right;\">\n",
       "      <th></th>\n",
       "      <th>Id</th>\n",
       "      <th>DistrictId</th>\n",
       "      <th>Rooms</th>\n",
       "      <th>Square</th>\n",
       "      <th>LifeSquare</th>\n",
       "      <th>KitchenSquare</th>\n",
       "      <th>Floor</th>\n",
       "      <th>HouseFloor</th>\n",
       "      <th>HouseYear</th>\n",
       "      <th>Ecology_1</th>\n",
       "      <th>Ecology_2</th>\n",
       "      <th>Ecology_3</th>\n",
       "      <th>Social_1</th>\n",
       "      <th>Social_2</th>\n",
       "      <th>Social_3</th>\n",
       "      <th>Healthcare_1</th>\n",
       "      <th>Helthcare_2</th>\n",
       "      <th>Shops_1</th>\n",
       "      <th>Shops_2</th>\n",
       "      <th>Price</th>\n",
       "    </tr>\n",
       "  </thead>\n",
       "  <tbody>\n",
       "    <tr>\n",
       "      <th>0</th>\n",
       "      <td>11809</td>\n",
       "      <td>27</td>\n",
       "      <td>3.0</td>\n",
       "      <td>115.027311</td>\n",
       "      <td>NaN</td>\n",
       "      <td>10.0</td>\n",
       "      <td>4</td>\n",
       "      <td>10.0</td>\n",
       "      <td>2014</td>\n",
       "      <td>0.075424</td>\n",
       "      <td>B</td>\n",
       "      <td>B</td>\n",
       "      <td>11</td>\n",
       "      <td>3097</td>\n",
       "      <td>0</td>\n",
       "      <td>NaN</td>\n",
       "      <td>0</td>\n",
       "      <td>0</td>\n",
       "      <td>B</td>\n",
       "      <td>305018.871089</td>\n",
       "    </tr>\n",
       "    <tr>\n",
       "      <th>1</th>\n",
       "      <td>3013</td>\n",
       "      <td>22</td>\n",
       "      <td>1.0</td>\n",
       "      <td>39.832524</td>\n",
       "      <td>23.169223</td>\n",
       "      <td>8.0</td>\n",
       "      <td>7</td>\n",
       "      <td>8.0</td>\n",
       "      <td>1966</td>\n",
       "      <td>0.118537</td>\n",
       "      <td>B</td>\n",
       "      <td>B</td>\n",
       "      <td>30</td>\n",
       "      <td>6207</td>\n",
       "      <td>1</td>\n",
       "      <td>1183.0</td>\n",
       "      <td>1</td>\n",
       "      <td>0</td>\n",
       "      <td>B</td>\n",
       "      <td>177734.553407</td>\n",
       "    </tr>\n",
       "    <tr>\n",
       "      <th>2</th>\n",
       "      <td>8215</td>\n",
       "      <td>1</td>\n",
       "      <td>3.0</td>\n",
       "      <td>78.342215</td>\n",
       "      <td>47.671972</td>\n",
       "      <td>10.0</td>\n",
       "      <td>2</td>\n",
       "      <td>17.0</td>\n",
       "      <td>1988</td>\n",
       "      <td>0.025609</td>\n",
       "      <td>B</td>\n",
       "      <td>B</td>\n",
       "      <td>33</td>\n",
       "      <td>5261</td>\n",
       "      <td>0</td>\n",
       "      <td>240.0</td>\n",
       "      <td>3</td>\n",
       "      <td>1</td>\n",
       "      <td>B</td>\n",
       "      <td>282078.720850</td>\n",
       "    </tr>\n",
       "    <tr>\n",
       "      <th>3</th>\n",
       "      <td>2352</td>\n",
       "      <td>1</td>\n",
       "      <td>1.0</td>\n",
       "      <td>40.409907</td>\n",
       "      <td>NaN</td>\n",
       "      <td>1.0</td>\n",
       "      <td>10</td>\n",
       "      <td>22.0</td>\n",
       "      <td>1977</td>\n",
       "      <td>0.007122</td>\n",
       "      <td>B</td>\n",
       "      <td>B</td>\n",
       "      <td>1</td>\n",
       "      <td>264</td>\n",
       "      <td>0</td>\n",
       "      <td>NaN</td>\n",
       "      <td>0</td>\n",
       "      <td>1</td>\n",
       "      <td>B</td>\n",
       "      <td>168106.007630</td>\n",
       "    </tr>\n",
       "    <tr>\n",
       "      <th>4</th>\n",
       "      <td>13866</td>\n",
       "      <td>94</td>\n",
       "      <td>2.0</td>\n",
       "      <td>64.285067</td>\n",
       "      <td>38.562517</td>\n",
       "      <td>9.0</td>\n",
       "      <td>16</td>\n",
       "      <td>16.0</td>\n",
       "      <td>1972</td>\n",
       "      <td>0.282798</td>\n",
       "      <td>B</td>\n",
       "      <td>B</td>\n",
       "      <td>33</td>\n",
       "      <td>8667</td>\n",
       "      <td>2</td>\n",
       "      <td>NaN</td>\n",
       "      <td>0</td>\n",
       "      <td>6</td>\n",
       "      <td>B</td>\n",
       "      <td>343995.102962</td>\n",
       "    </tr>\n",
       "    <tr>\n",
       "      <th>5</th>\n",
       "      <td>5804</td>\n",
       "      <td>99</td>\n",
       "      <td>3.0</td>\n",
       "      <td>62.528465</td>\n",
       "      <td>47.103833</td>\n",
       "      <td>6.0</td>\n",
       "      <td>9</td>\n",
       "      <td>9.0</td>\n",
       "      <td>1972</td>\n",
       "      <td>0.012339</td>\n",
       "      <td>B</td>\n",
       "      <td>B</td>\n",
       "      <td>35</td>\n",
       "      <td>5776</td>\n",
       "      <td>1</td>\n",
       "      <td>2078.0</td>\n",
       "      <td>2</td>\n",
       "      <td>4</td>\n",
       "      <td>B</td>\n",
       "      <td>161044.944138</td>\n",
       "    </tr>\n",
       "    <tr>\n",
       "      <th>6</th>\n",
       "      <td>8864</td>\n",
       "      <td>44</td>\n",
       "      <td>1.0</td>\n",
       "      <td>33.938750</td>\n",
       "      <td>21.772930</td>\n",
       "      <td>9.0</td>\n",
       "      <td>1</td>\n",
       "      <td>12.0</td>\n",
       "      <td>1968</td>\n",
       "      <td>0.232205</td>\n",
       "      <td>B</td>\n",
       "      <td>B</td>\n",
       "      <td>24</td>\n",
       "      <td>4860</td>\n",
       "      <td>1</td>\n",
       "      <td>80.0</td>\n",
       "      <td>0</td>\n",
       "      <td>3</td>\n",
       "      <td>B</td>\n",
       "      <td>142402.739272</td>\n",
       "    </tr>\n",
       "    <tr>\n",
       "      <th>7</th>\n",
       "      <td>13072</td>\n",
       "      <td>59</td>\n",
       "      <td>2.0</td>\n",
       "      <td>50.391814</td>\n",
       "      <td>32.893256</td>\n",
       "      <td>8.0</td>\n",
       "      <td>8</td>\n",
       "      <td>17.0</td>\n",
       "      <td>1986</td>\n",
       "      <td>0.019509</td>\n",
       "      <td>B</td>\n",
       "      <td>B</td>\n",
       "      <td>37</td>\n",
       "      <td>7687</td>\n",
       "      <td>11</td>\n",
       "      <td>176.0</td>\n",
       "      <td>5</td>\n",
       "      <td>5</td>\n",
       "      <td>B</td>\n",
       "      <td>326174.175191</td>\n",
       "    </tr>\n",
       "    <tr>\n",
       "      <th>8</th>\n",
       "      <td>9951</td>\n",
       "      <td>1</td>\n",
       "      <td>1.0</td>\n",
       "      <td>46.887892</td>\n",
       "      <td>44.628132</td>\n",
       "      <td>1.0</td>\n",
       "      <td>12</td>\n",
       "      <td>20.0</td>\n",
       "      <td>1977</td>\n",
       "      <td>0.007122</td>\n",
       "      <td>B</td>\n",
       "      <td>B</td>\n",
       "      <td>1</td>\n",
       "      <td>264</td>\n",
       "      <td>0</td>\n",
       "      <td>NaN</td>\n",
       "      <td>0</td>\n",
       "      <td>1</td>\n",
       "      <td>B</td>\n",
       "      <td>160400.401732</td>\n",
       "    </tr>\n",
       "    <tr>\n",
       "      <th>9</th>\n",
       "      <td>8094</td>\n",
       "      <td>6</td>\n",
       "      <td>3.0</td>\n",
       "      <td>79.867477</td>\n",
       "      <td>75.085125</td>\n",
       "      <td>1.0</td>\n",
       "      <td>3</td>\n",
       "      <td>17.0</td>\n",
       "      <td>2014</td>\n",
       "      <td>0.243205</td>\n",
       "      <td>B</td>\n",
       "      <td>B</td>\n",
       "      <td>5</td>\n",
       "      <td>1564</td>\n",
       "      <td>0</td>\n",
       "      <td>540.0</td>\n",
       "      <td>0</td>\n",
       "      <td>0</td>\n",
       "      <td>B</td>\n",
       "      <td>194756.023945</td>\n",
       "    </tr>\n",
       "  </tbody>\n",
       "</table>\n",
       "</div>"
      ],
      "text/plain": [
       "      Id  DistrictId  Rooms      Square  LifeSquare  KitchenSquare  Floor  \\\n",
       "0  11809          27    3.0  115.027311         NaN           10.0      4   \n",
       "1   3013          22    1.0   39.832524   23.169223            8.0      7   \n",
       "2   8215           1    3.0   78.342215   47.671972           10.0      2   \n",
       "3   2352           1    1.0   40.409907         NaN            1.0     10   \n",
       "4  13866          94    2.0   64.285067   38.562517            9.0     16   \n",
       "5   5804          99    3.0   62.528465   47.103833            6.0      9   \n",
       "6   8864          44    1.0   33.938750   21.772930            9.0      1   \n",
       "7  13072          59    2.0   50.391814   32.893256            8.0      8   \n",
       "8   9951           1    1.0   46.887892   44.628132            1.0     12   \n",
       "9   8094           6    3.0   79.867477   75.085125            1.0      3   \n",
       "\n",
       "   HouseFloor  HouseYear  Ecology_1 Ecology_2 Ecology_3  Social_1  Social_2  \\\n",
       "0        10.0       2014   0.075424         B         B        11      3097   \n",
       "1         8.0       1966   0.118537         B         B        30      6207   \n",
       "2        17.0       1988   0.025609         B         B        33      5261   \n",
       "3        22.0       1977   0.007122         B         B         1       264   \n",
       "4        16.0       1972   0.282798         B         B        33      8667   \n",
       "5         9.0       1972   0.012339         B         B        35      5776   \n",
       "6        12.0       1968   0.232205         B         B        24      4860   \n",
       "7        17.0       1986   0.019509         B         B        37      7687   \n",
       "8        20.0       1977   0.007122         B         B         1       264   \n",
       "9        17.0       2014   0.243205         B         B         5      1564   \n",
       "\n",
       "   Social_3  Healthcare_1  Helthcare_2  Shops_1 Shops_2          Price  \n",
       "0         0           NaN            0        0       B  305018.871089  \n",
       "1         1        1183.0            1        0       B  177734.553407  \n",
       "2         0         240.0            3        1       B  282078.720850  \n",
       "3         0           NaN            0        1       B  168106.007630  \n",
       "4         2           NaN            0        6       B  343995.102962  \n",
       "5         1        2078.0            2        4       B  161044.944138  \n",
       "6         1          80.0            0        3       B  142402.739272  \n",
       "7        11         176.0            5        5       B  326174.175191  \n",
       "8         0           NaN            0        1       B  160400.401732  \n",
       "9         0         540.0            0        0       B  194756.023945  "
      ]
     },
     "execution_count": 5,
     "metadata": {},
     "output_type": "execute_result"
    }
   ],
   "source": [
    "# Get the first 10 rows of train_df\n",
    "\n",
    "train_df.head(10)"
   ]
  },
  {
   "cell_type": "code",
   "execution_count": 6,
   "metadata": {},
   "outputs": [
    {
     "data": {
      "text/html": [
       "<div>\n",
       "<style scoped>\n",
       "    .dataframe tbody tr th:only-of-type {\n",
       "        vertical-align: middle;\n",
       "    }\n",
       "\n",
       "    .dataframe tbody tr th {\n",
       "        vertical-align: top;\n",
       "    }\n",
       "\n",
       "    .dataframe thead th {\n",
       "        text-align: right;\n",
       "    }\n",
       "</style>\n",
       "<table border=\"1\" class=\"dataframe\">\n",
       "  <thead>\n",
       "    <tr style=\"text-align: right;\">\n",
       "      <th></th>\n",
       "      <th>Id</th>\n",
       "      <th>DistrictId</th>\n",
       "      <th>Rooms</th>\n",
       "      <th>Square</th>\n",
       "      <th>LifeSquare</th>\n",
       "      <th>KitchenSquare</th>\n",
       "      <th>Floor</th>\n",
       "      <th>HouseFloor</th>\n",
       "      <th>HouseYear</th>\n",
       "      <th>Ecology_1</th>\n",
       "      <th>Ecology_2</th>\n",
       "      <th>Ecology_3</th>\n",
       "      <th>Social_1</th>\n",
       "      <th>Social_2</th>\n",
       "      <th>Social_3</th>\n",
       "      <th>Healthcare_1</th>\n",
       "      <th>Helthcare_2</th>\n",
       "      <th>Shops_1</th>\n",
       "      <th>Shops_2</th>\n",
       "    </tr>\n",
       "  </thead>\n",
       "  <tbody>\n",
       "    <tr>\n",
       "      <th>0</th>\n",
       "      <td>4567</td>\n",
       "      <td>44</td>\n",
       "      <td>1.0</td>\n",
       "      <td>36.847630</td>\n",
       "      <td>19.094182</td>\n",
       "      <td>5.0</td>\n",
       "      <td>5</td>\n",
       "      <td>9.0</td>\n",
       "      <td>1970</td>\n",
       "      <td>0.036122</td>\n",
       "      <td>B</td>\n",
       "      <td>B</td>\n",
       "      <td>24</td>\n",
       "      <td>4378</td>\n",
       "      <td>0</td>\n",
       "      <td>1036.0</td>\n",
       "      <td>1</td>\n",
       "      <td>1</td>\n",
       "      <td>B</td>\n",
       "    </tr>\n",
       "    <tr>\n",
       "      <th>1</th>\n",
       "      <td>5925</td>\n",
       "      <td>62</td>\n",
       "      <td>1.0</td>\n",
       "      <td>42.493907</td>\n",
       "      <td>42.568133</td>\n",
       "      <td>10.0</td>\n",
       "      <td>7</td>\n",
       "      <td>17.0</td>\n",
       "      <td>2017</td>\n",
       "      <td>0.072158</td>\n",
       "      <td>B</td>\n",
       "      <td>B</td>\n",
       "      <td>2</td>\n",
       "      <td>629</td>\n",
       "      <td>1</td>\n",
       "      <td>NaN</td>\n",
       "      <td>0</td>\n",
       "      <td>0</td>\n",
       "      <td>A</td>\n",
       "    </tr>\n",
       "    <tr>\n",
       "      <th>2</th>\n",
       "      <td>960</td>\n",
       "      <td>27</td>\n",
       "      <td>2.0</td>\n",
       "      <td>59.463678</td>\n",
       "      <td>NaN</td>\n",
       "      <td>9.0</td>\n",
       "      <td>19</td>\n",
       "      <td>19.0</td>\n",
       "      <td>1977</td>\n",
       "      <td>0.211401</td>\n",
       "      <td>B</td>\n",
       "      <td>B</td>\n",
       "      <td>9</td>\n",
       "      <td>1892</td>\n",
       "      <td>0</td>\n",
       "      <td>NaN</td>\n",
       "      <td>0</td>\n",
       "      <td>1</td>\n",
       "      <td>B</td>\n",
       "    </tr>\n",
       "    <tr>\n",
       "      <th>3</th>\n",
       "      <td>3848</td>\n",
       "      <td>23</td>\n",
       "      <td>3.0</td>\n",
       "      <td>49.646030</td>\n",
       "      <td>33.893825</td>\n",
       "      <td>6.0</td>\n",
       "      <td>2</td>\n",
       "      <td>2.0</td>\n",
       "      <td>1965</td>\n",
       "      <td>0.014073</td>\n",
       "      <td>B</td>\n",
       "      <td>B</td>\n",
       "      <td>2</td>\n",
       "      <td>475</td>\n",
       "      <td>0</td>\n",
       "      <td>NaN</td>\n",
       "      <td>0</td>\n",
       "      <td>0</td>\n",
       "      <td>B</td>\n",
       "    </tr>\n",
       "    <tr>\n",
       "      <th>4</th>\n",
       "      <td>746</td>\n",
       "      <td>74</td>\n",
       "      <td>1.0</td>\n",
       "      <td>53.837056</td>\n",
       "      <td>NaN</td>\n",
       "      <td>1.0</td>\n",
       "      <td>8</td>\n",
       "      <td>17.0</td>\n",
       "      <td>1977</td>\n",
       "      <td>0.309479</td>\n",
       "      <td>B</td>\n",
       "      <td>B</td>\n",
       "      <td>35</td>\n",
       "      <td>7715</td>\n",
       "      <td>4</td>\n",
       "      <td>990.0</td>\n",
       "      <td>0</td>\n",
       "      <td>6</td>\n",
       "      <td>B</td>\n",
       "    </tr>\n",
       "    <tr>\n",
       "      <th>5</th>\n",
       "      <td>868</td>\n",
       "      <td>38</td>\n",
       "      <td>3.0</td>\n",
       "      <td>87.139994</td>\n",
       "      <td>53.180419</td>\n",
       "      <td>10.0</td>\n",
       "      <td>4</td>\n",
       "      <td>23.0</td>\n",
       "      <td>2011</td>\n",
       "      <td>0.060753</td>\n",
       "      <td>B</td>\n",
       "      <td>B</td>\n",
       "      <td>15</td>\n",
       "      <td>2787</td>\n",
       "      <td>2</td>\n",
       "      <td>520.0</td>\n",
       "      <td>0</td>\n",
       "      <td>7</td>\n",
       "      <td>B</td>\n",
       "    </tr>\n",
       "    <tr>\n",
       "      <th>6</th>\n",
       "      <td>672</td>\n",
       "      <td>62</td>\n",
       "      <td>1.0</td>\n",
       "      <td>46.269456</td>\n",
       "      <td>22.820239</td>\n",
       "      <td>11.0</td>\n",
       "      <td>8</td>\n",
       "      <td>17.0</td>\n",
       "      <td>2014</td>\n",
       "      <td>0.072158</td>\n",
       "      <td>B</td>\n",
       "      <td>B</td>\n",
       "      <td>2</td>\n",
       "      <td>629</td>\n",
       "      <td>1</td>\n",
       "      <td>NaN</td>\n",
       "      <td>0</td>\n",
       "      <td>0</td>\n",
       "      <td>A</td>\n",
       "    </tr>\n",
       "    <tr>\n",
       "      <th>7</th>\n",
       "      <td>2471</td>\n",
       "      <td>2</td>\n",
       "      <td>2.0</td>\n",
       "      <td>48.172969</td>\n",
       "      <td>29.924204</td>\n",
       "      <td>6.0</td>\n",
       "      <td>4</td>\n",
       "      <td>9.0</td>\n",
       "      <td>1974</td>\n",
       "      <td>0.000000</td>\n",
       "      <td>B</td>\n",
       "      <td>B</td>\n",
       "      <td>33</td>\n",
       "      <td>7425</td>\n",
       "      <td>1</td>\n",
       "      <td>NaN</td>\n",
       "      <td>2</td>\n",
       "      <td>5</td>\n",
       "      <td>B</td>\n",
       "    </tr>\n",
       "    <tr>\n",
       "      <th>8</th>\n",
       "      <td>4510</td>\n",
       "      <td>1</td>\n",
       "      <td>1.0</td>\n",
       "      <td>43.153761</td>\n",
       "      <td>21.017596</td>\n",
       "      <td>9.0</td>\n",
       "      <td>10</td>\n",
       "      <td>17.0</td>\n",
       "      <td>2014</td>\n",
       "      <td>0.007122</td>\n",
       "      <td>B</td>\n",
       "      <td>B</td>\n",
       "      <td>1</td>\n",
       "      <td>264</td>\n",
       "      <td>0</td>\n",
       "      <td>NaN</td>\n",
       "      <td>0</td>\n",
       "      <td>1</td>\n",
       "      <td>B</td>\n",
       "    </tr>\n",
       "    <tr>\n",
       "      <th>9</th>\n",
       "      <td>8354</td>\n",
       "      <td>62</td>\n",
       "      <td>2.0</td>\n",
       "      <td>62.593787</td>\n",
       "      <td>59.786844</td>\n",
       "      <td>10.0</td>\n",
       "      <td>1</td>\n",
       "      <td>16.0</td>\n",
       "      <td>1981</td>\n",
       "      <td>0.002212</td>\n",
       "      <td>B</td>\n",
       "      <td>B</td>\n",
       "      <td>39</td>\n",
       "      <td>7614</td>\n",
       "      <td>3</td>\n",
       "      <td>NaN</td>\n",
       "      <td>1</td>\n",
       "      <td>5</td>\n",
       "      <td>A</td>\n",
       "    </tr>\n",
       "  </tbody>\n",
       "</table>\n",
       "</div>"
      ],
      "text/plain": [
       "     Id  DistrictId  Rooms     Square  LifeSquare  KitchenSquare  Floor  \\\n",
       "0  4567          44    1.0  36.847630   19.094182            5.0      5   \n",
       "1  5925          62    1.0  42.493907   42.568133           10.0      7   \n",
       "2   960          27    2.0  59.463678         NaN            9.0     19   \n",
       "3  3848          23    3.0  49.646030   33.893825            6.0      2   \n",
       "4   746          74    1.0  53.837056         NaN            1.0      8   \n",
       "5   868          38    3.0  87.139994   53.180419           10.0      4   \n",
       "6   672          62    1.0  46.269456   22.820239           11.0      8   \n",
       "7  2471           2    2.0  48.172969   29.924204            6.0      4   \n",
       "8  4510           1    1.0  43.153761   21.017596            9.0     10   \n",
       "9  8354          62    2.0  62.593787   59.786844           10.0      1   \n",
       "\n",
       "   HouseFloor  HouseYear  Ecology_1 Ecology_2 Ecology_3  Social_1  Social_2  \\\n",
       "0         9.0       1970   0.036122         B         B        24      4378   \n",
       "1        17.0       2017   0.072158         B         B         2       629   \n",
       "2        19.0       1977   0.211401         B         B         9      1892   \n",
       "3         2.0       1965   0.014073         B         B         2       475   \n",
       "4        17.0       1977   0.309479         B         B        35      7715   \n",
       "5        23.0       2011   0.060753         B         B        15      2787   \n",
       "6        17.0       2014   0.072158         B         B         2       629   \n",
       "7         9.0       1974   0.000000         B         B        33      7425   \n",
       "8        17.0       2014   0.007122         B         B         1       264   \n",
       "9        16.0       1981   0.002212         B         B        39      7614   \n",
       "\n",
       "   Social_3  Healthcare_1  Helthcare_2  Shops_1 Shops_2  \n",
       "0         0        1036.0            1        1       B  \n",
       "1         1           NaN            0        0       A  \n",
       "2         0           NaN            0        1       B  \n",
       "3         0           NaN            0        0       B  \n",
       "4         4         990.0            0        6       B  \n",
       "5         2         520.0            0        7       B  \n",
       "6         1           NaN            0        0       A  \n",
       "7         1           NaN            2        5       B  \n",
       "8         0           NaN            0        1       B  \n",
       "9         3           NaN            1        5       A  "
      ]
     },
     "execution_count": 6,
     "metadata": {},
     "output_type": "execute_result"
    }
   ],
   "source": [
    "# Get the first 10 rows of test_df\n",
    "\n",
    "test_df.head(10)"
   ]
  },
  {
   "cell_type": "code",
   "execution_count": 7,
   "metadata": {},
   "outputs": [
    {
     "name": "stdout",
     "output_type": "stream",
     "text": [
      "<class 'pandas.core.frame.DataFrame'>\n",
      "RangeIndex: 10000 entries, 0 to 9999\n",
      "Data columns (total 20 columns):\n",
      "Id               10000 non-null int64\n",
      "DistrictId       10000 non-null int64\n",
      "Rooms            10000 non-null float64\n",
      "Square           10000 non-null float64\n",
      "LifeSquare       7887 non-null float64\n",
      "KitchenSquare    10000 non-null float64\n",
      "Floor            10000 non-null int64\n",
      "HouseFloor       10000 non-null float64\n",
      "HouseYear        10000 non-null int64\n",
      "Ecology_1        10000 non-null float64\n",
      "Ecology_2        10000 non-null object\n",
      "Ecology_3        10000 non-null object\n",
      "Social_1         10000 non-null int64\n",
      "Social_2         10000 non-null int64\n",
      "Social_3         10000 non-null int64\n",
      "Healthcare_1     5202 non-null float64\n",
      "Helthcare_2      10000 non-null int64\n",
      "Shops_1          10000 non-null int64\n",
      "Shops_2          10000 non-null object\n",
      "Price            10000 non-null float64\n",
      "dtypes: float64(8), int64(9), object(3)\n",
      "memory usage: 1.5+ MB\n"
     ]
    }
   ],
   "source": [
    "train_df.info()"
   ]
  },
  {
   "cell_type": "code",
   "execution_count": 8,
   "metadata": {},
   "outputs": [
    {
     "name": "stdout",
     "output_type": "stream",
     "text": [
      "<class 'pandas.core.frame.DataFrame'>\n",
      "RangeIndex: 5000 entries, 0 to 4999\n",
      "Data columns (total 19 columns):\n",
      "Id               5000 non-null int64\n",
      "DistrictId       5000 non-null int64\n",
      "Rooms            5000 non-null float64\n",
      "Square           5000 non-null float64\n",
      "LifeSquare       3959 non-null float64\n",
      "KitchenSquare    5000 non-null float64\n",
      "Floor            5000 non-null int64\n",
      "HouseFloor       5000 non-null float64\n",
      "HouseYear        5000 non-null int64\n",
      "Ecology_1        5000 non-null float64\n",
      "Ecology_2        5000 non-null object\n",
      "Ecology_3        5000 non-null object\n",
      "Social_1         5000 non-null int64\n",
      "Social_2         5000 non-null int64\n",
      "Social_3         5000 non-null int64\n",
      "Healthcare_1     2623 non-null float64\n",
      "Helthcare_2      5000 non-null int64\n",
      "Shops_1          5000 non-null int64\n",
      "Shops_2          5000 non-null object\n",
      "dtypes: float64(7), int64(9), object(3)\n",
      "memory usage: 742.3+ KB\n"
     ]
    }
   ],
   "source": [
    "test_df.info()"
   ]
  },
  {
   "cell_type": "markdown",
   "metadata": {},
   "source": [
    "**Memory usage optimization**<a class='anchor' id='optim'>"
   ]
  },
  {
   "cell_type": "markdown",
   "metadata": {},
   "source": [
    "Using **float64** format for number of Rooms and HouseFloor might be wrong, let's change it to **int64**"
   ]
  },
  {
   "cell_type": "code",
   "execution_count": 9,
   "metadata": {},
   "outputs": [],
   "source": [
    "# Rooms\n",
    "\n",
    "train_df['Rooms'] = train_df['Rooms'].astype('int64')\n",
    "test_df['Rooms'] = test_df['Rooms'].astype('int64')\n",
    "\n",
    "# House Floor\n",
    "\n",
    "train_df['HouseFloor'] = train_df['HouseFloor'].astype('int64')\n",
    "test_df['HouseFloor'] = test_df['HouseFloor'].astype('int64')"
   ]
  },
  {
   "cell_type": "markdown",
   "metadata": {},
   "source": [
    "We can apply our function optimizing_df as well"
   ]
  },
  {
   "cell_type": "code",
   "execution_count": 10,
   "metadata": {},
   "outputs": [],
   "source": [
    "train_df = optimizing_df(train_df)\n",
    "test_df = optimizing_df(test_df)"
   ]
  },
  {
   "cell_type": "markdown",
   "metadata": {},
   "source": [
    "Call the info now on both of the dataframes"
   ]
  },
  {
   "cell_type": "code",
   "execution_count": 11,
   "metadata": {},
   "outputs": [
    {
     "name": "stdout",
     "output_type": "stream",
     "text": [
      "<class 'pandas.core.frame.DataFrame'>\n",
      "RangeIndex: 10000 entries, 0 to 9999\n",
      "Data columns (total 20 columns):\n",
      "Id               10000 non-null uint16\n",
      "DistrictId       10000 non-null uint8\n",
      "Rooms            10000 non-null uint8\n",
      "Square           10000 non-null float32\n",
      "LifeSquare       7887 non-null float32\n",
      "KitchenSquare    10000 non-null float32\n",
      "Floor            10000 non-null uint8\n",
      "HouseFloor       10000 non-null uint8\n",
      "HouseYear        10000 non-null uint32\n",
      "Ecology_1        10000 non-null float32\n",
      "Ecology_2        10000 non-null category\n",
      "Ecology_3        10000 non-null category\n",
      "Social_1         10000 non-null uint8\n",
      "Social_2         10000 non-null uint16\n",
      "Social_3         10000 non-null uint8\n",
      "Healthcare_1     5202 non-null float32\n",
      "Helthcare_2      10000 non-null uint8\n",
      "Shops_1          10000 non-null uint8\n",
      "Shops_2          10000 non-null category\n",
      "Price            10000 non-null float32\n",
      "dtypes: category(3), float32(6), uint16(2), uint32(1), uint8(8)\n",
      "memory usage: 420.7 KB\n"
     ]
    }
   ],
   "source": [
    "train_df.info(memory_usage = 'deep')"
   ]
  },
  {
   "cell_type": "code",
   "execution_count": 12,
   "metadata": {},
   "outputs": [
    {
     "name": "stdout",
     "output_type": "stream",
     "text": [
      "<class 'pandas.core.frame.DataFrame'>\n",
      "RangeIndex: 5000 entries, 0 to 4999\n",
      "Data columns (total 19 columns):\n",
      "Id               5000 non-null uint16\n",
      "DistrictId       5000 non-null uint8\n",
      "Rooms            5000 non-null uint8\n",
      "Square           5000 non-null float32\n",
      "LifeSquare       3959 non-null float32\n",
      "KitchenSquare    5000 non-null float32\n",
      "Floor            5000 non-null uint8\n",
      "HouseFloor       5000 non-null uint8\n",
      "HouseYear        5000 non-null uint16\n",
      "Ecology_1        5000 non-null float32\n",
      "Ecology_2        5000 non-null category\n",
      "Ecology_3        5000 non-null category\n",
      "Social_1         5000 non-null uint8\n",
      "Social_2         5000 non-null uint16\n",
      "Social_3         5000 non-null uint8\n",
      "Healthcare_1     2623 non-null float32\n",
      "Helthcare_2      5000 non-null uint8\n",
      "Shops_1          5000 non-null uint8\n",
      "Shops_2          5000 non-null category\n",
      "dtypes: category(3), float32(5), uint16(3), uint8(8)\n",
      "memory usage: 181.4 KB\n"
     ]
    }
   ],
   "source": [
    "test_df.info(memory_usage = 'deep')"
   ]
  },
  {
   "cell_type": "markdown",
   "metadata": {},
   "source": [
    "---"
   ]
  },
  {
   "cell_type": "markdown",
   "metadata": {},
   "source": [
    "## EDA <a class='anchor' id='eda'>"
   ]
  },
  {
   "cell_type": "markdown",
   "metadata": {},
   "source": [
    "**Exploratory Data Analysis**"
   ]
  },
  {
   "cell_type": "code",
   "execution_count": 13,
   "metadata": {},
   "outputs": [
    {
     "data": {
      "text/plain": [
       "(15000, 19)"
      ]
     },
     "execution_count": 13,
     "metadata": {},
     "output_type": "execute_result"
    }
   ],
   "source": [
    "# Concat both of the dfs and drop the index\n",
    "\n",
    "data_df = pd.concat((train_df, test_df), sort = False).reset_index(drop = True)\n",
    "\n",
    "# Drop the Price column\n",
    "\n",
    "data_df.drop(['Price'], axis = 1, inplace = True)\n",
    "\n",
    "# Check the shape of data_df\n",
    "\n",
    "data_df.shape"
   ]
  },
  {
   "cell_type": "code",
   "execution_count": 14,
   "metadata": {},
   "outputs": [
    {
     "data": {
      "text/html": [
       "<div>\n",
       "<style scoped>\n",
       "    .dataframe tbody tr th:only-of-type {\n",
       "        vertical-align: middle;\n",
       "    }\n",
       "\n",
       "    .dataframe tbody tr th {\n",
       "        vertical-align: top;\n",
       "    }\n",
       "\n",
       "    .dataframe thead th {\n",
       "        text-align: right;\n",
       "    }\n",
       "</style>\n",
       "<table border=\"1\" class=\"dataframe\">\n",
       "  <thead>\n",
       "    <tr style=\"text-align: right;\">\n",
       "      <th></th>\n",
       "      <th>count</th>\n",
       "      <th>mean</th>\n",
       "      <th>std</th>\n",
       "      <th>min</th>\n",
       "      <th>25%</th>\n",
       "      <th>50%</th>\n",
       "      <th>75%</th>\n",
       "      <th>max</th>\n",
       "    </tr>\n",
       "  </thead>\n",
       "  <tbody>\n",
       "    <tr>\n",
       "      <th>Id</th>\n",
       "      <td>15000.0</td>\n",
       "      <td>8393.136933</td>\n",
       "      <td>4850.111673</td>\n",
       "      <td>0.000000</td>\n",
       "      <td>4188.750000</td>\n",
       "      <td>8378.500000</td>\n",
       "      <td>12594.250000</td>\n",
       "      <td>1.679800e+04</td>\n",
       "    </tr>\n",
       "    <tr>\n",
       "      <th>DistrictId</th>\n",
       "      <td>15000.0</td>\n",
       "      <td>50.693600</td>\n",
       "      <td>43.786257</td>\n",
       "      <td>0.000000</td>\n",
       "      <td>20.000000</td>\n",
       "      <td>37.000000</td>\n",
       "      <td>75.000000</td>\n",
       "      <td>2.120000e+02</td>\n",
       "    </tr>\n",
       "    <tr>\n",
       "      <th>Rooms</th>\n",
       "      <td>15000.0</td>\n",
       "      <td>1.897000</td>\n",
       "      <td>0.839229</td>\n",
       "      <td>0.000000</td>\n",
       "      <td>1.000000</td>\n",
       "      <td>2.000000</td>\n",
       "      <td>2.000000</td>\n",
       "      <td>1.900000e+01</td>\n",
       "    </tr>\n",
       "    <tr>\n",
       "      <th>Square</th>\n",
       "      <td>15000.0</td>\n",
       "      <td>56.360352</td>\n",
       "      <td>20.423912</td>\n",
       "      <td>1.136859</td>\n",
       "      <td>41.814370</td>\n",
       "      <td>52.645758</td>\n",
       "      <td>66.036606</td>\n",
       "      <td>6.410652e+02</td>\n",
       "    </tr>\n",
       "    <tr>\n",
       "      <th>LifeSquare</th>\n",
       "      <td>11846.0</td>\n",
       "      <td>36.851791</td>\n",
       "      <td>71.120186</td>\n",
       "      <td>0.333490</td>\n",
       "      <td>22.896130</td>\n",
       "      <td>32.822811</td>\n",
       "      <td>45.144627</td>\n",
       "      <td>7.480592e+03</td>\n",
       "    </tr>\n",
       "    <tr>\n",
       "      <th>KitchenSquare</th>\n",
       "      <td>15000.0</td>\n",
       "      <td>6.174467</td>\n",
       "      <td>24.016979</td>\n",
       "      <td>0.000000</td>\n",
       "      <td>1.000000</td>\n",
       "      <td>6.000000</td>\n",
       "      <td>9.000000</td>\n",
       "      <td>2.014000e+03</td>\n",
       "    </tr>\n",
       "    <tr>\n",
       "      <th>Floor</th>\n",
       "      <td>15000.0</td>\n",
       "      <td>8.561800</td>\n",
       "      <td>5.323113</td>\n",
       "      <td>1.000000</td>\n",
       "      <td>4.000000</td>\n",
       "      <td>7.000000</td>\n",
       "      <td>12.000000</td>\n",
       "      <td>7.800000e+01</td>\n",
       "    </tr>\n",
       "    <tr>\n",
       "      <th>HouseFloor</th>\n",
       "      <td>15000.0</td>\n",
       "      <td>12.606600</td>\n",
       "      <td>6.780165</td>\n",
       "      <td>0.000000</td>\n",
       "      <td>9.000000</td>\n",
       "      <td>12.000000</td>\n",
       "      <td>17.000000</td>\n",
       "      <td>1.170000e+02</td>\n",
       "    </tr>\n",
       "    <tr>\n",
       "      <th>HouseYear</th>\n",
       "      <td>15000.0</td>\n",
       "      <td>3321.575067</td>\n",
       "      <td>163707.780381</td>\n",
       "      <td>1908.000000</td>\n",
       "      <td>1974.000000</td>\n",
       "      <td>1977.000000</td>\n",
       "      <td>2001.000000</td>\n",
       "      <td>2.005201e+07</td>\n",
       "    </tr>\n",
       "    <tr>\n",
       "      <th>Ecology_1</th>\n",
       "      <td>15000.0</td>\n",
       "      <td>0.119196</td>\n",
       "      <td>0.119371</td>\n",
       "      <td>0.000000</td>\n",
       "      <td>0.017647</td>\n",
       "      <td>0.075424</td>\n",
       "      <td>0.195781</td>\n",
       "      <td>5.218670e-01</td>\n",
       "    </tr>\n",
       "    <tr>\n",
       "      <th>Social_1</th>\n",
       "      <td>15000.0</td>\n",
       "      <td>24.769267</td>\n",
       "      <td>17.532278</td>\n",
       "      <td>0.000000</td>\n",
       "      <td>6.000000</td>\n",
       "      <td>25.000000</td>\n",
       "      <td>36.000000</td>\n",
       "      <td>7.400000e+01</td>\n",
       "    </tr>\n",
       "    <tr>\n",
       "      <th>Social_2</th>\n",
       "      <td>15000.0</td>\n",
       "      <td>5370.404933</td>\n",
       "      <td>4013.364403</td>\n",
       "      <td>168.000000</td>\n",
       "      <td>1564.000000</td>\n",
       "      <td>5285.000000</td>\n",
       "      <td>7287.000000</td>\n",
       "      <td>1.908300e+04</td>\n",
       "    </tr>\n",
       "    <tr>\n",
       "      <th>Social_3</th>\n",
       "      <td>15000.0</td>\n",
       "      <td>8.113667</td>\n",
       "      <td>23.841946</td>\n",
       "      <td>0.000000</td>\n",
       "      <td>0.000000</td>\n",
       "      <td>2.000000</td>\n",
       "      <td>5.000000</td>\n",
       "      <td>1.410000e+02</td>\n",
       "    </tr>\n",
       "    <tr>\n",
       "      <th>Healthcare_1</th>\n",
       "      <td>7825.0</td>\n",
       "      <td>1144.162476</td>\n",
       "      <td>1029.296265</td>\n",
       "      <td>0.000000</td>\n",
       "      <td>350.000000</td>\n",
       "      <td>900.000000</td>\n",
       "      <td>1548.000000</td>\n",
       "      <td>4.849000e+03</td>\n",
       "    </tr>\n",
       "    <tr>\n",
       "      <th>Helthcare_2</th>\n",
       "      <td>15000.0</td>\n",
       "      <td>1.319467</td>\n",
       "      <td>1.489012</td>\n",
       "      <td>0.000000</td>\n",
       "      <td>0.000000</td>\n",
       "      <td>1.000000</td>\n",
       "      <td>2.000000</td>\n",
       "      <td>6.000000e+00</td>\n",
       "    </tr>\n",
       "    <tr>\n",
       "      <th>Shops_1</th>\n",
       "      <td>15000.0</td>\n",
       "      <td>4.235133</td>\n",
       "      <td>4.796545</td>\n",
       "      <td>0.000000</td>\n",
       "      <td>1.000000</td>\n",
       "      <td>3.000000</td>\n",
       "      <td>6.000000</td>\n",
       "      <td>2.300000e+01</td>\n",
       "    </tr>\n",
       "  </tbody>\n",
       "</table>\n",
       "</div>"
      ],
      "text/plain": [
       "                 count         mean            std          min          25%  \\\n",
       "Id             15000.0  8393.136933    4850.111673     0.000000  4188.750000   \n",
       "DistrictId     15000.0    50.693600      43.786257     0.000000    20.000000   \n",
       "Rooms          15000.0     1.897000       0.839229     0.000000     1.000000   \n",
       "Square         15000.0    56.360352      20.423912     1.136859    41.814370   \n",
       "LifeSquare     11846.0    36.851791      71.120186     0.333490    22.896130   \n",
       "KitchenSquare  15000.0     6.174467      24.016979     0.000000     1.000000   \n",
       "Floor          15000.0     8.561800       5.323113     1.000000     4.000000   \n",
       "HouseFloor     15000.0    12.606600       6.780165     0.000000     9.000000   \n",
       "HouseYear      15000.0  3321.575067  163707.780381  1908.000000  1974.000000   \n",
       "Ecology_1      15000.0     0.119196       0.119371     0.000000     0.017647   \n",
       "Social_1       15000.0    24.769267      17.532278     0.000000     6.000000   \n",
       "Social_2       15000.0  5370.404933    4013.364403   168.000000  1564.000000   \n",
       "Social_3       15000.0     8.113667      23.841946     0.000000     0.000000   \n",
       "Healthcare_1    7825.0  1144.162476    1029.296265     0.000000   350.000000   \n",
       "Helthcare_2    15000.0     1.319467       1.489012     0.000000     0.000000   \n",
       "Shops_1        15000.0     4.235133       4.796545     0.000000     1.000000   \n",
       "\n",
       "                       50%           75%           max  \n",
       "Id             8378.500000  12594.250000  1.679800e+04  \n",
       "DistrictId       37.000000     75.000000  2.120000e+02  \n",
       "Rooms             2.000000      2.000000  1.900000e+01  \n",
       "Square           52.645758     66.036606  6.410652e+02  \n",
       "LifeSquare       32.822811     45.144627  7.480592e+03  \n",
       "KitchenSquare     6.000000      9.000000  2.014000e+03  \n",
       "Floor             7.000000     12.000000  7.800000e+01  \n",
       "HouseFloor       12.000000     17.000000  1.170000e+02  \n",
       "HouseYear      1977.000000   2001.000000  2.005201e+07  \n",
       "Ecology_1         0.075424      0.195781  5.218670e-01  \n",
       "Social_1         25.000000     36.000000  7.400000e+01  \n",
       "Social_2       5285.000000   7287.000000  1.908300e+04  \n",
       "Social_3          2.000000      5.000000  1.410000e+02  \n",
       "Healthcare_1    900.000000   1548.000000  4.849000e+03  \n",
       "Helthcare_2       1.000000      2.000000  6.000000e+00  \n",
       "Shops_1           3.000000      6.000000  2.300000e+01  "
      ]
     },
     "execution_count": 14,
     "metadata": {},
     "output_type": "execute_result"
    }
   ],
   "source": [
    "data_df.describe().transpose()"
   ]
  },
  {
   "cell_type": "markdown",
   "metadata": {},
   "source": [
    "**Rooms**<a class='anchor' id='rooms'>"
   ]
  },
  {
   "cell_type": "markdown",
   "metadata": {},
   "source": [
    "The first stop, which has to be fixed, is the **Rooms** column partly due to the min and max values"
   ]
  },
  {
   "cell_type": "code",
   "execution_count": 15,
   "metadata": {},
   "outputs": [
    {
     "data": {
      "text/html": [
       "<div>\n",
       "<style scoped>\n",
       "    .dataframe tbody tr th:only-of-type {\n",
       "        vertical-align: middle;\n",
       "    }\n",
       "\n",
       "    .dataframe tbody tr th {\n",
       "        vertical-align: top;\n",
       "    }\n",
       "\n",
       "    .dataframe thead th {\n",
       "        text-align: right;\n",
       "    }\n",
       "</style>\n",
       "<table border=\"1\" class=\"dataframe\">\n",
       "  <thead>\n",
       "    <tr style=\"text-align: right;\">\n",
       "      <th></th>\n",
       "      <th>Id</th>\n",
       "      <th>DistrictId</th>\n",
       "      <th>Rooms</th>\n",
       "      <th>Square</th>\n",
       "      <th>LifeSquare</th>\n",
       "      <th>KitchenSquare</th>\n",
       "      <th>Floor</th>\n",
       "      <th>HouseFloor</th>\n",
       "      <th>HouseYear</th>\n",
       "      <th>Ecology_1</th>\n",
       "      <th>Ecology_2</th>\n",
       "      <th>Ecology_3</th>\n",
       "      <th>Social_1</th>\n",
       "      <th>Social_2</th>\n",
       "      <th>Social_3</th>\n",
       "      <th>Healthcare_1</th>\n",
       "      <th>Helthcare_2</th>\n",
       "      <th>Shops_1</th>\n",
       "      <th>Shops_2</th>\n",
       "    </tr>\n",
       "  </thead>\n",
       "  <tbody>\n",
       "    <tr>\n",
       "      <th>2004</th>\n",
       "      <td>5927</td>\n",
       "      <td>57</td>\n",
       "      <td>10</td>\n",
       "      <td>59.056976</td>\n",
       "      <td>36.223072</td>\n",
       "      <td>10.0</td>\n",
       "      <td>22</td>\n",
       "      <td>22</td>\n",
       "      <td>2002</td>\n",
       "      <td>0.090799</td>\n",
       "      <td>B</td>\n",
       "      <td>B</td>\n",
       "      <td>74</td>\n",
       "      <td>19083</td>\n",
       "      <td>2</td>\n",
       "      <td>NaN</td>\n",
       "      <td>5</td>\n",
       "      <td>15</td>\n",
       "      <td>B</td>\n",
       "    </tr>\n",
       "    <tr>\n",
       "      <th>2728</th>\n",
       "      <td>14865</td>\n",
       "      <td>9</td>\n",
       "      <td>10</td>\n",
       "      <td>60.871265</td>\n",
       "      <td>38.420681</td>\n",
       "      <td>10.0</td>\n",
       "      <td>3</td>\n",
       "      <td>2</td>\n",
       "      <td>1994</td>\n",
       "      <td>0.161532</td>\n",
       "      <td>B</td>\n",
       "      <td>B</td>\n",
       "      <td>25</td>\n",
       "      <td>5648</td>\n",
       "      <td>1</td>\n",
       "      <td>30.0</td>\n",
       "      <td>2</td>\n",
       "      <td>4</td>\n",
       "      <td>B</td>\n",
       "    </tr>\n",
       "    <tr>\n",
       "      <th>6088</th>\n",
       "      <td>8491</td>\n",
       "      <td>1</td>\n",
       "      <td>19</td>\n",
       "      <td>42.006046</td>\n",
       "      <td>21.779287</td>\n",
       "      <td>7.0</td>\n",
       "      <td>17</td>\n",
       "      <td>17</td>\n",
       "      <td>2014</td>\n",
       "      <td>0.007122</td>\n",
       "      <td>B</td>\n",
       "      <td>B</td>\n",
       "      <td>1</td>\n",
       "      <td>264</td>\n",
       "      <td>0</td>\n",
       "      <td>NaN</td>\n",
       "      <td>0</td>\n",
       "      <td>1</td>\n",
       "      <td>B</td>\n",
       "    </tr>\n",
       "    <tr>\n",
       "      <th>11981</th>\n",
       "      <td>1435</td>\n",
       "      <td>111</td>\n",
       "      <td>17</td>\n",
       "      <td>52.866108</td>\n",
       "      <td>32.528343</td>\n",
       "      <td>8.0</td>\n",
       "      <td>15</td>\n",
       "      <td>17</td>\n",
       "      <td>1987</td>\n",
       "      <td>0.093443</td>\n",
       "      <td>B</td>\n",
       "      <td>B</td>\n",
       "      <td>23</td>\n",
       "      <td>4635</td>\n",
       "      <td>5</td>\n",
       "      <td>3300.0</td>\n",
       "      <td>2</td>\n",
       "      <td>4</td>\n",
       "      <td>B</td>\n",
       "    </tr>\n",
       "  </tbody>\n",
       "</table>\n",
       "</div>"
      ],
      "text/plain": [
       "          Id  DistrictId  Rooms     Square  LifeSquare  KitchenSquare  Floor  \\\n",
       "2004    5927          57     10  59.056976   36.223072           10.0     22   \n",
       "2728   14865           9     10  60.871265   38.420681           10.0      3   \n",
       "6088    8491           1     19  42.006046   21.779287            7.0     17   \n",
       "11981   1435         111     17  52.866108   32.528343            8.0     15   \n",
       "\n",
       "       HouseFloor  HouseYear  Ecology_1 Ecology_2 Ecology_3  Social_1  \\\n",
       "2004           22       2002   0.090799         B         B        74   \n",
       "2728            2       1994   0.161532         B         B        25   \n",
       "6088           17       2014   0.007122         B         B         1   \n",
       "11981          17       1987   0.093443         B         B        23   \n",
       "\n",
       "       Social_2  Social_3  Healthcare_1  Helthcare_2  Shops_1 Shops_2  \n",
       "2004      19083         2           NaN            5       15       B  \n",
       "2728       5648         1          30.0            2        4       B  \n",
       "6088        264         0           NaN            0        1       B  \n",
       "11981      4635         5        3300.0            2        4       B  "
      ]
     },
     "execution_count": 15,
     "metadata": {},
     "output_type": "execute_result"
    }
   ],
   "source": [
    "data_df.loc[data_df['Rooms'] > 6]"
   ]
  },
  {
   "cell_type": "code",
   "execution_count": 16,
   "metadata": {},
   "outputs": [
    {
     "data": {
      "text/html": [
       "<div>\n",
       "<style scoped>\n",
       "    .dataframe tbody tr th:only-of-type {\n",
       "        vertical-align: middle;\n",
       "    }\n",
       "\n",
       "    .dataframe tbody tr th {\n",
       "        vertical-align: top;\n",
       "    }\n",
       "\n",
       "    .dataframe thead th {\n",
       "        text-align: right;\n",
       "    }\n",
       "</style>\n",
       "<table border=\"1\" class=\"dataframe\">\n",
       "  <thead>\n",
       "    <tr style=\"text-align: right;\">\n",
       "      <th></th>\n",
       "      <th>Id</th>\n",
       "      <th>DistrictId</th>\n",
       "      <th>Rooms</th>\n",
       "      <th>Square</th>\n",
       "      <th>LifeSquare</th>\n",
       "      <th>KitchenSquare</th>\n",
       "      <th>Floor</th>\n",
       "      <th>HouseFloor</th>\n",
       "      <th>HouseYear</th>\n",
       "      <th>Ecology_1</th>\n",
       "      <th>Ecology_2</th>\n",
       "      <th>Ecology_3</th>\n",
       "      <th>Social_1</th>\n",
       "      <th>Social_2</th>\n",
       "      <th>Social_3</th>\n",
       "      <th>Healthcare_1</th>\n",
       "      <th>Helthcare_2</th>\n",
       "      <th>Shops_1</th>\n",
       "      <th>Shops_2</th>\n",
       "    </tr>\n",
       "  </thead>\n",
       "  <tbody>\n",
       "    <tr>\n",
       "      <th>2194</th>\n",
       "      <td>3159</td>\n",
       "      <td>88</td>\n",
       "      <td>0</td>\n",
       "      <td>38.697117</td>\n",
       "      <td>19.345131</td>\n",
       "      <td>9.0</td>\n",
       "      <td>9</td>\n",
       "      <td>16</td>\n",
       "      <td>1982</td>\n",
       "      <td>0.127376</td>\n",
       "      <td>B</td>\n",
       "      <td>B</td>\n",
       "      <td>43</td>\n",
       "      <td>8429</td>\n",
       "      <td>3</td>\n",
       "      <td>NaN</td>\n",
       "      <td>3</td>\n",
       "      <td>9</td>\n",
       "      <td>B</td>\n",
       "    </tr>\n",
       "    <tr>\n",
       "      <th>3780</th>\n",
       "      <td>7317</td>\n",
       "      <td>27</td>\n",
       "      <td>0</td>\n",
       "      <td>41.790882</td>\n",
       "      <td>NaN</td>\n",
       "      <td>0.0</td>\n",
       "      <td>13</td>\n",
       "      <td>0</td>\n",
       "      <td>1977</td>\n",
       "      <td>0.211401</td>\n",
       "      <td>B</td>\n",
       "      <td>B</td>\n",
       "      <td>9</td>\n",
       "      <td>1892</td>\n",
       "      <td>0</td>\n",
       "      <td>NaN</td>\n",
       "      <td>0</td>\n",
       "      <td>1</td>\n",
       "      <td>B</td>\n",
       "    </tr>\n",
       "    <tr>\n",
       "      <th>5894</th>\n",
       "      <td>770</td>\n",
       "      <td>28</td>\n",
       "      <td>0</td>\n",
       "      <td>49.483501</td>\n",
       "      <td>NaN</td>\n",
       "      <td>0.0</td>\n",
       "      <td>16</td>\n",
       "      <td>0</td>\n",
       "      <td>2015</td>\n",
       "      <td>0.118537</td>\n",
       "      <td>B</td>\n",
       "      <td>B</td>\n",
       "      <td>30</td>\n",
       "      <td>6207</td>\n",
       "      <td>1</td>\n",
       "      <td>1183.0</td>\n",
       "      <td>1</td>\n",
       "      <td>0</td>\n",
       "      <td>B</td>\n",
       "    </tr>\n",
       "    <tr>\n",
       "      <th>6401</th>\n",
       "      <td>9443</td>\n",
       "      <td>27</td>\n",
       "      <td>0</td>\n",
       "      <td>87.762619</td>\n",
       "      <td>85.125473</td>\n",
       "      <td>0.0</td>\n",
       "      <td>5</td>\n",
       "      <td>15</td>\n",
       "      <td>1977</td>\n",
       "      <td>0.211401</td>\n",
       "      <td>B</td>\n",
       "      <td>B</td>\n",
       "      <td>9</td>\n",
       "      <td>1892</td>\n",
       "      <td>0</td>\n",
       "      <td>NaN</td>\n",
       "      <td>0</td>\n",
       "      <td>1</td>\n",
       "      <td>B</td>\n",
       "    </tr>\n",
       "    <tr>\n",
       "      <th>7644</th>\n",
       "      <td>7917</td>\n",
       "      <td>27</td>\n",
       "      <td>0</td>\n",
       "      <td>212.932358</td>\n",
       "      <td>211.231125</td>\n",
       "      <td>0.0</td>\n",
       "      <td>2</td>\n",
       "      <td>3</td>\n",
       "      <td>2008</td>\n",
       "      <td>0.211401</td>\n",
       "      <td>B</td>\n",
       "      <td>B</td>\n",
       "      <td>9</td>\n",
       "      <td>1892</td>\n",
       "      <td>0</td>\n",
       "      <td>NaN</td>\n",
       "      <td>0</td>\n",
       "      <td>1</td>\n",
       "      <td>B</td>\n",
       "    </tr>\n",
       "    <tr>\n",
       "      <th>7929</th>\n",
       "      <td>456</td>\n",
       "      <td>6</td>\n",
       "      <td>0</td>\n",
       "      <td>81.491447</td>\n",
       "      <td>NaN</td>\n",
       "      <td>0.0</td>\n",
       "      <td>4</td>\n",
       "      <td>0</td>\n",
       "      <td>1977</td>\n",
       "      <td>0.243205</td>\n",
       "      <td>B</td>\n",
       "      <td>B</td>\n",
       "      <td>5</td>\n",
       "      <td>1564</td>\n",
       "      <td>0</td>\n",
       "      <td>540.0</td>\n",
       "      <td>0</td>\n",
       "      <td>0</td>\n",
       "      <td>B</td>\n",
       "    </tr>\n",
       "    <tr>\n",
       "      <th>9767</th>\n",
       "      <td>12638</td>\n",
       "      <td>27</td>\n",
       "      <td>0</td>\n",
       "      <td>138.427689</td>\n",
       "      <td>136.215500</td>\n",
       "      <td>0.0</td>\n",
       "      <td>4</td>\n",
       "      <td>3</td>\n",
       "      <td>2016</td>\n",
       "      <td>0.075424</td>\n",
       "      <td>B</td>\n",
       "      <td>B</td>\n",
       "      <td>11</td>\n",
       "      <td>3097</td>\n",
       "      <td>0</td>\n",
       "      <td>NaN</td>\n",
       "      <td>0</td>\n",
       "      <td>0</td>\n",
       "      <td>B</td>\n",
       "    </tr>\n",
       "    <tr>\n",
       "      <th>9869</th>\n",
       "      <td>3224</td>\n",
       "      <td>27</td>\n",
       "      <td>0</td>\n",
       "      <td>2.377248</td>\n",
       "      <td>0.873147</td>\n",
       "      <td>0.0</td>\n",
       "      <td>1</td>\n",
       "      <td>0</td>\n",
       "      <td>1977</td>\n",
       "      <td>0.017647</td>\n",
       "      <td>B</td>\n",
       "      <td>B</td>\n",
       "      <td>2</td>\n",
       "      <td>469</td>\n",
       "      <td>0</td>\n",
       "      <td>NaN</td>\n",
       "      <td>0</td>\n",
       "      <td>0</td>\n",
       "      <td>B</td>\n",
       "    </tr>\n",
       "    <tr>\n",
       "      <th>10961</th>\n",
       "      <td>3343</td>\n",
       "      <td>58</td>\n",
       "      <td>0</td>\n",
       "      <td>116.824203</td>\n",
       "      <td>113.692421</td>\n",
       "      <td>0.0</td>\n",
       "      <td>3</td>\n",
       "      <td>3</td>\n",
       "      <td>1977</td>\n",
       "      <td>0.437885</td>\n",
       "      <td>B</td>\n",
       "      <td>B</td>\n",
       "      <td>23</td>\n",
       "      <td>5735</td>\n",
       "      <td>3</td>\n",
       "      <td>1084.0</td>\n",
       "      <td>0</td>\n",
       "      <td>5</td>\n",
       "      <td>B</td>\n",
       "    </tr>\n",
       "    <tr>\n",
       "      <th>14179</th>\n",
       "      <td>10729</td>\n",
       "      <td>27</td>\n",
       "      <td>0</td>\n",
       "      <td>76.345154</td>\n",
       "      <td>42.820797</td>\n",
       "      <td>12.0</td>\n",
       "      <td>14</td>\n",
       "      <td>0</td>\n",
       "      <td>1977</td>\n",
       "      <td>0.017647</td>\n",
       "      <td>B</td>\n",
       "      <td>B</td>\n",
       "      <td>2</td>\n",
       "      <td>469</td>\n",
       "      <td>0</td>\n",
       "      <td>NaN</td>\n",
       "      <td>0</td>\n",
       "      <td>0</td>\n",
       "      <td>B</td>\n",
       "    </tr>\n",
       "  </tbody>\n",
       "</table>\n",
       "</div>"
      ],
      "text/plain": [
       "          Id  DistrictId  Rooms      Square  LifeSquare  KitchenSquare  Floor  \\\n",
       "2194    3159          88      0   38.697117   19.345131            9.0      9   \n",
       "3780    7317          27      0   41.790882         NaN            0.0     13   \n",
       "5894     770          28      0   49.483501         NaN            0.0     16   \n",
       "6401    9443          27      0   87.762619   85.125473            0.0      5   \n",
       "7644    7917          27      0  212.932358  211.231125            0.0      2   \n",
       "7929     456           6      0   81.491447         NaN            0.0      4   \n",
       "9767   12638          27      0  138.427689  136.215500            0.0      4   \n",
       "9869    3224          27      0    2.377248    0.873147            0.0      1   \n",
       "10961   3343          58      0  116.824203  113.692421            0.0      3   \n",
       "14179  10729          27      0   76.345154   42.820797           12.0     14   \n",
       "\n",
       "       HouseFloor  HouseYear  Ecology_1 Ecology_2 Ecology_3  Social_1  \\\n",
       "2194           16       1982   0.127376         B         B        43   \n",
       "3780            0       1977   0.211401         B         B         9   \n",
       "5894            0       2015   0.118537         B         B        30   \n",
       "6401           15       1977   0.211401         B         B         9   \n",
       "7644            3       2008   0.211401         B         B         9   \n",
       "7929            0       1977   0.243205         B         B         5   \n",
       "9767            3       2016   0.075424         B         B        11   \n",
       "9869            0       1977   0.017647         B         B         2   \n",
       "10961           3       1977   0.437885         B         B        23   \n",
       "14179           0       1977   0.017647         B         B         2   \n",
       "\n",
       "       Social_2  Social_3  Healthcare_1  Helthcare_2  Shops_1 Shops_2  \n",
       "2194       8429         3           NaN            3        9       B  \n",
       "3780       1892         0           NaN            0        1       B  \n",
       "5894       6207         1        1183.0            1        0       B  \n",
       "6401       1892         0           NaN            0        1       B  \n",
       "7644       1892         0           NaN            0        1       B  \n",
       "7929       1564         0         540.0            0        0       B  \n",
       "9767       3097         0           NaN            0        0       B  \n",
       "9869        469         0           NaN            0        0       B  \n",
       "10961      5735         3        1084.0            0        5       B  \n",
       "14179       469         0           NaN            0        0       B  "
      ]
     },
     "execution_count": 16,
     "metadata": {},
     "output_type": "execute_result"
    }
   ],
   "source": [
    "data_df.loc[data_df['Rooms'] == 0]"
   ]
  },
  {
   "cell_type": "code",
   "execution_count": 17,
   "metadata": {},
   "outputs": [],
   "source": [
    "# Define function to fix these values (and the column as well)\n",
    "\n",
    "def df_rooms(df):\n",
    "    \n",
    "    info_by_district_id = df.groupby(['DistrictId', 'HouseYear'], as_index = False).agg(\n",
    "        {'Rooms': 'sum', 'Square': 'sum'}).rename(\n",
    "        columns={'Rooms': 'sum_roos_dr', 'Square': 'sum_square_dr'})\n",
    "\n",
    "    info_by_district_id['mean_square_per_room_in_dr'] = info_by_district_id['sum_square_dr'] \\\n",
    "        / info_by_district_id['sum_roos_dr']\n",
    "    info_by_district_id.drop(\n",
    "        ['sum_square_dr', 'sum_roos_dr'], axis = 1, inplace = True)\n",
    "\n",
    "    df = pd.merge(df, info_by_district_id, on = [\n",
    "                  'DistrictId', 'HouseYear'], how = 'left')\n",
    "\n",
    "    df['mean_square_per_room_in_dr'] = df['mean_square_per_room_in_dr'].fillna(\n",
    "        df['mean_square_per_room_in_dr'].mean())\n",
    "\n",
    "    df.loc[df['Rooms'] > 6, 'Rooms'] \\\n",
    "        = (df.loc[df['Rooms'] > 6, 'Square']\n",
    "           // df.loc[df['Rooms'] > 6, 'mean_square_per_room_in_dr']).astype('int')\n",
    "\n",
    "    df.loc[df['Rooms'] == 0, 'Rooms'] \\\n",
    "        = (df.loc[df['Rooms'] == 0, 'Square']\n",
    "           // df.loc[df['Rooms'] == 0, 'mean_square_per_room_in_dr']).astype('int')\n",
    "\n",
    "    df.loc[df['Rooms'] == 0, 'Rooms'] = 1\n",
    "    \n",
    "    return df"
   ]
  },
  {
   "cell_type": "markdown",
   "metadata": {},
   "source": [
    "**Square**<a class='anchor' id='square'>"
   ]
  },
  {
   "cell_type": "markdown",
   "metadata": {},
   "source": [
    "Let's check the values in this column"
   ]
  },
  {
   "cell_type": "code",
   "execution_count": 18,
   "metadata": {},
   "outputs": [
    {
     "data": {
      "text/html": [
       "<div>\n",
       "<style scoped>\n",
       "    .dataframe tbody tr th:only-of-type {\n",
       "        vertical-align: middle;\n",
       "    }\n",
       "\n",
       "    .dataframe tbody tr th {\n",
       "        vertical-align: top;\n",
       "    }\n",
       "\n",
       "    .dataframe thead th {\n",
       "        text-align: right;\n",
       "    }\n",
       "</style>\n",
       "<table border=\"1\" class=\"dataframe\">\n",
       "  <thead>\n",
       "    <tr style=\"text-align: right;\">\n",
       "      <th></th>\n",
       "      <th>Id</th>\n",
       "      <th>DistrictId</th>\n",
       "      <th>Rooms</th>\n",
       "      <th>Square</th>\n",
       "      <th>LifeSquare</th>\n",
       "      <th>KitchenSquare</th>\n",
       "      <th>Floor</th>\n",
       "      <th>HouseFloor</th>\n",
       "      <th>HouseYear</th>\n",
       "      <th>Ecology_1</th>\n",
       "      <th>Ecology_2</th>\n",
       "      <th>Ecology_3</th>\n",
       "      <th>Social_1</th>\n",
       "      <th>Social_2</th>\n",
       "      <th>Social_3</th>\n",
       "      <th>Healthcare_1</th>\n",
       "      <th>Helthcare_2</th>\n",
       "      <th>Shops_1</th>\n",
       "      <th>Shops_2</th>\n",
       "    </tr>\n",
       "  </thead>\n",
       "  <tbody>\n",
       "    <tr>\n",
       "      <th>9229</th>\n",
       "      <td>11602</td>\n",
       "      <td>30</td>\n",
       "      <td>2</td>\n",
       "      <td>641.065186</td>\n",
       "      <td>638.163208</td>\n",
       "      <td>10.0</td>\n",
       "      <td>20</td>\n",
       "      <td>19</td>\n",
       "      <td>2019</td>\n",
       "      <td>0.000078</td>\n",
       "      <td>B</td>\n",
       "      <td>B</td>\n",
       "      <td>22</td>\n",
       "      <td>6398</td>\n",
       "      <td>141</td>\n",
       "      <td>1046.0</td>\n",
       "      <td>3</td>\n",
       "      <td>23</td>\n",
       "      <td>B</td>\n",
       "    </tr>\n",
       "    <tr>\n",
       "      <th>726</th>\n",
       "      <td>28</td>\n",
       "      <td>9</td>\n",
       "      <td>2</td>\n",
       "      <td>604.705994</td>\n",
       "      <td>NaN</td>\n",
       "      <td>1.0</td>\n",
       "      <td>17</td>\n",
       "      <td>18</td>\n",
       "      <td>1977</td>\n",
       "      <td>0.161532</td>\n",
       "      <td>B</td>\n",
       "      <td>B</td>\n",
       "      <td>25</td>\n",
       "      <td>5648</td>\n",
       "      <td>1</td>\n",
       "      <td>30.0</td>\n",
       "      <td>2</td>\n",
       "      <td>4</td>\n",
       "      <td>B</td>\n",
       "    </tr>\n",
       "    <tr>\n",
       "      <th>7010</th>\n",
       "      <td>2307</td>\n",
       "      <td>102</td>\n",
       "      <td>1</td>\n",
       "      <td>409.425171</td>\n",
       "      <td>410.639740</td>\n",
       "      <td>10.0</td>\n",
       "      <td>4</td>\n",
       "      <td>4</td>\n",
       "      <td>2016</td>\n",
       "      <td>0.238617</td>\n",
       "      <td>B</td>\n",
       "      <td>B</td>\n",
       "      <td>26</td>\n",
       "      <td>3889</td>\n",
       "      <td>6</td>\n",
       "      <td>705.0</td>\n",
       "      <td>3</td>\n",
       "      <td>6</td>\n",
       "      <td>B</td>\n",
       "    </tr>\n",
       "    <tr>\n",
       "      <th>1906</th>\n",
       "      <td>5548</td>\n",
       "      <td>86</td>\n",
       "      <td>5</td>\n",
       "      <td>275.645294</td>\n",
       "      <td>233.949310</td>\n",
       "      <td>26.0</td>\n",
       "      <td>12</td>\n",
       "      <td>37</td>\n",
       "      <td>2011</td>\n",
       "      <td>0.161976</td>\n",
       "      <td>B</td>\n",
       "      <td>A</td>\n",
       "      <td>31</td>\n",
       "      <td>7010</td>\n",
       "      <td>5</td>\n",
       "      <td>4508.0</td>\n",
       "      <td>3</td>\n",
       "      <td>7</td>\n",
       "      <td>B</td>\n",
       "    </tr>\n",
       "    <tr>\n",
       "      <th>10956</th>\n",
       "      <td>4058</td>\n",
       "      <td>27</td>\n",
       "      <td>6</td>\n",
       "      <td>223.453690</td>\n",
       "      <td>104.113556</td>\n",
       "      <td>16.0</td>\n",
       "      <td>2</td>\n",
       "      <td>2</td>\n",
       "      <td>2017</td>\n",
       "      <td>0.041116</td>\n",
       "      <td>B</td>\n",
       "      <td>B</td>\n",
       "      <td>53</td>\n",
       "      <td>14892</td>\n",
       "      <td>4</td>\n",
       "      <td>NaN</td>\n",
       "      <td>1</td>\n",
       "      <td>4</td>\n",
       "      <td>B</td>\n",
       "    </tr>\n",
       "    <tr>\n",
       "      <th>14402</th>\n",
       "      <td>1397</td>\n",
       "      <td>76</td>\n",
       "      <td>3</td>\n",
       "      <td>221.138763</td>\n",
       "      <td>118.055344</td>\n",
       "      <td>4.0</td>\n",
       "      <td>32</td>\n",
       "      <td>48</td>\n",
       "      <td>2011</td>\n",
       "      <td>0.000000</td>\n",
       "      <td>B</td>\n",
       "      <td>B</td>\n",
       "      <td>7</td>\n",
       "      <td>1660</td>\n",
       "      <td>39</td>\n",
       "      <td>1786.0</td>\n",
       "      <td>1</td>\n",
       "      <td>5</td>\n",
       "      <td>B</td>\n",
       "    </tr>\n",
       "    <tr>\n",
       "      <th>7644</th>\n",
       "      <td>7917</td>\n",
       "      <td>27</td>\n",
       "      <td>0</td>\n",
       "      <td>212.932358</td>\n",
       "      <td>211.231125</td>\n",
       "      <td>0.0</td>\n",
       "      <td>2</td>\n",
       "      <td>3</td>\n",
       "      <td>2008</td>\n",
       "      <td>0.211401</td>\n",
       "      <td>B</td>\n",
       "      <td>B</td>\n",
       "      <td>9</td>\n",
       "      <td>1892</td>\n",
       "      <td>0</td>\n",
       "      <td>NaN</td>\n",
       "      <td>0</td>\n",
       "      <td>1</td>\n",
       "      <td>B</td>\n",
       "    </tr>\n",
       "    <tr>\n",
       "      <th>1776</th>\n",
       "      <td>16568</td>\n",
       "      <td>27</td>\n",
       "      <td>4</td>\n",
       "      <td>200.334534</td>\n",
       "      <td>201.627365</td>\n",
       "      <td>25.0</td>\n",
       "      <td>1</td>\n",
       "      <td>2</td>\n",
       "      <td>2013</td>\n",
       "      <td>0.041116</td>\n",
       "      <td>B</td>\n",
       "      <td>B</td>\n",
       "      <td>53</td>\n",
       "      <td>14892</td>\n",
       "      <td>4</td>\n",
       "      <td>NaN</td>\n",
       "      <td>1</td>\n",
       "      <td>4</td>\n",
       "      <td>B</td>\n",
       "    </tr>\n",
       "  </tbody>\n",
       "</table>\n",
       "</div>"
      ],
      "text/plain": [
       "          Id  DistrictId  Rooms      Square  LifeSquare  KitchenSquare  Floor  \\\n",
       "9229   11602          30      2  641.065186  638.163208           10.0     20   \n",
       "726       28           9      2  604.705994         NaN            1.0     17   \n",
       "7010    2307         102      1  409.425171  410.639740           10.0      4   \n",
       "1906    5548          86      5  275.645294  233.949310           26.0     12   \n",
       "10956   4058          27      6  223.453690  104.113556           16.0      2   \n",
       "14402   1397          76      3  221.138763  118.055344            4.0     32   \n",
       "7644    7917          27      0  212.932358  211.231125            0.0      2   \n",
       "1776   16568          27      4  200.334534  201.627365           25.0      1   \n",
       "\n",
       "       HouseFloor  HouseYear  Ecology_1 Ecology_2 Ecology_3  Social_1  \\\n",
       "9229           19       2019   0.000078         B         B        22   \n",
       "726            18       1977   0.161532         B         B        25   \n",
       "7010            4       2016   0.238617         B         B        26   \n",
       "1906           37       2011   0.161976         B         A        31   \n",
       "10956           2       2017   0.041116         B         B        53   \n",
       "14402          48       2011   0.000000         B         B         7   \n",
       "7644            3       2008   0.211401         B         B         9   \n",
       "1776            2       2013   0.041116         B         B        53   \n",
       "\n",
       "       Social_2  Social_3  Healthcare_1  Helthcare_2  Shops_1 Shops_2  \n",
       "9229       6398       141        1046.0            3       23       B  \n",
       "726        5648         1          30.0            2        4       B  \n",
       "7010       3889         6         705.0            3        6       B  \n",
       "1906       7010         5        4508.0            3        7       B  \n",
       "10956     14892         4           NaN            1        4       B  \n",
       "14402      1660        39        1786.0            1        5       B  \n",
       "7644       1892         0           NaN            0        1       B  \n",
       "1776      14892         4           NaN            1        4       B  "
      ]
     },
     "execution_count": 18,
     "metadata": {},
     "output_type": "execute_result"
    }
   ],
   "source": [
    "# Display the square above 200\n",
    "\n",
    "data_df[data_df['Square'] > 200].nlargest(20, 'Square')"
   ]
  },
  {
   "cell_type": "code",
   "execution_count": 19,
   "metadata": {},
   "outputs": [
    {
     "name": "stdout",
     "output_type": "stream",
     "text": [
      "56.3604 20.4232\n"
     ]
    },
    {
     "data": {
      "image/png": "[encoded data removed]",
      "text/plain": [
       "<Figure size 432x288 with 1 Axes>"
      ]
     },
     "metadata": {
      "needs_background": "light"
     },
     "output_type": "display_data"
    },
    {
     "data": {
      "image/png": "[encoded data removed]",
      "text/plain": [
       "<Figure size 432x288 with 1 Axes>"
      ]
     },
     "metadata": {
      "needs_background": "light"
     },
     "output_type": "display_data"
    }
   ],
   "source": [
    "# Maybe, it is better to visualize\n",
    "\n",
    "sns.distplot(data_df['Square'], fit = norm)\n",
    "\n",
    "mu, sigma = norm.fit(data_df['Square'])\n",
    "\n",
    "print(mu, sigma)\n",
    "\n",
    "plt.ylabel('Frequency')\n",
    "plt.title('Square distribution')\n",
    "\n",
    "# QQ-plot\n",
    "\n",
    "fig = plt.figure()\n",
    "res = stats.probplot(data_df['Square'], plot = plt)\n",
    "plt.show()"
   ]
  },
  {
   "cell_type": "markdown",
   "metadata": {},
   "source": [
    "After the graphs above, it is clear that some values have to be fixed"
   ]
  },
  {
   "cell_type": "code",
   "execution_count": 20,
   "metadata": {},
   "outputs": [],
   "source": [
    "# Function to change the values, which are above 400\n",
    "\n",
    "def df_square_m(df):\n",
    "    \n",
    "    df.loc[df['Square'] > 400, 'Square'] = df.loc[df['Square'] > 400, 'Square'] / 10\n",
    "    \n",
    "    return df"
   ]
  },
  {
   "cell_type": "code",
   "execution_count": 21,
   "metadata": {},
   "outputs": [],
   "source": [
    "# Function, which can be applied to the whole column\n",
    "\n",
    "def df_square(df):\n",
    "    \n",
    "    info_by_district_id = df.groupby(['DistrictId', 'Rooms', 'HouseYear'], as_index = False).agg(\n",
    "        {'Square': 'mean'}).rename(\n",
    "        columns = {'Square': 'mean_square_rooms_dr'})\n",
    "\n",
    "    df = pd.merge(df, info_by_district_id, on = [\n",
    "        'DistrictId', 'Rooms', 'HouseYear'], how = 'left')\n",
    "\n",
    "    df.loc[abs(df['Square'] - df['mean_square_rooms_dr']) > 2 * sigma, 'Square'] \\\n",
    "        = df.loc[abs(df['Square'] - df['mean_square_rooms_dr']) > 2 * sigma, 'Rooms'] \\\n",
    "        * df.loc[abs(df['Square'] - df['mean_square_rooms_dr']) > 2 * sigma, 'mean_square_per_room_in_dr']\n",
    "    \n",
    "    return df"
   ]
  },
  {
   "cell_type": "code",
   "execution_count": 22,
   "metadata": {},
   "outputs": [],
   "source": [
    "# Function to use for LifeSquare column (which is related to Square)\n",
    "\n",
    "def df_lifesquare(df):\n",
    "    \n",
    "    df.loc[df['Square'] < df['LifeSquare'],\n",
    "          'LifeSquare'] = df.loc[df['Square'] < df['LifeSquare'], 'Square']\n",
    "    \n",
    "    return df\n",
    "\n",
    "# Another one to fill na\n",
    "\n",
    "def fill_lifesquare(df):\n",
    "    \n",
    "    df['LifeSquare'] = df['LifeSquare'].fillna(df['LifeSquare'].mean())\n",
    "    \n",
    "    return df"
   ]
  },
  {
   "cell_type": "markdown",
   "metadata": {},
   "source": [
    "**HouseYear**<a class='anchor' id='houseyear'>"
   ]
  },
  {
   "cell_type": "code",
   "execution_count": 23,
   "metadata": {},
   "outputs": [
    {
     "data": {
      "text/html": [
       "<div>\n",
       "<style scoped>\n",
       "    .dataframe tbody tr th:only-of-type {\n",
       "        vertical-align: middle;\n",
       "    }\n",
       "\n",
       "    .dataframe tbody tr th {\n",
       "        vertical-align: top;\n",
       "    }\n",
       "\n",
       "    .dataframe thead th {\n",
       "        text-align: right;\n",
       "    }\n",
       "</style>\n",
       "<table border=\"1\" class=\"dataframe\">\n",
       "  <thead>\n",
       "    <tr style=\"text-align: right;\">\n",
       "      <th></th>\n",
       "      <th>Id</th>\n",
       "      <th>DistrictId</th>\n",
       "      <th>Rooms</th>\n",
       "      <th>Square</th>\n",
       "      <th>LifeSquare</th>\n",
       "      <th>KitchenSquare</th>\n",
       "      <th>Floor</th>\n",
       "      <th>HouseFloor</th>\n",
       "      <th>HouseYear</th>\n",
       "      <th>Ecology_1</th>\n",
       "      <th>Ecology_2</th>\n",
       "      <th>Ecology_3</th>\n",
       "      <th>Social_1</th>\n",
       "      <th>Social_2</th>\n",
       "      <th>Social_3</th>\n",
       "      <th>Healthcare_1</th>\n",
       "      <th>Helthcare_2</th>\n",
       "      <th>Shops_1</th>\n",
       "      <th>Shops_2</th>\n",
       "    </tr>\n",
       "  </thead>\n",
       "  <tbody>\n",
       "    <tr>\n",
       "      <th>8828</th>\n",
       "      <td>11607</td>\n",
       "      <td>147</td>\n",
       "      <td>2</td>\n",
       "      <td>44.791836</td>\n",
       "      <td>28.360394</td>\n",
       "      <td>5.0</td>\n",
       "      <td>4</td>\n",
       "      <td>9</td>\n",
       "      <td>4968</td>\n",
       "      <td>0.319809</td>\n",
       "      <td>B</td>\n",
       "      <td>B</td>\n",
       "      <td>25</td>\n",
       "      <td>4756</td>\n",
       "      <td>16</td>\n",
       "      <td>2857.0</td>\n",
       "      <td>5</td>\n",
       "      <td>8</td>\n",
       "      <td>B</td>\n",
       "    </tr>\n",
       "    <tr>\n",
       "      <th>9163</th>\n",
       "      <td>10814</td>\n",
       "      <td>109</td>\n",
       "      <td>1</td>\n",
       "      <td>37.265072</td>\n",
       "      <td>20.239714</td>\n",
       "      <td>9.0</td>\n",
       "      <td>9</td>\n",
       "      <td>12</td>\n",
       "      <td>20052011</td>\n",
       "      <td>0.136330</td>\n",
       "      <td>B</td>\n",
       "      <td>B</td>\n",
       "      <td>30</td>\n",
       "      <td>6141</td>\n",
       "      <td>10</td>\n",
       "      <td>262.0</td>\n",
       "      <td>3</td>\n",
       "      <td>6</td>\n",
       "      <td>B</td>\n",
       "    </tr>\n",
       "  </tbody>\n",
       "</table>\n",
       "</div>"
      ],
      "text/plain": [
       "         Id  DistrictId  Rooms     Square  LifeSquare  KitchenSquare  Floor  \\\n",
       "8828  11607         147      2  44.791836   28.360394            5.0      4   \n",
       "9163  10814         109      1  37.265072   20.239714            9.0      9   \n",
       "\n",
       "      HouseFloor  HouseYear  Ecology_1 Ecology_2 Ecology_3  Social_1  \\\n",
       "8828           9       4968   0.319809         B         B        25   \n",
       "9163          12   20052011   0.136330         B         B        30   \n",
       "\n",
       "      Social_2  Social_3  Healthcare_1  Helthcare_2  Shops_1 Shops_2  \n",
       "8828      4756        16        2857.0            5        8       B  \n",
       "9163      6141        10         262.0            3        6       B  "
      ]
     },
     "execution_count": 23,
     "metadata": {},
     "output_type": "execute_result"
    }
   ],
   "source": [
    "# Check the values, where the value of the year is bigger than this year (2020)\n",
    "\n",
    "data_df[data_df['HouseYear'] > 2020]"
   ]
  },
  {
   "cell_type": "code",
   "execution_count": 24,
   "metadata": {},
   "outputs": [],
   "source": [
    "# Define the function to fix \n",
    "\n",
    "def df_houseyear(df):\n",
    "    \n",
    "    df.loc[df['HouseYear'] == 20052011, 'HouseYear'] = int((2005 + 2011) / 2) # the average of two years as integer\n",
    "    df.loc[df['HouseYear'] == 4968, 'HouseYear'] = 1968 # mistyping\n",
    "    \n",
    "    return df"
   ]
  },
  {
   "cell_type": "markdown",
   "metadata": {},
   "source": [
    "---"
   ]
  },
  {
   "cell_type": "markdown",
   "metadata": {},
   "source": [
    "## Data Processing <a class='anchor' id='processing'>"
   ]
  },
  {
   "cell_type": "markdown",
   "metadata": {},
   "source": [
    "**Target variable(price)**<a class='anchor' id='target'>"
   ]
  },
  {
   "cell_type": "markdown",
   "metadata": {},
   "source": [
    "Let's firstly have a look at the distribution of our target variable (**price**)"
   ]
  },
  {
   "cell_type": "code",
   "execution_count": 25,
   "metadata": {},
   "outputs": [
    {
     "name": "stdout",
     "output_type": "stream",
     "text": [
      "214139.0 92867.6\n"
     ]
    },
    {
     "data": {
      "image/png": "[encoded data removed]",
      "text/plain": [
       "<Figure size 432x288 with 1 Axes>"
      ]
     },
     "metadata": {
      "needs_background": "light"
     },
     "output_type": "display_data"
    },
    {
     "data": {
      "image/png": "[encoded data removed]",
      "text/plain": [
       "<Figure size 432x288 with 1 Axes>"
      ]
     },
     "metadata": {
      "needs_background": "light"
     },
     "output_type": "display_data"
    }
   ],
   "source": [
    "# Normal distribution\n",
    "\n",
    "sns.distplot(train_df['Price'], fit = norm)\n",
    "\n",
    "mu, sigma = norm.fit(train_df['Price'])\n",
    "\n",
    "print(mu, sigma)\n",
    "\n",
    "plt.ylabel('Frequency')\n",
    "plt.title('Price distribution')\n",
    "\n",
    "# QQ-plot\n",
    "\n",
    "fig = plt.figure()\n",
    "res = stats.probplot(train_df['Price'], plot = plt)\n",
    "plt.show()"
   ]
  },
  {
   "cell_type": "code",
   "execution_count": 26,
   "metadata": {},
   "outputs": [
    {
     "name": "stdout",
     "output_type": "stream",
     "text": [
      "214139.0 92867.6\n"
     ]
    },
    {
     "data": {
      "image/png": "[encoded data removed]",
      "text/plain": [
       "<Figure size 432x288 with 1 Axes>"
      ]
     },
     "metadata": {
      "needs_background": "light"
     },
     "output_type": "display_data"
    },
    {
     "data": {
      "image/png": "[encoded data removed]",
      "text/plain": [
       "<Figure size 432x288 with 1 Axes>"
      ]
     },
     "metadata": {
      "needs_background": "light"
     },
     "output_type": "display_data"
    }
   ],
   "source": [
    "# Log distribution\n",
    "\n",
    "price_log = np.log1p(train_df['Price'])\n",
    "sns.distplot(price_log, fit = norm)\n",
    "\n",
    "mu, sigma = norm.fit(train_df['Price'])\n",
    "\n",
    "print(mu, sigma)\n",
    "\n",
    "plt.ylabel('Frequency')\n",
    "plt.title('Price distribution')\n",
    "\n",
    "# QQ-plot\n",
    "\n",
    "fig = plt.figure()\n",
    "res = stats.probplot(price_log, plot = plt)\n",
    "plt.show()"
   ]
  },
  {
   "cell_type": "markdown",
   "metadata": {},
   "source": [
    "**Distribution of HouseYear**<a class='anchor' id='dhy'>"
   ]
  },
  {
   "cell_type": "code",
   "execution_count": 27,
   "metadata": {},
   "outputs": [
    {
     "data": {
      "text/plain": [
       "Text(0.5, 1.0, 'Distribution of HouseYear')"
      ]
     },
     "execution_count": 27,
     "metadata": {},
     "output_type": "execute_result"
    },
    {
     "data": {
      "image/png": "[encoded data removed]",
      "text/plain": [
       "<Figure size 1296x432 with 1 Axes>"
      ]
     },
     "metadata": {
      "needs_background": "light"
     },
     "output_type": "display_data"
    }
   ],
   "source": [
    "plt.figure(figsize = (18, 6))\n",
    "sns.barplot(train_df['HouseYear'], train_df['Price'])\n",
    "plt.xticks(rotation = 90)\n",
    "plt.title('Distribution of HouseYear')"
   ]
  },
  {
   "cell_type": "markdown",
   "metadata": {},
   "source": [
    "**Distribution of DistrictId**<a class='anchor' id='did'>"
   ]
  },
  {
   "cell_type": "code",
   "execution_count": 28,
   "metadata": {},
   "outputs": [
    {
     "data": {
      "text/plain": [
       "Text(0.5, 1.0, 'Distribution of DistrictId')"
      ]
     },
     "execution_count": 28,
     "metadata": {},
     "output_type": "execute_result"
    },
    {
     "data": {
      "image/png": "[encoded data removed]",
      "text/plain": [
       "<Figure size 1296x432 with 1 Axes>"
      ]
     },
     "metadata": {
      "needs_background": "light"
     },
     "output_type": "display_data"
    }
   ],
   "source": [
    "plt.figure(figsize = (18, 6))\n",
    "sns.barplot(train_df['DistrictId'], train_df['Price'])\n",
    "plt.xticks(rotation = 90)\n",
    "plt.title('Distribution of DistrictId')"
   ]
  },
  {
   "cell_type": "markdown",
   "metadata": {},
   "source": [
    "---"
   ]
  },
  {
   "cell_type": "markdown",
   "metadata": {},
   "source": [
    "## Features Engineering <a class='anchor' id='features'>"
   ]
  },
  {
   "cell_type": "markdown",
   "metadata": {},
   "source": [
    "**Missing data points**<a class='anchor' id='missing'>"
   ]
  },
  {
   "cell_type": "code",
   "execution_count": 29,
   "metadata": {},
   "outputs": [
    {
     "name": "stdout",
     "output_type": "stream",
     "text": [
      "(15000, 19)\n"
     ]
    }
   ],
   "source": [
    "data_df = pd.concat((train_df, test_df), sort = False).reset_index(drop = True)\n",
    "data_df.drop(['Price'], axis = 1, inplace = True)\n",
    "print(data_df.shape)"
   ]
  },
  {
   "cell_type": "code",
   "execution_count": 30,
   "metadata": {},
   "outputs": [
    {
     "data": {
      "text/html": [
       "<div>\n",
       "<style scoped>\n",
       "    .dataframe tbody tr th:only-of-type {\n",
       "        vertical-align: middle;\n",
       "    }\n",
       "\n",
       "    .dataframe tbody tr th {\n",
       "        vertical-align: top;\n",
       "    }\n",
       "\n",
       "    .dataframe thead th {\n",
       "        text-align: right;\n",
       "    }\n",
       "</style>\n",
       "<table border=\"1\" class=\"dataframe\">\n",
       "  <thead>\n",
       "    <tr style=\"text-align: right;\">\n",
       "      <th></th>\n",
       "      <th>Missing Ratio</th>\n",
       "    </tr>\n",
       "  </thead>\n",
       "  <tbody>\n",
       "    <tr>\n",
       "      <th>Healthcare_1</th>\n",
       "      <td>47.833333</td>\n",
       "    </tr>\n",
       "    <tr>\n",
       "      <th>LifeSquare</th>\n",
       "      <td>21.026667</td>\n",
       "    </tr>\n",
       "  </tbody>\n",
       "</table>\n",
       "</div>"
      ],
      "text/plain": [
       "              Missing Ratio\n",
       "Healthcare_1      47.833333\n",
       "LifeSquare        21.026667"
      ]
     },
     "execution_count": 30,
     "metadata": {},
     "output_type": "execute_result"
    }
   ],
   "source": [
    "data_df_na = (data_df.isnull().sum() / len(data_df)) * 100\n",
    "data_df_na = data_df_na.drop(\n",
    "    data_df_na[data_df_na == 0].index).sort_values(ascending = False)\n",
    "missing_data = pd.DataFrame({'Missing Ratio': data_df_na})\n",
    "missing_data"
   ]
  },
  {
   "cell_type": "code",
   "execution_count": 31,
   "metadata": {},
   "outputs": [],
   "source": [
    "# Define the function to delete the missing data points\n",
    "\n",
    "def del_missing(df):\n",
    "    \n",
    "    df_na = (df.isnull().sum() / len(df)) * 100\n",
    "\n",
    "    df_na = df_na.drop(\n",
    "        df_na[df_na == 0].index).sort_values(ascending = False)\n",
    "    df_na = list(df_na.index)\n",
    "    df.drop(df_na, axis = 1, inplace = True)\n",
    "    \n",
    "    return df"
   ]
  },
  {
   "cell_type": "markdown",
   "metadata": {},
   "source": [
    "**Data Correlation**<a class='anchor' id='correlation'>"
   ]
  },
  {
   "cell_type": "code",
   "execution_count": 32,
   "metadata": {},
   "outputs": [
    {
     "data": {
      "text/plain": [
       "<matplotlib.axes._subplots.AxesSubplot at 0x119663940>"
      ]
     },
     "execution_count": 32,
     "metadata": {},
     "output_type": "execute_result"
    },
    {
     "data": {
      "image/png": "[encoded data removed]",
      "text/plain": [
       "<Figure size 864x648 with 2 Axes>"
      ]
     },
     "metadata": {
      "needs_background": "light"
     },
     "output_type": "display_data"
    }
   ],
   "source": [
    "# Plot the correlation matrix (avoid using Id column)\n",
    "\n",
    "corrmat = train_df.loc[:, train_df.columns != 'Id'].corr()\n",
    "plt.subplots(figsize = (12, 9))\n",
    "sns.heatmap(corrmat, vmax = 0.9, square = True)"
   ]
  },
  {
   "cell_type": "code",
   "execution_count": 33,
   "metadata": {},
   "outputs": [
    {
     "data": {
      "image/png": "[encoded data removed]",
      "text/plain": [
       "<Figure size 432x288 with 1 Axes>"
      ]
     },
     "metadata": {
      "needs_background": "light"
     },
     "output_type": "display_data"
    }
   ],
   "source": [
    "# Plot the correlation to our target variable (price)\n",
    "\n",
    "corrmat = train_df.loc[:, train_df.columns != 'Id'].corrwith(\n",
    "    train_df['Price']).abs().sort_values(ascending = False)[1:]\n",
    "plt.bar(corrmat.index, corrmat.values)\n",
    "plt.title('Correlation to Price')\n",
    "plt.xticks(rotation = 'vertical')\n",
    "plt.show()"
   ]
  },
  {
   "cell_type": "markdown",
   "metadata": {},
   "source": [
    "**Cluster**<a class='anchor' id='cluster'>"
   ]
  },
  {
   "cell_type": "markdown",
   "metadata": {},
   "source": [
    "Move forward with the clustering"
   ]
  },
  {
   "cell_type": "code",
   "execution_count": 34,
   "metadata": {},
   "outputs": [],
   "source": [
    "scaler = MinMaxScaler()"
   ]
  },
  {
   "cell_type": "code",
   "execution_count": 35,
   "metadata": {},
   "outputs": [],
   "source": [
    "train_cluster = train_df.copy()\n",
    "train_cluster = df_houseyear(train_cluster)"
   ]
  },
  {
   "cell_type": "code",
   "execution_count": 36,
   "metadata": {},
   "outputs": [
    {
     "name": "stderr",
     "output_type": "stream",
     "text": [
      "/Users/ilya.ivolgin/miniconda3/envs/day2/lib/python3.5/site-packages/sklearn/preprocessing/data.py:323: DataConversionWarning: Data with input dtype float32, int64 were all converted to float64 by MinMaxScaler.\n",
      "  return self.partial_fit(X, y)\n"
     ]
    }
   ],
   "source": [
    "# Scale\n",
    "\n",
    "train_cluster_scaled = pd.DataFrame(scaler.fit_transform(\n",
    "    train_cluster.loc[:, ['HouseYear', 'Price']]), columns = ['HouseYear', 'Price'])"
   ]
  },
  {
   "cell_type": "code",
   "execution_count": 37,
   "metadata": {},
   "outputs": [
    {
     "data": {
      "image/png": "[encoded data removed]",
      "text/plain": [
       "<Figure size 432x288 with 1 Axes>"
      ]
     },
     "metadata": {
      "needs_background": "light"
     },
     "output_type": "display_data"
    }
   ],
   "source": [
    "# KMeans\n",
    "\n",
    "inertias = []\n",
    "\n",
    "for i in range(2, 10):\n",
    "    temp_model = KMeans(n_clusters = i, random_state = 100)\n",
    "    temp_model.fit(train_cluster_scaled)\n",
    "    temp_inertia = temp_model.inertia_\n",
    "    inertias.append(temp_inertia)\n",
    "\n",
    "plt.plot(range(2, 10), inertias)\n",
    "plt.title('Inertia')\n",
    "\n",
    "plt.show()"
   ]
  },
  {
   "cell_type": "code",
   "execution_count": 38,
   "metadata": {},
   "outputs": [
    {
     "data": {
      "image/png": "[encoded data removed]",
      "text/plain": [
       "<Figure size 432x288 with 1 Axes>"
      ]
     },
     "metadata": {
      "needs_background": "light"
     },
     "output_type": "display_data"
    }
   ],
   "source": [
    "plt.scatter(train_cluster_scaled['HouseYear'], train_cluster_scaled['Price'])\n",
    "plt.xlabel('HouseYear')\n",
    "plt.ylabel('Price')\n",
    "plt.show()"
   ]
  },
  {
   "cell_type": "code",
   "execution_count": 39,
   "metadata": {},
   "outputs": [],
   "source": [
    "# KMeans-Model with 5 clusters\n",
    "\n",
    "kmeans_model = KMeans(n_clusters = 5, random_state = 100)"
   ]
  },
  {
   "cell_type": "code",
   "execution_count": 40,
   "metadata": {},
   "outputs": [],
   "source": [
    "# Define the train labels\n",
    "\n",
    "train_labels = kmeans_model.fit_predict(train_cluster_scaled)"
   ]
  },
  {
   "cell_type": "code",
   "execution_count": 41,
   "metadata": {},
   "outputs": [
    {
     "data": {
      "text/plain": [
       "Text(0.5, 1.0, 'Train data')"
      ]
     },
     "execution_count": 41,
     "metadata": {},
     "output_type": "execute_result"
    },
    {
     "data": {
      "image/png": "[encoded data removed]",
      "text/plain": [
       "<Figure size 432x288 with 1 Axes>"
      ]
     },
     "metadata": {
      "needs_background": "light"
     },
     "output_type": "display_data"
    }
   ],
   "source": [
    "# Plot the result\n",
    "\n",
    "plt.scatter(train_cluster_scaled['HouseYear'],\n",
    "            train_cluster_scaled['Price'], c = train_labels)\n",
    "\n",
    "plt.xlabel('HouseYear')\n",
    "plt.ylabel('Price')\n",
    "\n",
    "plt.title('Train data')"
   ]
  },
  {
   "cell_type": "markdown",
   "metadata": {},
   "source": [
    "[Agglomerative Clustering](https://scikit-learn.org/stable/modules/generated/sklearn.cluster.AgglomerativeClustering.html)"
   ]
  },
  {
   "cell_type": "code",
   "execution_count": 42,
   "metadata": {},
   "outputs": [
    {
     "data": {
      "text/plain": [
       "Text(0.5, 1.0, 'Train')"
      ]
     },
     "execution_count": 42,
     "metadata": {},
     "output_type": "execute_result"
    },
    {
     "data": {
      "image/png": "[encoded data removed]",
      "text/plain": [
       "<Figure size 432x288 with 1 Axes>"
      ]
     },
     "metadata": {
      "needs_background": "light"
     },
     "output_type": "display_data"
    }
   ],
   "source": [
    "# Agglomerative Clustering\n",
    "\n",
    "agglomerative_clustering_model = AgglomerativeClustering(n_clusters = 5)\n",
    "train_cluster['cluster_year'] = agglomerative_clustering_model.fit_predict(\n",
    "    train_cluster_scaled)\n",
    "\n",
    "# Plot the result\n",
    "\n",
    "plt.scatter(train_cluster['HouseYear'],\n",
    "            train_cluster['Price'], c = train_cluster['cluster_year'])\n",
    "plt.xlabel('HouseYear')\n",
    "plt.ylabel('Price')\n",
    "plt.title('Train')"
   ]
  },
  {
   "cell_type": "code",
   "execution_count": 43,
   "metadata": {},
   "outputs": [],
   "source": [
    "# Define function to add cluster year\n",
    "\n",
    "def add_cluster_year(df):\n",
    "    \n",
    "    df_scaled = pd.DataFrame(scaler.fit_transform(\n",
    "        df.loc[:, ['HouseYear']]), columns = ['HouseYear'])\n",
    "    df['cluster_year'] = agglomerative_clustering_model.fit_predict(df_scaled)\n",
    "    \n",
    "    return df"
   ]
  },
  {
   "cell_type": "code",
   "execution_count": 44,
   "metadata": {},
   "outputs": [],
   "source": [
    "# Define function to add mean prices by Rooms and by DistrictId\n",
    "\n",
    "def add_mean_price(df, df_train = train_df):\n",
    "    \n",
    "    price = df_train['Price'].mean()\n",
    "    price_mean_by_rooms = df_train.groupby(['Rooms'], as_index = False).agg({'Price': 'mean'}).\\\n",
    "        rename(columns = {'Price': 'mean_price_by_rooms'})\n",
    "\n",
    "    price_mean_by_distr_rooms = df_train.groupby(['DistrictId', 'Rooms'], as_index = False).agg({'Price': 'mean'}).\\\n",
    "        rename(columns = {'Price': 'mean_price_dr'})\n",
    "\n",
    "    df = pd.merge(df, price_mean_by_distr_rooms, on = [\n",
    "                  'DistrictId', 'Rooms'], how = 'left')\n",
    "    df = pd.merge(df, price_mean_by_rooms, on = 'Rooms', how = 'left')\n",
    "    df['mean_price_dr'] = df['mean_price_dr'].fillna(df['mean_price_by_rooms'])\n",
    "    df['mean_price_dr'] = df['mean_price_dr'].fillna(price)\n",
    "    df['mean_price_by_rooms'] = df['mean_price_by_rooms'].fillna(price)\n",
    "    \n",
    "    return df"
   ]
  },
  {
   "cell_type": "code",
   "execution_count": 45,
   "metadata": {},
   "outputs": [],
   "source": [
    "# Define function to add district info\n",
    "\n",
    "def add_distr_info(df):\n",
    "    \n",
    "    distr_info = df['DistrictId'].value_counts().reset_index().\\\n",
    "        rename(columns = {\"index\": \"DistrictId\", \"DistrictId\": 'large_district'})\n",
    "    df = pd.merge(df, distr_info, on = 'DistrictId', how = 'left')\n",
    "    df['large_district'] = df['large_district'].fillna(1)\n",
    "    \n",
    "    return df"
   ]
  },
  {
   "cell_type": "markdown",
   "metadata": {},
   "source": [
    "---"
   ]
  },
  {
   "cell_type": "markdown",
   "metadata": {},
   "source": [
    "## Building the Model <a class='anchor' id='model'>"
   ]
  },
  {
   "cell_type": "markdown",
   "metadata": {},
   "source": [
    "To start with, we need to define the necessary functions for data preparation, testing out model and checking the deviation"
   ]
  },
  {
   "cell_type": "code",
   "execution_count": 46,
   "metadata": {},
   "outputs": [],
   "source": [
    "def prep_data(df, df_train = train_df):\n",
    "    df = df_square_m(df)\n",
    "    df = df_houseyear(df)\n",
    "    df = df_rooms(df)\n",
    "    df = df_square(df)\n",
    "    df = df_lifesquare(df)\n",
    "    df = fill_lifesquare(df)\n",
    "    df = del_missing(df)\n",
    "    df = add_cluster_year(df)\n",
    "    df = add_mean_price(df, df_train)\n",
    "    df = add_distr_info(df)\n",
    "    df = pd.get_dummies(df)\n",
    "    df.drop('mean_square_per_room_in_dr', axis = 1, inplace = True)\n",
    "    df.drop('mean_square_rooms_dr', axis = 1, inplace = True)\n",
    "    optimizing_df(df)\n",
    "    \n",
    "    return df\n",
    "\n",
    "\n",
    "def test_model(model, name, test, valid):\n",
    "    model_pred = model.predict(test)\n",
    "    r2 = r2_score(valid, model_pred)\n",
    "    mse = mean_squared_error(valid, model_pred)\n",
    "    plt.scatter(valid, (model_pred - valid))\n",
    "    plt.xlabel(\"Predicted values\")\n",
    "    plt.ylabel(\"Real values\")\n",
    "    plt.title(name)\n",
    "    plt.axhline(0, color = 'red')\n",
    "    plt.show()\n",
    "\n",
    "\n",
    "def model_top_deviation(model, test, valid):\n",
    "    model_pred = model.predict(test)\n",
    "    test_model = test.copy()\n",
    "    test_model['Price'] = model_pred\n",
    "    test_model['Price_test'] = valid\n",
    "    test_model['SD'] = abs(test_model['Price']\n",
    "                           - test_model['Price_test'])\n",
    "    return test_model.nlargest(10, 'SD')"
   ]
  },
  {
   "cell_type": "markdown",
   "metadata": {},
   "source": [
    "**Features**<a class='anchor' id='features'>"
   ]
  },
  {
   "cell_type": "code",
   "execution_count": 47,
   "metadata": {},
   "outputs": [],
   "source": [
    "features = list(train_df.loc[:, train_df.columns != 'Id'].corrwith(\n",
    "    train_df['Price']).abs().sort_values(ascending = False)[1:].index)\n",
    "\n",
    "target = 'Price'"
   ]
  },
  {
   "cell_type": "markdown",
   "metadata": {},
   "source": [
    "**Train_test_split**<a class='anchor' id='split'>"
   ]
  },
  {
   "cell_type": "code",
   "execution_count": 48,
   "metadata": {},
   "outputs": [],
   "source": [
    "X_train, X_test, y_train, y_test = train_test_split(\n",
    "    train_df[features], train_df[target], test_size = 0.3, random_state = 42)"
   ]
  },
  {
   "cell_type": "code",
   "execution_count": 49,
   "metadata": {},
   "outputs": [
    {
     "name": "stderr",
     "output_type": "stream",
     "text": [
      "/Users/ilya.ivolgin/miniconda3/envs/day2/lib/python3.5/site-packages/sklearn/preprocessing/data.py:323: DataConversionWarning: Data with input dtype int64 were all converted to float64 by MinMaxScaler.\n",
      "  return self.partial_fit(X, y)\n",
      "/Users/ilya.ivolgin/miniconda3/envs/day2/lib/python3.5/site-packages/sklearn/preprocessing/data.py:323: DataConversionWarning: Data with input dtype int64 were all converted to float64 by MinMaxScaler.\n",
      "  return self.partial_fit(X, y)\n"
     ]
    }
   ],
   "source": [
    "# Apply prep_data\n",
    "\n",
    "X_train = prep_data(X_train, train_df)\n",
    "X_test = prep_data(X_test, train_df)"
   ]
  },
  {
   "cell_type": "code",
   "execution_count": 50,
   "metadata": {},
   "outputs": [
    {
     "name": "stdout",
     "output_type": "stream",
     "text": [
      "<class 'pandas.core.frame.DataFrame'>\n",
      "Int64Index: 7000 entries, 0 to 6999\n",
      "Data columns (total 18 columns):\n",
      "Rooms                  7000 non-null uint8\n",
      "Square                 7000 non-null float32\n",
      "DistrictId             7000 non-null uint8\n",
      "Social_1               7000 non-null uint8\n",
      "Helthcare_2            7000 non-null uint8\n",
      "Social_2               7000 non-null uint16\n",
      "Shops_1                7000 non-null uint8\n",
      "Floor                  7000 non-null uint8\n",
      "HouseFloor             7000 non-null uint8\n",
      "LifeSquare             7000 non-null float32\n",
      "Social_3               7000 non-null uint8\n",
      "Ecology_1              7000 non-null float32\n",
      "KitchenSquare          7000 non-null float32\n",
      "HouseYear              7000 non-null uint16\n",
      "cluster_year           7000 non-null uint8\n",
      "mean_price_dr          7000 non-null float32\n",
      "mean_price_by_rooms    7000 non-null float32\n",
      "large_district         7000 non-null uint16\n",
      "dtypes: float32(6), uint16(3), uint8(9)\n",
      "memory usage: 321.3 KB\n"
     ]
    }
   ],
   "source": [
    "X_train.info()"
   ]
  },
  {
   "cell_type": "code",
   "execution_count": 51,
   "metadata": {},
   "outputs": [
    {
     "name": "stdout",
     "output_type": "stream",
     "text": [
      "<class 'pandas.core.frame.DataFrame'>\n",
      "Int64Index: 3000 entries, 0 to 2999\n",
      "Data columns (total 18 columns):\n",
      "Rooms                  3000 non-null uint8\n",
      "Square                 3000 non-null float32\n",
      "DistrictId             3000 non-null uint8\n",
      "Social_1               3000 non-null uint8\n",
      "Helthcare_2            3000 non-null uint8\n",
      "Social_2               3000 non-null uint16\n",
      "Shops_1                3000 non-null uint8\n",
      "Floor                  3000 non-null uint8\n",
      "HouseFloor             3000 non-null uint8\n",
      "LifeSquare             3000 non-null float32\n",
      "Social_3               3000 non-null uint8\n",
      "Ecology_1              3000 non-null float32\n",
      "KitchenSquare          3000 non-null float32\n",
      "HouseYear              3000 non-null uint16\n",
      "cluster_year           3000 non-null uint8\n",
      "mean_price_dr          3000 non-null float32\n",
      "mean_price_by_rooms    3000 non-null float32\n",
      "large_district         3000 non-null uint16\n",
      "dtypes: float32(6), uint16(3), uint8(9)\n",
      "memory usage: 137.7 KB\n"
     ]
    }
   ],
   "source": [
    "X_test.info()"
   ]
  },
  {
   "cell_type": "code",
   "execution_count": 52,
   "metadata": {},
   "outputs": [],
   "source": [
    "# Define the dictionary to have an overview of the trained models\n",
    "\n",
    "result_dict = {}"
   ]
  },
  {
   "cell_type": "markdown",
   "metadata": {},
   "source": [
    "---"
   ]
  },
  {
   "cell_type": "markdown",
   "metadata": {},
   "source": [
    "## Linear Regression<a class='anchor' id='lr'>"
   ]
  },
  {
   "cell_type": "markdown",
   "metadata": {},
   "source": [
    "**Theory about Linear Regression**"
   ]
  },
  {
   "cell_type": "markdown",
   "metadata": {},
   "source": [
    "$$price_{pred} = a_0 + a_1 * households + a_2 * rooms$$"
   ]
  },
  {
   "cell_type": "markdown",
   "metadata": {},
   "source": [
    "$$Loss = MSE = \\frac{1}{n}\\sum{(price - price_{pred})^2}$$\n",
    "\n",
    "$$Loss = MSE = \\frac{1}{n}\\sum{(price - (a_0 + a_1 * households + a_2 * rooms))^2}$$"
   ]
  },
  {
   "cell_type": "markdown",
   "metadata": {},
   "source": [
    "$dx^2 = 2x$\n",
    "\n",
    "$d4x = 4$"
   ]
  },
  {
   "cell_type": "markdown",
   "metadata": {},
   "source": [
    "We find derivatives by parameters and solve a system of 3 equations with 3 unknowns:\n",
    "\n",
    "$$\\frac{dLoss}{da_0} = \\frac{1}{n}\\sum{2*(price-(a_0 + a_1 *households + a_2*rooms)) * 1} = 0 $$  \n",
    "$$\\frac{dLoss}{da_1} = \\frac{1}{n}\\sum{2*(price-(a_0 + a_1 *households + a_2*rooms)) * households} = 0 $$  \n",
    "$$\\frac{dLoss}{da_2} = \\frac{1}{n}\\sum{2*(price-(a_0 + a_1 *households + a_2*rooms)) * rooms} = 0 $$  "
   ]
  },
  {
   "cell_type": "markdown",
   "metadata": {},
   "source": [
    "**Train the Linear Regression Model**"
   ]
  },
  {
   "cell_type": "code",
   "execution_count": 53,
   "metadata": {},
   "outputs": [],
   "source": [
    "lr_model = LinearRegression()"
   ]
  },
  {
   "cell_type": "code",
   "execution_count": 54,
   "metadata": {},
   "outputs": [
    {
     "data": {
      "text/plain": [
       "LinearRegression(copy_X=True, fit_intercept=True, n_jobs=None,\n",
       "         normalize=False)"
      ]
     },
     "execution_count": 54,
     "metadata": {},
     "output_type": "execute_result"
    }
   ],
   "source": [
    "# Fit the model with X_train and y_train\n",
    "\n",
    "lr_model.fit(X_train, y_train)"
   ]
  },
  {
   "cell_type": "code",
   "execution_count": 55,
   "metadata": {},
   "outputs": [],
   "source": [
    "result_dict['Linear Regression'] = lr_model"
   ]
  },
  {
   "cell_type": "markdown",
   "metadata": {},
   "source": [
    "**Test the result**"
   ]
  },
  {
   "cell_type": "code",
   "execution_count": 56,
   "metadata": {},
   "outputs": [
    {
     "data": {
      "image/png": "[encoded data removed]",
      "text/plain": [
       "<Figure size 432x288 with 1 Axes>"
      ]
     },
     "metadata": {
      "needs_background": "light"
     },
     "output_type": "display_data"
    }
   ],
   "source": [
    "# Test the result on the X_test and y_test\n",
    "\n",
    "test_model(lr_model, 'Linear Regression', X_test, y_test)"
   ]
  },
  {
   "cell_type": "code",
   "execution_count": 57,
   "metadata": {},
   "outputs": [
    {
     "data": {
      "text/html": [
       "<div>\n",
       "<style scoped>\n",
       "    .dataframe tbody tr th:only-of-type {\n",
       "        vertical-align: middle;\n",
       "    }\n",
       "\n",
       "    .dataframe tbody tr th {\n",
       "        vertical-align: top;\n",
       "    }\n",
       "\n",
       "    .dataframe thead th {\n",
       "        text-align: right;\n",
       "    }\n",
       "</style>\n",
       "<table border=\"1\" class=\"dataframe\">\n",
       "  <thead>\n",
       "    <tr style=\"text-align: right;\">\n",
       "      <th></th>\n",
       "      <th>Rooms</th>\n",
       "      <th>Square</th>\n",
       "      <th>DistrictId</th>\n",
       "      <th>Social_1</th>\n",
       "      <th>Helthcare_2</th>\n",
       "      <th>Social_2</th>\n",
       "      <th>Shops_1</th>\n",
       "      <th>Floor</th>\n",
       "      <th>HouseFloor</th>\n",
       "      <th>LifeSquare</th>\n",
       "      <th>...</th>\n",
       "      <th>Ecology_1</th>\n",
       "      <th>KitchenSquare</th>\n",
       "      <th>HouseYear</th>\n",
       "      <th>cluster_year</th>\n",
       "      <th>mean_price_dr</th>\n",
       "      <th>mean_price_by_rooms</th>\n",
       "      <th>large_district</th>\n",
       "      <th>Price</th>\n",
       "      <th>Price_test</th>\n",
       "      <th>SD</th>\n",
       "    </tr>\n",
       "  </thead>\n",
       "  <tbody>\n",
       "    <tr>\n",
       "      <th>1026</th>\n",
       "      <td>1</td>\n",
       "      <td>34.382664</td>\n",
       "      <td>29</td>\n",
       "      <td>31</td>\n",
       "      <td>1</td>\n",
       "      <td>6119</td>\n",
       "      <td>2</td>\n",
       "      <td>7</td>\n",
       "      <td>9</td>\n",
       "      <td>22.438042</td>\n",
       "      <td>...</td>\n",
       "      <td>0.069660</td>\n",
       "      <td>5.0</td>\n",
       "      <td>1965</td>\n",
       "      <td>2</td>\n",
       "      <td>146802.281250</td>\n",
       "      <td>159850.796875</td>\n",
       "      <td>27</td>\n",
       "      <td>134332.71875</td>\n",
       "      <td>624156.000000</td>\n",
       "      <td>489823.28125</td>\n",
       "    </tr>\n",
       "    <tr>\n",
       "      <th>2963</th>\n",
       "      <td>1</td>\n",
       "      <td>42.456928</td>\n",
       "      <td>23</td>\n",
       "      <td>6</td>\n",
       "      <td>0</td>\n",
       "      <td>1437</td>\n",
       "      <td>2</td>\n",
       "      <td>7</td>\n",
       "      <td>17</td>\n",
       "      <td>36.527618</td>\n",
       "      <td>...</td>\n",
       "      <td>0.075779</td>\n",
       "      <td>1.0</td>\n",
       "      <td>1977</td>\n",
       "      <td>0</td>\n",
       "      <td>100961.812500</td>\n",
       "      <td>159850.796875</td>\n",
       "      <td>175</td>\n",
       "      <td>106577.71875</td>\n",
       "      <td>554809.437500</td>\n",
       "      <td>448231.71875</td>\n",
       "    </tr>\n",
       "    <tr>\n",
       "      <th>940</th>\n",
       "      <td>1</td>\n",
       "      <td>50.299168</td>\n",
       "      <td>9</td>\n",
       "      <td>11</td>\n",
       "      <td>0</td>\n",
       "      <td>2370</td>\n",
       "      <td>1</td>\n",
       "      <td>11</td>\n",
       "      <td>16</td>\n",
       "      <td>24.349604</td>\n",
       "      <td>...</td>\n",
       "      <td>0.136244</td>\n",
       "      <td>9.0</td>\n",
       "      <td>2006</td>\n",
       "      <td>1</td>\n",
       "      <td>141847.359375</td>\n",
       "      <td>159850.796875</td>\n",
       "      <td>89</td>\n",
       "      <td>167786.09375</td>\n",
       "      <td>608674.125000</td>\n",
       "      <td>440888.03125</td>\n",
       "    </tr>\n",
       "    <tr>\n",
       "      <th>347</th>\n",
       "      <td>2</td>\n",
       "      <td>62.646122</td>\n",
       "      <td>27</td>\n",
       "      <td>2</td>\n",
       "      <td>0</td>\n",
       "      <td>629</td>\n",
       "      <td>0</td>\n",
       "      <td>4</td>\n",
       "      <td>1</td>\n",
       "      <td>36.527618</td>\n",
       "      <td>...</td>\n",
       "      <td>0.072158</td>\n",
       "      <td>1.0</td>\n",
       "      <td>1977</td>\n",
       "      <td>0</td>\n",
       "      <td>166014.062500</td>\n",
       "      <td>215256.312500</td>\n",
       "      <td>257</td>\n",
       "      <td>165705.90625</td>\n",
       "      <td>593618.750000</td>\n",
       "      <td>427912.84375</td>\n",
       "    </tr>\n",
       "    <tr>\n",
       "      <th>2540</th>\n",
       "      <td>5</td>\n",
       "      <td>183.382278</td>\n",
       "      <td>13</td>\n",
       "      <td>74</td>\n",
       "      <td>5</td>\n",
       "      <td>19083</td>\n",
       "      <td>15</td>\n",
       "      <td>2</td>\n",
       "      <td>6</td>\n",
       "      <td>100.985504</td>\n",
       "      <td>...</td>\n",
       "      <td>0.090799</td>\n",
       "      <td>15.0</td>\n",
       "      <td>1997</td>\n",
       "      <td>1</td>\n",
       "      <td>528831.562500</td>\n",
       "      <td>410431.593750</td>\n",
       "      <td>30</td>\n",
       "      <td>637705.62500</td>\n",
       "      <td>212589.703125</td>\n",
       "      <td>425115.93750</td>\n",
       "    </tr>\n",
       "    <tr>\n",
       "      <th>2906</th>\n",
       "      <td>3</td>\n",
       "      <td>129.475021</td>\n",
       "      <td>17</td>\n",
       "      <td>23</td>\n",
       "      <td>2</td>\n",
       "      <td>4635</td>\n",
       "      <td>4</td>\n",
       "      <td>17</td>\n",
       "      <td>20</td>\n",
       "      <td>36.527618</td>\n",
       "      <td>...</td>\n",
       "      <td>0.093443</td>\n",
       "      <td>10.0</td>\n",
       "      <td>1977</td>\n",
       "      <td>0</td>\n",
       "      <td>419768.781250</td>\n",
       "      <td>289337.968750</td>\n",
       "      <td>20</td>\n",
       "      <td>520981.21875</td>\n",
       "      <td>111787.078125</td>\n",
       "      <td>409194.12500</td>\n",
       "    </tr>\n",
       "    <tr>\n",
       "      <th>858</th>\n",
       "      <td>1</td>\n",
       "      <td>40.279987</td>\n",
       "      <td>27</td>\n",
       "      <td>9</td>\n",
       "      <td>0</td>\n",
       "      <td>1892</td>\n",
       "      <td>1</td>\n",
       "      <td>8</td>\n",
       "      <td>15</td>\n",
       "      <td>38.652657</td>\n",
       "      <td>...</td>\n",
       "      <td>0.211401</td>\n",
       "      <td>10.0</td>\n",
       "      <td>2018</td>\n",
       "      <td>3</td>\n",
       "      <td>122710.742188</td>\n",
       "      <td>159850.796875</td>\n",
       "      <td>257</td>\n",
       "      <td>120734.53125</td>\n",
       "      <td>524279.250000</td>\n",
       "      <td>403544.71875</td>\n",
       "    </tr>\n",
       "    <tr>\n",
       "      <th>964</th>\n",
       "      <td>5</td>\n",
       "      <td>118.871948</td>\n",
       "      <td>78</td>\n",
       "      <td>21</td>\n",
       "      <td>1</td>\n",
       "      <td>4346</td>\n",
       "      <td>2</td>\n",
       "      <td>15</td>\n",
       "      <td>16</td>\n",
       "      <td>69.023506</td>\n",
       "      <td>...</td>\n",
       "      <td>0.092291</td>\n",
       "      <td>10.0</td>\n",
       "      <td>1998</td>\n",
       "      <td>1</td>\n",
       "      <td>496026.656250</td>\n",
       "      <td>410431.593750</td>\n",
       "      <td>10</td>\n",
       "      <td>519038.03125</td>\n",
       "      <td>119853.828125</td>\n",
       "      <td>399184.18750</td>\n",
       "    </tr>\n",
       "    <tr>\n",
       "      <th>2436</th>\n",
       "      <td>1</td>\n",
       "      <td>38.704697</td>\n",
       "      <td>22</td>\n",
       "      <td>49</td>\n",
       "      <td>3</td>\n",
       "      <td>11395</td>\n",
       "      <td>4</td>\n",
       "      <td>9</td>\n",
       "      <td>22</td>\n",
       "      <td>21.993610</td>\n",
       "      <td>...</td>\n",
       "      <td>0.133215</td>\n",
       "      <td>10.0</td>\n",
       "      <td>1991</td>\n",
       "      <td>0</td>\n",
       "      <td>162263.906250</td>\n",
       "      <td>159850.796875</td>\n",
       "      <td>18</td>\n",
       "      <td>180122.65625</td>\n",
       "      <td>573999.437500</td>\n",
       "      <td>393876.78125</td>\n",
       "    </tr>\n",
       "    <tr>\n",
       "      <th>106</th>\n",
       "      <td>2</td>\n",
       "      <td>44.537441</td>\n",
       "      <td>10</td>\n",
       "      <td>33</td>\n",
       "      <td>0</td>\n",
       "      <td>8667</td>\n",
       "      <td>6</td>\n",
       "      <td>8</td>\n",
       "      <td>9</td>\n",
       "      <td>32.103275</td>\n",
       "      <td>...</td>\n",
       "      <td>0.282798</td>\n",
       "      <td>5.0</td>\n",
       "      <td>1971</td>\n",
       "      <td>2</td>\n",
       "      <td>226197.562500</td>\n",
       "      <td>215256.312500</td>\n",
       "      <td>20</td>\n",
       "      <td>192549.15625</td>\n",
       "      <td>574631.312500</td>\n",
       "      <td>382082.15625</td>\n",
       "    </tr>\n",
       "  </tbody>\n",
       "</table>\n",
       "<p>10 rows × 21 columns</p>\n",
       "</div>"
      ],
      "text/plain": [
       "      Rooms      Square  DistrictId  Social_1  Helthcare_2  Social_2  Shops_1  \\\n",
       "1026      1   34.382664          29        31            1      6119        2   \n",
       "2963      1   42.456928          23         6            0      1437        2   \n",
       "940       1   50.299168           9        11            0      2370        1   \n",
       "347       2   62.646122          27         2            0       629        0   \n",
       "2540      5  183.382278          13        74            5     19083       15   \n",
       "2906      3  129.475021          17        23            2      4635        4   \n",
       "858       1   40.279987          27         9            0      1892        1   \n",
       "964       5  118.871948          78        21            1      4346        2   \n",
       "2436      1   38.704697          22        49            3     11395        4   \n",
       "106       2   44.537441          10        33            0      8667        6   \n",
       "\n",
       "      Floor  HouseFloor  LifeSquare  ...  Ecology_1  KitchenSquare  HouseYear  \\\n",
       "1026      7           9   22.438042  ...   0.069660            5.0       1965   \n",
       "2963      7          17   36.527618  ...   0.075779            1.0       1977   \n",
       "940      11          16   24.349604  ...   0.136244            9.0       2006   \n",
       "347       4           1   36.527618  ...   0.072158            1.0       1977   \n",
       "2540      2           6  100.985504  ...   0.090799           15.0       1997   \n",
       "2906     17          20   36.527618  ...   0.093443           10.0       1977   \n",
       "858       8          15   38.652657  ...   0.211401           10.0       2018   \n",
       "964      15          16   69.023506  ...   0.092291           10.0       1998   \n",
       "2436      9          22   21.993610  ...   0.133215           10.0       1991   \n",
       "106       8           9   32.103275  ...   0.282798            5.0       1971   \n",
       "\n",
       "      cluster_year  mean_price_dr  mean_price_by_rooms  large_district  \\\n",
       "1026             2  146802.281250        159850.796875              27   \n",
       "2963             0  100961.812500        159850.796875             175   \n",
       "940              1  141847.359375        159850.796875              89   \n",
       "347              0  166014.062500        215256.312500             257   \n",
       "2540             1  528831.562500        410431.593750              30   \n",
       "2906             0  419768.781250        289337.968750              20   \n",
       "858              3  122710.742188        159850.796875             257   \n",
       "964              1  496026.656250        410431.593750              10   \n",
       "2436             0  162263.906250        159850.796875              18   \n",
       "106              2  226197.562500        215256.312500              20   \n",
       "\n",
       "             Price     Price_test            SD  \n",
       "1026  134332.71875  624156.000000  489823.28125  \n",
       "2963  106577.71875  554809.437500  448231.71875  \n",
       "940   167786.09375  608674.125000  440888.03125  \n",
       "347   165705.90625  593618.750000  427912.84375  \n",
       "2540  637705.62500  212589.703125  425115.93750  \n",
       "2906  520981.21875  111787.078125  409194.12500  \n",
       "858   120734.53125  524279.250000  403544.71875  \n",
       "964   519038.03125  119853.828125  399184.18750  \n",
       "2436  180122.65625  573999.437500  393876.78125  \n",
       "106   192549.15625  574631.312500  382082.15625  \n",
       "\n",
       "[10 rows x 21 columns]"
      ]
     },
     "execution_count": 57,
     "metadata": {},
     "output_type": "execute_result"
    }
   ],
   "source": [
    "model_top_deviation(lr_model, X_test, y_test)"
   ]
  },
  {
   "cell_type": "markdown",
   "metadata": {},
   "source": [
    "---"
   ]
  },
  {
   "cell_type": "markdown",
   "metadata": {},
   "source": [
    "## Random Forest Regressor<a class='anchor' id='random'>"
   ]
  },
  {
   "cell_type": "markdown",
   "metadata": {},
   "source": [
    "**Theory about Random Forest Regressor**"
   ]
  },
  {
   "cell_type": "markdown",
   "metadata": {},
   "source": [
    "N trees are built independently. Their predictions are averaged\n",
    "\n",
    "The element of randomness is added to make the trees different:\n",
    "- each tree is built on a subsample of data (70% of data is randomly sampled)\n",
    "- each tree is built on a subsample of fit (70% of fit is randomly sampled)\n",
    "- ..."
   ]
  },
  {
   "cell_type": "markdown",
   "metadata": {},
   "source": [
    "More about Random Forest Regressor you can read [here](https://towardsdatascience.com/understanding-random-forest-58381e0602d2)"
   ]
  },
  {
   "cell_type": "markdown",
   "metadata": {},
   "source": [
    "**Train the Random Forest Regressor Model**"
   ]
  },
  {
   "cell_type": "code",
   "execution_count": 58,
   "metadata": {},
   "outputs": [],
   "source": [
    "random_forest = RandomForestRegressor()"
   ]
  },
  {
   "cell_type": "code",
   "execution_count": 59,
   "metadata": {},
   "outputs": [
    {
     "name": "stderr",
     "output_type": "stream",
     "text": [
      "/Users/ilya.ivolgin/miniconda3/envs/day2/lib/python3.5/site-packages/sklearn/ensemble/forest.py:248: FutureWarning: The default value of n_estimators will change from 10 in version 0.20 to 100 in 0.22.\n",
      "  \"10 in version 0.20 to 100 in 0.22.\", FutureWarning)\n"
     ]
    },
    {
     "data": {
      "text/plain": [
       "RandomForestRegressor(bootstrap=True, criterion='mse', max_depth=None,\n",
       "           max_features='auto', max_leaf_nodes=None,\n",
       "           min_impurity_decrease=0.0, min_impurity_split=None,\n",
       "           min_samples_leaf=1, min_samples_split=2,\n",
       "           min_weight_fraction_leaf=0.0, n_estimators=10, n_jobs=None,\n",
       "           oob_score=False, random_state=None, verbose=0, warm_start=False)"
      ]
     },
     "execution_count": 59,
     "metadata": {},
     "output_type": "execute_result"
    }
   ],
   "source": [
    "# Fit the model with X_train and y_train\n",
    "\n",
    "random_forest.fit(X_train, y_train)"
   ]
  },
  {
   "cell_type": "code",
   "execution_count": 60,
   "metadata": {},
   "outputs": [],
   "source": [
    "result_dict['Random Forest Regressor'] = random_forest"
   ]
  },
  {
   "cell_type": "markdown",
   "metadata": {},
   "source": [
    "**Test the result**"
   ]
  },
  {
   "cell_type": "code",
   "execution_count": 61,
   "metadata": {},
   "outputs": [
    {
     "data": {
      "image/png": "[encoded data removed]",
      "text/plain": [
       "<Figure size 432x288 with 1 Axes>"
      ]
     },
     "metadata": {
      "needs_background": "light"
     },
     "output_type": "display_data"
    }
   ],
   "source": [
    "test_model(random_forest, 'Random Forest Regressor', X_test, y_test)"
   ]
  },
  {
   "cell_type": "code",
   "execution_count": 62,
   "metadata": {},
   "outputs": [
    {
     "data": {
      "text/html": [
       "<div>\n",
       "<style scoped>\n",
       "    .dataframe tbody tr th:only-of-type {\n",
       "        vertical-align: middle;\n",
       "    }\n",
       "\n",
       "    .dataframe tbody tr th {\n",
       "        vertical-align: top;\n",
       "    }\n",
       "\n",
       "    .dataframe thead th {\n",
       "        text-align: right;\n",
       "    }\n",
       "</style>\n",
       "<table border=\"1\" class=\"dataframe\">\n",
       "  <thead>\n",
       "    <tr style=\"text-align: right;\">\n",
       "      <th></th>\n",
       "      <th>Rooms</th>\n",
       "      <th>Square</th>\n",
       "      <th>DistrictId</th>\n",
       "      <th>Social_1</th>\n",
       "      <th>Helthcare_2</th>\n",
       "      <th>Social_2</th>\n",
       "      <th>Shops_1</th>\n",
       "      <th>Floor</th>\n",
       "      <th>HouseFloor</th>\n",
       "      <th>LifeSquare</th>\n",
       "      <th>...</th>\n",
       "      <th>Ecology_1</th>\n",
       "      <th>KitchenSquare</th>\n",
       "      <th>HouseYear</th>\n",
       "      <th>cluster_year</th>\n",
       "      <th>mean_price_dr</th>\n",
       "      <th>mean_price_by_rooms</th>\n",
       "      <th>large_district</th>\n",
       "      <th>Price</th>\n",
       "      <th>Price_test</th>\n",
       "      <th>SD</th>\n",
       "    </tr>\n",
       "  </thead>\n",
       "  <tbody>\n",
       "    <tr>\n",
       "      <th>1026</th>\n",
       "      <td>1</td>\n",
       "      <td>34.382664</td>\n",
       "      <td>29</td>\n",
       "      <td>31</td>\n",
       "      <td>1</td>\n",
       "      <td>6119</td>\n",
       "      <td>2</td>\n",
       "      <td>7</td>\n",
       "      <td>9</td>\n",
       "      <td>22.438042</td>\n",
       "      <td>...</td>\n",
       "      <td>0.069660</td>\n",
       "      <td>5.0</td>\n",
       "      <td>1965</td>\n",
       "      <td>2</td>\n",
       "      <td>146802.281250</td>\n",
       "      <td>159850.796875</td>\n",
       "      <td>27</td>\n",
       "      <td>129588.909375</td>\n",
       "      <td>624156.000000</td>\n",
       "      <td>494567.090625</td>\n",
       "    </tr>\n",
       "    <tr>\n",
       "      <th>940</th>\n",
       "      <td>1</td>\n",
       "      <td>50.299168</td>\n",
       "      <td>9</td>\n",
       "      <td>11</td>\n",
       "      <td>0</td>\n",
       "      <td>2370</td>\n",
       "      <td>1</td>\n",
       "      <td>11</td>\n",
       "      <td>16</td>\n",
       "      <td>24.349604</td>\n",
       "      <td>...</td>\n",
       "      <td>0.136244</td>\n",
       "      <td>9.0</td>\n",
       "      <td>2006</td>\n",
       "      <td>1</td>\n",
       "      <td>141847.359375</td>\n",
       "      <td>159850.796875</td>\n",
       "      <td>89</td>\n",
       "      <td>154449.498438</td>\n",
       "      <td>608674.125000</td>\n",
       "      <td>454224.626563</td>\n",
       "    </tr>\n",
       "    <tr>\n",
       "      <th>2963</th>\n",
       "      <td>1</td>\n",
       "      <td>42.456928</td>\n",
       "      <td>23</td>\n",
       "      <td>6</td>\n",
       "      <td>0</td>\n",
       "      <td>1437</td>\n",
       "      <td>2</td>\n",
       "      <td>7</td>\n",
       "      <td>17</td>\n",
       "      <td>36.527618</td>\n",
       "      <td>...</td>\n",
       "      <td>0.075779</td>\n",
       "      <td>1.0</td>\n",
       "      <td>1977</td>\n",
       "      <td>0</td>\n",
       "      <td>100961.812500</td>\n",
       "      <td>159850.796875</td>\n",
       "      <td>175</td>\n",
       "      <td>115656.935938</td>\n",
       "      <td>554809.437500</td>\n",
       "      <td>439152.501563</td>\n",
       "    </tr>\n",
       "    <tr>\n",
       "      <th>2906</th>\n",
       "      <td>3</td>\n",
       "      <td>129.475021</td>\n",
       "      <td>17</td>\n",
       "      <td>23</td>\n",
       "      <td>2</td>\n",
       "      <td>4635</td>\n",
       "      <td>4</td>\n",
       "      <td>17</td>\n",
       "      <td>20</td>\n",
       "      <td>36.527618</td>\n",
       "      <td>...</td>\n",
       "      <td>0.093443</td>\n",
       "      <td>10.0</td>\n",
       "      <td>1977</td>\n",
       "      <td>0</td>\n",
       "      <td>419768.781250</td>\n",
       "      <td>289337.968750</td>\n",
       "      <td>20</td>\n",
       "      <td>535492.146875</td>\n",
       "      <td>111787.078125</td>\n",
       "      <td>423705.068750</td>\n",
       "    </tr>\n",
       "    <tr>\n",
       "      <th>858</th>\n",
       "      <td>1</td>\n",
       "      <td>40.279987</td>\n",
       "      <td>27</td>\n",
       "      <td>9</td>\n",
       "      <td>0</td>\n",
       "      <td>1892</td>\n",
       "      <td>1</td>\n",
       "      <td>8</td>\n",
       "      <td>15</td>\n",
       "      <td>38.652657</td>\n",
       "      <td>...</td>\n",
       "      <td>0.211401</td>\n",
       "      <td>10.0</td>\n",
       "      <td>2018</td>\n",
       "      <td>3</td>\n",
       "      <td>122710.742188</td>\n",
       "      <td>159850.796875</td>\n",
       "      <td>257</td>\n",
       "      <td>101789.387500</td>\n",
       "      <td>524279.250000</td>\n",
       "      <td>422489.862500</td>\n",
       "    </tr>\n",
       "    <tr>\n",
       "      <th>2522</th>\n",
       "      <td>3</td>\n",
       "      <td>77.681740</td>\n",
       "      <td>69</td>\n",
       "      <td>33</td>\n",
       "      <td>1</td>\n",
       "      <td>6783</td>\n",
       "      <td>9</td>\n",
       "      <td>3</td>\n",
       "      <td>17</td>\n",
       "      <td>45.150448</td>\n",
       "      <td>...</td>\n",
       "      <td>0.000991</td>\n",
       "      <td>10.0</td>\n",
       "      <td>1986</td>\n",
       "      <td>0</td>\n",
       "      <td>437378.781250</td>\n",
       "      <td>289337.968750</td>\n",
       "      <td>3</td>\n",
       "      <td>482412.437500</td>\n",
       "      <td>87419.695312</td>\n",
       "      <td>394992.742188</td>\n",
       "    </tr>\n",
       "    <tr>\n",
       "      <th>2436</th>\n",
       "      <td>1</td>\n",
       "      <td>38.704697</td>\n",
       "      <td>22</td>\n",
       "      <td>49</td>\n",
       "      <td>3</td>\n",
       "      <td>11395</td>\n",
       "      <td>4</td>\n",
       "      <td>9</td>\n",
       "      <td>22</td>\n",
       "      <td>21.993610</td>\n",
       "      <td>...</td>\n",
       "      <td>0.133215</td>\n",
       "      <td>10.0</td>\n",
       "      <td>1991</td>\n",
       "      <td>0</td>\n",
       "      <td>162263.906250</td>\n",
       "      <td>159850.796875</td>\n",
       "      <td>18</td>\n",
       "      <td>185804.898438</td>\n",
       "      <td>573999.437500</td>\n",
       "      <td>388194.539062</td>\n",
       "    </tr>\n",
       "    <tr>\n",
       "      <th>68</th>\n",
       "      <td>1</td>\n",
       "      <td>41.358940</td>\n",
       "      <td>93</td>\n",
       "      <td>25</td>\n",
       "      <td>0</td>\n",
       "      <td>6149</td>\n",
       "      <td>0</td>\n",
       "      <td>7</td>\n",
       "      <td>16</td>\n",
       "      <td>22.449837</td>\n",
       "      <td>...</td>\n",
       "      <td>0.521867</td>\n",
       "      <td>9.0</td>\n",
       "      <td>1987</td>\n",
       "      <td>0</td>\n",
       "      <td>143967.718750</td>\n",
       "      <td>159850.796875</td>\n",
       "      <td>22</td>\n",
       "      <td>151185.361719</td>\n",
       "      <td>526817.562500</td>\n",
       "      <td>375632.200781</td>\n",
       "    </tr>\n",
       "    <tr>\n",
       "      <th>347</th>\n",
       "      <td>2</td>\n",
       "      <td>62.646122</td>\n",
       "      <td>27</td>\n",
       "      <td>2</td>\n",
       "      <td>0</td>\n",
       "      <td>629</td>\n",
       "      <td>0</td>\n",
       "      <td>4</td>\n",
       "      <td>1</td>\n",
       "      <td>36.527618</td>\n",
       "      <td>...</td>\n",
       "      <td>0.072158</td>\n",
       "      <td>1.0</td>\n",
       "      <td>1977</td>\n",
       "      <td>0</td>\n",
       "      <td>166014.062500</td>\n",
       "      <td>215256.312500</td>\n",
       "      <td>257</td>\n",
       "      <td>220868.628125</td>\n",
       "      <td>593618.750000</td>\n",
       "      <td>372750.121875</td>\n",
       "    </tr>\n",
       "    <tr>\n",
       "      <th>1559</th>\n",
       "      <td>3</td>\n",
       "      <td>106.867638</td>\n",
       "      <td>146</td>\n",
       "      <td>16</td>\n",
       "      <td>3</td>\n",
       "      <td>3893</td>\n",
       "      <td>10</td>\n",
       "      <td>4</td>\n",
       "      <td>22</td>\n",
       "      <td>64.341759</td>\n",
       "      <td>...</td>\n",
       "      <td>0.236108</td>\n",
       "      <td>14.0</td>\n",
       "      <td>2011</td>\n",
       "      <td>3</td>\n",
       "      <td>465889.093750</td>\n",
       "      <td>289337.968750</td>\n",
       "      <td>7</td>\n",
       "      <td>521731.756250</td>\n",
       "      <td>151073.703125</td>\n",
       "      <td>370658.053125</td>\n",
       "    </tr>\n",
       "  </tbody>\n",
       "</table>\n",
       "<p>10 rows × 21 columns</p>\n",
       "</div>"
      ],
      "text/plain": [
       "      Rooms      Square  DistrictId  Social_1  Helthcare_2  Social_2  Shops_1  \\\n",
       "1026      1   34.382664          29        31            1      6119        2   \n",
       "940       1   50.299168           9        11            0      2370        1   \n",
       "2963      1   42.456928          23         6            0      1437        2   \n",
       "2906      3  129.475021          17        23            2      4635        4   \n",
       "858       1   40.279987          27         9            0      1892        1   \n",
       "2522      3   77.681740          69        33            1      6783        9   \n",
       "2436      1   38.704697          22        49            3     11395        4   \n",
       "68        1   41.358940          93        25            0      6149        0   \n",
       "347       2   62.646122          27         2            0       629        0   \n",
       "1559      3  106.867638         146        16            3      3893       10   \n",
       "\n",
       "      Floor  HouseFloor  LifeSquare  ...  Ecology_1  KitchenSquare  HouseYear  \\\n",
       "1026      7           9   22.438042  ...   0.069660            5.0       1965   \n",
       "940      11          16   24.349604  ...   0.136244            9.0       2006   \n",
       "2963      7          17   36.527618  ...   0.075779            1.0       1977   \n",
       "2906     17          20   36.527618  ...   0.093443           10.0       1977   \n",
       "858       8          15   38.652657  ...   0.211401           10.0       2018   \n",
       "2522      3          17   45.150448  ...   0.000991           10.0       1986   \n",
       "2436      9          22   21.993610  ...   0.133215           10.0       1991   \n",
       "68        7          16   22.449837  ...   0.521867            9.0       1987   \n",
       "347       4           1   36.527618  ...   0.072158            1.0       1977   \n",
       "1559      4          22   64.341759  ...   0.236108           14.0       2011   \n",
       "\n",
       "      cluster_year  mean_price_dr  mean_price_by_rooms  large_district  \\\n",
       "1026             2  146802.281250        159850.796875              27   \n",
       "940              1  141847.359375        159850.796875              89   \n",
       "2963             0  100961.812500        159850.796875             175   \n",
       "2906             0  419768.781250        289337.968750              20   \n",
       "858              3  122710.742188        159850.796875             257   \n",
       "2522             0  437378.781250        289337.968750               3   \n",
       "2436             0  162263.906250        159850.796875              18   \n",
       "68               0  143967.718750        159850.796875              22   \n",
       "347              0  166014.062500        215256.312500             257   \n",
       "1559             3  465889.093750        289337.968750               7   \n",
       "\n",
       "              Price     Price_test             SD  \n",
       "1026  129588.909375  624156.000000  494567.090625  \n",
       "940   154449.498438  608674.125000  454224.626563  \n",
       "2963  115656.935938  554809.437500  439152.501563  \n",
       "2906  535492.146875  111787.078125  423705.068750  \n",
       "858   101789.387500  524279.250000  422489.862500  \n",
       "2522  482412.437500   87419.695312  394992.742188  \n",
       "2436  185804.898438  573999.437500  388194.539062  \n",
       "68    151185.361719  526817.562500  375632.200781  \n",
       "347   220868.628125  593618.750000  372750.121875  \n",
       "1559  521731.756250  151073.703125  370658.053125  \n",
       "\n",
       "[10 rows x 21 columns]"
      ]
     },
     "execution_count": 62,
     "metadata": {},
     "output_type": "execute_result"
    }
   ],
   "source": [
    "model_top_deviation(random_forest, X_test, y_test)"
   ]
  },
  {
   "cell_type": "markdown",
   "metadata": {},
   "source": [
    "---"
   ]
  },
  {
   "cell_type": "markdown",
   "metadata": {},
   "source": [
    "## Gradient Boosting Regressor<a class='anchor' id='gbr'>"
   ]
  },
  {
   "cell_type": "markdown",
   "metadata": {},
   "source": [
    "**Theory about GBR**"
   ]
  },
  {
   "cell_type": "markdown",
   "metadata": {},
   "source": [
    "N trees are built sequentially: a new tree learns from the mistakes of previous trees. Tree predictions are summed up"
   ]
  },
  {
   "cell_type": "markdown",
   "metadata": {},
   "source": [
    "You can read more about GBR [here](https://medium.com/mlreview/gradient-boosting-from-scratch-1e317ae4587d)"
   ]
  },
  {
   "cell_type": "markdown",
   "metadata": {},
   "source": [
    "**Train the GBR Model**"
   ]
  },
  {
   "cell_type": "code",
   "execution_count": 63,
   "metadata": {},
   "outputs": [],
   "source": [
    "grad_boosting = GradientBoostingRegressor()"
   ]
  },
  {
   "cell_type": "code",
   "execution_count": 64,
   "metadata": {},
   "outputs": [
    {
     "data": {
      "text/plain": [
       "GradientBoostingRegressor(alpha=0.9, criterion='friedman_mse', init=None,\n",
       "             learning_rate=0.1, loss='ls', max_depth=3, max_features=None,\n",
       "             max_leaf_nodes=None, min_impurity_decrease=0.0,\n",
       "             min_impurity_split=None, min_samples_leaf=1,\n",
       "             min_samples_split=2, min_weight_fraction_leaf=0.0,\n",
       "             n_estimators=100, n_iter_no_change=None, presort='auto',\n",
       "             random_state=None, subsample=1.0, tol=0.0001,\n",
       "             validation_fraction=0.1, verbose=0, warm_start=False)"
      ]
     },
     "execution_count": 64,
     "metadata": {},
     "output_type": "execute_result"
    }
   ],
   "source": [
    "# Fit the model with train data\n",
    "\n",
    "grad_boosting.fit(X_train, y_train)"
   ]
  },
  {
   "cell_type": "code",
   "execution_count": 65,
   "metadata": {},
   "outputs": [],
   "source": [
    "result_dict['Gradient Boosting Regressor'] = grad_boosting"
   ]
  },
  {
   "cell_type": "markdown",
   "metadata": {},
   "source": [
    "**Test the result**"
   ]
  },
  {
   "cell_type": "code",
   "execution_count": 66,
   "metadata": {},
   "outputs": [
    {
     "data": {
      "image/png": "[encoded data removed]",
      "text/plain": [
       "<Figure size 432x288 with 1 Axes>"
      ]
     },
     "metadata": {
      "needs_background": "light"
     },
     "output_type": "display_data"
    }
   ],
   "source": [
    "test_model(grad_boosting, 'Gradient Boosting Regressor', X_test, y_test)"
   ]
  },
  {
   "cell_type": "code",
   "execution_count": 67,
   "metadata": {},
   "outputs": [
    {
     "data": {
      "text/html": [
       "<div>\n",
       "<style scoped>\n",
       "    .dataframe tbody tr th:only-of-type {\n",
       "        vertical-align: middle;\n",
       "    }\n",
       "\n",
       "    .dataframe tbody tr th {\n",
       "        vertical-align: top;\n",
       "    }\n",
       "\n",
       "    .dataframe thead th {\n",
       "        text-align: right;\n",
       "    }\n",
       "</style>\n",
       "<table border=\"1\" class=\"dataframe\">\n",
       "  <thead>\n",
       "    <tr style=\"text-align: right;\">\n",
       "      <th></th>\n",
       "      <th>Rooms</th>\n",
       "      <th>Square</th>\n",
       "      <th>DistrictId</th>\n",
       "      <th>Social_1</th>\n",
       "      <th>Helthcare_2</th>\n",
       "      <th>Social_2</th>\n",
       "      <th>Shops_1</th>\n",
       "      <th>Floor</th>\n",
       "      <th>HouseFloor</th>\n",
       "      <th>LifeSquare</th>\n",
       "      <th>...</th>\n",
       "      <th>Ecology_1</th>\n",
       "      <th>KitchenSquare</th>\n",
       "      <th>HouseYear</th>\n",
       "      <th>cluster_year</th>\n",
       "      <th>mean_price_dr</th>\n",
       "      <th>mean_price_by_rooms</th>\n",
       "      <th>large_district</th>\n",
       "      <th>Price</th>\n",
       "      <th>Price_test</th>\n",
       "      <th>SD</th>\n",
       "    </tr>\n",
       "  </thead>\n",
       "  <tbody>\n",
       "    <tr>\n",
       "      <th>1026</th>\n",
       "      <td>1</td>\n",
       "      <td>34.382664</td>\n",
       "      <td>29</td>\n",
       "      <td>31</td>\n",
       "      <td>1</td>\n",
       "      <td>6119</td>\n",
       "      <td>2</td>\n",
       "      <td>7</td>\n",
       "      <td>9</td>\n",
       "      <td>22.438042</td>\n",
       "      <td>...</td>\n",
       "      <td>0.069660</td>\n",
       "      <td>5.0</td>\n",
       "      <td>1965</td>\n",
       "      <td>2</td>\n",
       "      <td>146802.281250</td>\n",
       "      <td>159850.796875</td>\n",
       "      <td>27</td>\n",
       "      <td>142365.680935</td>\n",
       "      <td>624156.000000</td>\n",
       "      <td>481790.319065</td>\n",
       "    </tr>\n",
       "    <tr>\n",
       "      <th>940</th>\n",
       "      <td>1</td>\n",
       "      <td>50.299168</td>\n",
       "      <td>9</td>\n",
       "      <td>11</td>\n",
       "      <td>0</td>\n",
       "      <td>2370</td>\n",
       "      <td>1</td>\n",
       "      <td>11</td>\n",
       "      <td>16</td>\n",
       "      <td>24.349604</td>\n",
       "      <td>...</td>\n",
       "      <td>0.136244</td>\n",
       "      <td>9.0</td>\n",
       "      <td>2006</td>\n",
       "      <td>1</td>\n",
       "      <td>141847.359375</td>\n",
       "      <td>159850.796875</td>\n",
       "      <td>89</td>\n",
       "      <td>157559.234632</td>\n",
       "      <td>608674.125000</td>\n",
       "      <td>451114.890368</td>\n",
       "    </tr>\n",
       "    <tr>\n",
       "      <th>2963</th>\n",
       "      <td>1</td>\n",
       "      <td>42.456928</td>\n",
       "      <td>23</td>\n",
       "      <td>6</td>\n",
       "      <td>0</td>\n",
       "      <td>1437</td>\n",
       "      <td>2</td>\n",
       "      <td>7</td>\n",
       "      <td>17</td>\n",
       "      <td>36.527618</td>\n",
       "      <td>...</td>\n",
       "      <td>0.075779</td>\n",
       "      <td>1.0</td>\n",
       "      <td>1977</td>\n",
       "      <td>0</td>\n",
       "      <td>100961.812500</td>\n",
       "      <td>159850.796875</td>\n",
       "      <td>175</td>\n",
       "      <td>119917.483518</td>\n",
       "      <td>554809.437500</td>\n",
       "      <td>434891.953982</td>\n",
       "    </tr>\n",
       "    <tr>\n",
       "      <th>347</th>\n",
       "      <td>2</td>\n",
       "      <td>62.646122</td>\n",
       "      <td>27</td>\n",
       "      <td>2</td>\n",
       "      <td>0</td>\n",
       "      <td>629</td>\n",
       "      <td>0</td>\n",
       "      <td>4</td>\n",
       "      <td>1</td>\n",
       "      <td>36.527618</td>\n",
       "      <td>...</td>\n",
       "      <td>0.072158</td>\n",
       "      <td>1.0</td>\n",
       "      <td>1977</td>\n",
       "      <td>0</td>\n",
       "      <td>166014.062500</td>\n",
       "      <td>215256.312500</td>\n",
       "      <td>257</td>\n",
       "      <td>169553.734831</td>\n",
       "      <td>593618.750000</td>\n",
       "      <td>424065.015169</td>\n",
       "    </tr>\n",
       "    <tr>\n",
       "      <th>858</th>\n",
       "      <td>1</td>\n",
       "      <td>40.279987</td>\n",
       "      <td>27</td>\n",
       "      <td>9</td>\n",
       "      <td>0</td>\n",
       "      <td>1892</td>\n",
       "      <td>1</td>\n",
       "      <td>8</td>\n",
       "      <td>15</td>\n",
       "      <td>38.652657</td>\n",
       "      <td>...</td>\n",
       "      <td>0.211401</td>\n",
       "      <td>10.0</td>\n",
       "      <td>2018</td>\n",
       "      <td>3</td>\n",
       "      <td>122710.742188</td>\n",
       "      <td>159850.796875</td>\n",
       "      <td>257</td>\n",
       "      <td>115536.119117</td>\n",
       "      <td>524279.250000</td>\n",
       "      <td>408743.130883</td>\n",
       "    </tr>\n",
       "    <tr>\n",
       "      <th>2436</th>\n",
       "      <td>1</td>\n",
       "      <td>38.704697</td>\n",
       "      <td>22</td>\n",
       "      <td>49</td>\n",
       "      <td>3</td>\n",
       "      <td>11395</td>\n",
       "      <td>4</td>\n",
       "      <td>9</td>\n",
       "      <td>22</td>\n",
       "      <td>21.993610</td>\n",
       "      <td>...</td>\n",
       "      <td>0.133215</td>\n",
       "      <td>10.0</td>\n",
       "      <td>1991</td>\n",
       "      <td>0</td>\n",
       "      <td>162263.906250</td>\n",
       "      <td>159850.796875</td>\n",
       "      <td>18</td>\n",
       "      <td>170966.866901</td>\n",
       "      <td>573999.437500</td>\n",
       "      <td>403032.570599</td>\n",
       "    </tr>\n",
       "    <tr>\n",
       "      <th>964</th>\n",
       "      <td>5</td>\n",
       "      <td>118.871948</td>\n",
       "      <td>78</td>\n",
       "      <td>21</td>\n",
       "      <td>1</td>\n",
       "      <td>4346</td>\n",
       "      <td>2</td>\n",
       "      <td>15</td>\n",
       "      <td>16</td>\n",
       "      <td>69.023506</td>\n",
       "      <td>...</td>\n",
       "      <td>0.092291</td>\n",
       "      <td>10.0</td>\n",
       "      <td>1998</td>\n",
       "      <td>1</td>\n",
       "      <td>496026.656250</td>\n",
       "      <td>410431.593750</td>\n",
       "      <td>10</td>\n",
       "      <td>509404.921900</td>\n",
       "      <td>119853.828125</td>\n",
       "      <td>389551.093775</td>\n",
       "    </tr>\n",
       "    <tr>\n",
       "      <th>2663</th>\n",
       "      <td>2</td>\n",
       "      <td>68.983444</td>\n",
       "      <td>23</td>\n",
       "      <td>0</td>\n",
       "      <td>0</td>\n",
       "      <td>168</td>\n",
       "      <td>0</td>\n",
       "      <td>1</td>\n",
       "      <td>3</td>\n",
       "      <td>67.122673</td>\n",
       "      <td>...</td>\n",
       "      <td>0.034656</td>\n",
       "      <td>0.0</td>\n",
       "      <td>2014</td>\n",
       "      <td>3</td>\n",
       "      <td>135324.359375</td>\n",
       "      <td>215256.312500</td>\n",
       "      <td>175</td>\n",
       "      <td>124276.130580</td>\n",
       "      <td>506175.000000</td>\n",
       "      <td>381898.869420</td>\n",
       "    </tr>\n",
       "    <tr>\n",
       "      <th>68</th>\n",
       "      <td>1</td>\n",
       "      <td>41.358940</td>\n",
       "      <td>93</td>\n",
       "      <td>25</td>\n",
       "      <td>0</td>\n",
       "      <td>6149</td>\n",
       "      <td>0</td>\n",
       "      <td>7</td>\n",
       "      <td>16</td>\n",
       "      <td>22.449837</td>\n",
       "      <td>...</td>\n",
       "      <td>0.521867</td>\n",
       "      <td>9.0</td>\n",
       "      <td>1987</td>\n",
       "      <td>0</td>\n",
       "      <td>143967.718750</td>\n",
       "      <td>159850.796875</td>\n",
       "      <td>22</td>\n",
       "      <td>146607.915650</td>\n",
       "      <td>526817.562500</td>\n",
       "      <td>380209.646850</td>\n",
       "    </tr>\n",
       "    <tr>\n",
       "      <th>106</th>\n",
       "      <td>2</td>\n",
       "      <td>44.537441</td>\n",
       "      <td>10</td>\n",
       "      <td>33</td>\n",
       "      <td>0</td>\n",
       "      <td>8667</td>\n",
       "      <td>6</td>\n",
       "      <td>8</td>\n",
       "      <td>9</td>\n",
       "      <td>32.103275</td>\n",
       "      <td>...</td>\n",
       "      <td>0.282798</td>\n",
       "      <td>5.0</td>\n",
       "      <td>1971</td>\n",
       "      <td>2</td>\n",
       "      <td>226197.562500</td>\n",
       "      <td>215256.312500</td>\n",
       "      <td>20</td>\n",
       "      <td>203619.212358</td>\n",
       "      <td>574631.312500</td>\n",
       "      <td>371012.100142</td>\n",
       "    </tr>\n",
       "  </tbody>\n",
       "</table>\n",
       "<p>10 rows × 21 columns</p>\n",
       "</div>"
      ],
      "text/plain": [
       "      Rooms      Square  DistrictId  Social_1  Helthcare_2  Social_2  Shops_1  \\\n",
       "1026      1   34.382664          29        31            1      6119        2   \n",
       "940       1   50.299168           9        11            0      2370        1   \n",
       "2963      1   42.456928          23         6            0      1437        2   \n",
       "347       2   62.646122          27         2            0       629        0   \n",
       "858       1   40.279987          27         9            0      1892        1   \n",
       "2436      1   38.704697          22        49            3     11395        4   \n",
       "964       5  118.871948          78        21            1      4346        2   \n",
       "2663      2   68.983444          23         0            0       168        0   \n",
       "68        1   41.358940          93        25            0      6149        0   \n",
       "106       2   44.537441          10        33            0      8667        6   \n",
       "\n",
       "      Floor  HouseFloor  LifeSquare  ...  Ecology_1  KitchenSquare  HouseYear  \\\n",
       "1026      7           9   22.438042  ...   0.069660            5.0       1965   \n",
       "940      11          16   24.349604  ...   0.136244            9.0       2006   \n",
       "2963      7          17   36.527618  ...   0.075779            1.0       1977   \n",
       "347       4           1   36.527618  ...   0.072158            1.0       1977   \n",
       "858       8          15   38.652657  ...   0.211401           10.0       2018   \n",
       "2436      9          22   21.993610  ...   0.133215           10.0       1991   \n",
       "964      15          16   69.023506  ...   0.092291           10.0       1998   \n",
       "2663      1           3   67.122673  ...   0.034656            0.0       2014   \n",
       "68        7          16   22.449837  ...   0.521867            9.0       1987   \n",
       "106       8           9   32.103275  ...   0.282798            5.0       1971   \n",
       "\n",
       "      cluster_year  mean_price_dr  mean_price_by_rooms  large_district  \\\n",
       "1026             2  146802.281250        159850.796875              27   \n",
       "940              1  141847.359375        159850.796875              89   \n",
       "2963             0  100961.812500        159850.796875             175   \n",
       "347              0  166014.062500        215256.312500             257   \n",
       "858              3  122710.742188        159850.796875             257   \n",
       "2436             0  162263.906250        159850.796875              18   \n",
       "964              1  496026.656250        410431.593750              10   \n",
       "2663             3  135324.359375        215256.312500             175   \n",
       "68               0  143967.718750        159850.796875              22   \n",
       "106              2  226197.562500        215256.312500              20   \n",
       "\n",
       "              Price     Price_test             SD  \n",
       "1026  142365.680935  624156.000000  481790.319065  \n",
       "940   157559.234632  608674.125000  451114.890368  \n",
       "2963  119917.483518  554809.437500  434891.953982  \n",
       "347   169553.734831  593618.750000  424065.015169  \n",
       "858   115536.119117  524279.250000  408743.130883  \n",
       "2436  170966.866901  573999.437500  403032.570599  \n",
       "964   509404.921900  119853.828125  389551.093775  \n",
       "2663  124276.130580  506175.000000  381898.869420  \n",
       "68    146607.915650  526817.562500  380209.646850  \n",
       "106   203619.212358  574631.312500  371012.100142  \n",
       "\n",
       "[10 rows x 21 columns]"
      ]
     },
     "execution_count": 67,
     "metadata": {},
     "output_type": "execute_result"
    }
   ],
   "source": [
    "model_top_deviation(grad_boosting, X_test, y_test)"
   ]
  },
  {
   "cell_type": "markdown",
   "metadata": {},
   "source": [
    "---"
   ]
  },
  {
   "cell_type": "markdown",
   "metadata": {},
   "source": [
    "## LassoCV<a class='anchor' id='cv'>"
   ]
  },
  {
   "cell_type": "markdown",
   "metadata": {},
   "source": [
    "**Theory about LassoCV**"
   ]
  },
  {
   "cell_type": "markdown",
   "metadata": {},
   "source": [
    "Lasso, or Least Absolute Shrinkage and Selection Operator, adds a penalty for non-zero coefficients, but unlike ridge regression which penalizes sum of squared coefficients (the so-called L2 penalty), lasso penalizes the sum of their absolute values (L1 penalty). As a result, for high values of λ, many coefficients are exactly zeroed under lasso, which is never the case in ridge regression."
   ]
  },
  {
   "cell_type": "markdown",
   "metadata": {},
   "source": [
    "<img src=\"lasso.png\">"
   ]
  },
  {
   "cell_type": "markdown",
   "metadata": {},
   "source": [
    "Sklearn documentation can be found under this [link](https://scikit-learn.org/stable/modules/generated/sklearn.linear_model.LassoCV.html)"
   ]
  },
  {
   "cell_type": "markdown",
   "metadata": {},
   "source": [
    "**Train LassoCV Model**"
   ]
  },
  {
   "cell_type": "code",
   "execution_count": 68,
   "metadata": {},
   "outputs": [],
   "source": [
    "lcv_model = LassoCV()"
   ]
  },
  {
   "cell_type": "code",
   "execution_count": 69,
   "metadata": {},
   "outputs": [
    {
     "name": "stderr",
     "output_type": "stream",
     "text": [
      "/Users/ilya.ivolgin/miniconda3/envs/day2/lib/python3.5/site-packages/sklearn/model_selection/_split.py:1943: FutureWarning: You should specify a value for 'cv' instead of relying on the default value. The default value will change from 3 to 5 in version 0.22.\n",
      "  warnings.warn(CV_WARNING, FutureWarning)\n"
     ]
    },
    {
     "data": {
      "text/plain": [
       "LassoCV(alphas=None, copy_X=True, cv='warn', eps=0.001, fit_intercept=True,\n",
       "    max_iter=1000, n_alphas=100, n_jobs=None, normalize=False,\n",
       "    positive=False, precompute='auto', random_state=None,\n",
       "    selection='cyclic', tol=0.0001, verbose=False)"
      ]
     },
     "execution_count": 69,
     "metadata": {},
     "output_type": "execute_result"
    }
   ],
   "source": [
    "# Fit the model with the train data\n",
    "\n",
    "lcv_model.fit(X_train, y_train)"
   ]
  },
  {
   "cell_type": "code",
   "execution_count": 70,
   "metadata": {},
   "outputs": [],
   "source": [
    "result_dict['LassoCV'] = lcv_model"
   ]
  },
  {
   "cell_type": "markdown",
   "metadata": {},
   "source": [
    "**Test the result**"
   ]
  },
  {
   "cell_type": "code",
   "execution_count": 71,
   "metadata": {},
   "outputs": [
    {
     "data": {
      "image/png": "[encoded data removed]",
      "text/plain": [
       "<Figure size 432x288 with 1 Axes>"
      ]
     },
     "metadata": {
      "needs_background": "light"
     },
     "output_type": "display_data"
    }
   ],
   "source": [
    "test_model(lcv_model, 'LassoCV', X_test, y_test)"
   ]
  },
  {
   "cell_type": "code",
   "execution_count": 72,
   "metadata": {},
   "outputs": [
    {
     "data": {
      "text/html": [
       "<div>\n",
       "<style scoped>\n",
       "    .dataframe tbody tr th:only-of-type {\n",
       "        vertical-align: middle;\n",
       "    }\n",
       "\n",
       "    .dataframe tbody tr th {\n",
       "        vertical-align: top;\n",
       "    }\n",
       "\n",
       "    .dataframe thead th {\n",
       "        text-align: right;\n",
       "    }\n",
       "</style>\n",
       "<table border=\"1\" class=\"dataframe\">\n",
       "  <thead>\n",
       "    <tr style=\"text-align: right;\">\n",
       "      <th></th>\n",
       "      <th>Rooms</th>\n",
       "      <th>Square</th>\n",
       "      <th>DistrictId</th>\n",
       "      <th>Social_1</th>\n",
       "      <th>Helthcare_2</th>\n",
       "      <th>Social_2</th>\n",
       "      <th>Shops_1</th>\n",
       "      <th>Floor</th>\n",
       "      <th>HouseFloor</th>\n",
       "      <th>LifeSquare</th>\n",
       "      <th>...</th>\n",
       "      <th>Ecology_1</th>\n",
       "      <th>KitchenSquare</th>\n",
       "      <th>HouseYear</th>\n",
       "      <th>cluster_year</th>\n",
       "      <th>mean_price_dr</th>\n",
       "      <th>mean_price_by_rooms</th>\n",
       "      <th>large_district</th>\n",
       "      <th>Price</th>\n",
       "      <th>Price_test</th>\n",
       "      <th>SD</th>\n",
       "    </tr>\n",
       "  </thead>\n",
       "  <tbody>\n",
       "    <tr>\n",
       "      <th>1026</th>\n",
       "      <td>1</td>\n",
       "      <td>34.382664</td>\n",
       "      <td>29</td>\n",
       "      <td>31</td>\n",
       "      <td>1</td>\n",
       "      <td>6119</td>\n",
       "      <td>2</td>\n",
       "      <td>7</td>\n",
       "      <td>9</td>\n",
       "      <td>22.438042</td>\n",
       "      <td>...</td>\n",
       "      <td>0.069660</td>\n",
       "      <td>5.0</td>\n",
       "      <td>1965</td>\n",
       "      <td>2</td>\n",
       "      <td>146802.281250</td>\n",
       "      <td>159850.796875</td>\n",
       "      <td>27</td>\n",
       "      <td>147016.544572</td>\n",
       "      <td>624156.000000</td>\n",
       "      <td>477139.455428</td>\n",
       "    </tr>\n",
       "    <tr>\n",
       "      <th>940</th>\n",
       "      <td>1</td>\n",
       "      <td>50.299168</td>\n",
       "      <td>9</td>\n",
       "      <td>11</td>\n",
       "      <td>0</td>\n",
       "      <td>2370</td>\n",
       "      <td>1</td>\n",
       "      <td>11</td>\n",
       "      <td>16</td>\n",
       "      <td>24.349604</td>\n",
       "      <td>...</td>\n",
       "      <td>0.136244</td>\n",
       "      <td>9.0</td>\n",
       "      <td>2006</td>\n",
       "      <td>1</td>\n",
       "      <td>141847.359375</td>\n",
       "      <td>159850.796875</td>\n",
       "      <td>89</td>\n",
       "      <td>142125.817877</td>\n",
       "      <td>608674.125000</td>\n",
       "      <td>466548.307123</td>\n",
       "    </tr>\n",
       "    <tr>\n",
       "      <th>2963</th>\n",
       "      <td>1</td>\n",
       "      <td>42.456928</td>\n",
       "      <td>23</td>\n",
       "      <td>6</td>\n",
       "      <td>0</td>\n",
       "      <td>1437</td>\n",
       "      <td>2</td>\n",
       "      <td>7</td>\n",
       "      <td>17</td>\n",
       "      <td>36.527618</td>\n",
       "      <td>...</td>\n",
       "      <td>0.075779</td>\n",
       "      <td>1.0</td>\n",
       "      <td>1977</td>\n",
       "      <td>0</td>\n",
       "      <td>100961.812500</td>\n",
       "      <td>159850.796875</td>\n",
       "      <td>175</td>\n",
       "      <td>101769.977647</td>\n",
       "      <td>554809.437500</td>\n",
       "      <td>453039.459853</td>\n",
       "    </tr>\n",
       "    <tr>\n",
       "      <th>347</th>\n",
       "      <td>2</td>\n",
       "      <td>62.646122</td>\n",
       "      <td>27</td>\n",
       "      <td>2</td>\n",
       "      <td>0</td>\n",
       "      <td>629</td>\n",
       "      <td>0</td>\n",
       "      <td>4</td>\n",
       "      <td>1</td>\n",
       "      <td>36.527618</td>\n",
       "      <td>...</td>\n",
       "      <td>0.072158</td>\n",
       "      <td>1.0</td>\n",
       "      <td>1977</td>\n",
       "      <td>0</td>\n",
       "      <td>166014.062500</td>\n",
       "      <td>215256.312500</td>\n",
       "      <td>257</td>\n",
       "      <td>165979.421039</td>\n",
       "      <td>593618.750000</td>\n",
       "      <td>427639.328961</td>\n",
       "    </tr>\n",
       "    <tr>\n",
       "      <th>2436</th>\n",
       "      <td>1</td>\n",
       "      <td>38.704697</td>\n",
       "      <td>22</td>\n",
       "      <td>49</td>\n",
       "      <td>3</td>\n",
       "      <td>11395</td>\n",
       "      <td>4</td>\n",
       "      <td>9</td>\n",
       "      <td>22</td>\n",
       "      <td>21.993610</td>\n",
       "      <td>...</td>\n",
       "      <td>0.133215</td>\n",
       "      <td>10.0</td>\n",
       "      <td>1991</td>\n",
       "      <td>0</td>\n",
       "      <td>162263.906250</td>\n",
       "      <td>159850.796875</td>\n",
       "      <td>18</td>\n",
       "      <td>162277.851217</td>\n",
       "      <td>573999.437500</td>\n",
       "      <td>411721.586283</td>\n",
       "    </tr>\n",
       "    <tr>\n",
       "      <th>858</th>\n",
       "      <td>1</td>\n",
       "      <td>40.279987</td>\n",
       "      <td>27</td>\n",
       "      <td>9</td>\n",
       "      <td>0</td>\n",
       "      <td>1892</td>\n",
       "      <td>1</td>\n",
       "      <td>8</td>\n",
       "      <td>15</td>\n",
       "      <td>38.652657</td>\n",
       "      <td>...</td>\n",
       "      <td>0.211401</td>\n",
       "      <td>10.0</td>\n",
       "      <td>2018</td>\n",
       "      <td>3</td>\n",
       "      <td>122710.742188</td>\n",
       "      <td>159850.796875</td>\n",
       "      <td>257</td>\n",
       "      <td>123237.131659</td>\n",
       "      <td>524279.250000</td>\n",
       "      <td>401042.118341</td>\n",
       "    </tr>\n",
       "    <tr>\n",
       "      <th>68</th>\n",
       "      <td>1</td>\n",
       "      <td>41.358940</td>\n",
       "      <td>93</td>\n",
       "      <td>25</td>\n",
       "      <td>0</td>\n",
       "      <td>6149</td>\n",
       "      <td>0</td>\n",
       "      <td>7</td>\n",
       "      <td>16</td>\n",
       "      <td>22.449837</td>\n",
       "      <td>...</td>\n",
       "      <td>0.521867</td>\n",
       "      <td>9.0</td>\n",
       "      <td>1987</td>\n",
       "      <td>0</td>\n",
       "      <td>143967.718750</td>\n",
       "      <td>159850.796875</td>\n",
       "      <td>22</td>\n",
       "      <td>144218.706213</td>\n",
       "      <td>526817.562500</td>\n",
       "      <td>382598.856287</td>\n",
       "    </tr>\n",
       "    <tr>\n",
       "      <th>2754</th>\n",
       "      <td>2</td>\n",
       "      <td>54.509392</td>\n",
       "      <td>13</td>\n",
       "      <td>74</td>\n",
       "      <td>5</td>\n",
       "      <td>19083</td>\n",
       "      <td>15</td>\n",
       "      <td>12</td>\n",
       "      <td>17</td>\n",
       "      <td>34.357174</td>\n",
       "      <td>...</td>\n",
       "      <td>0.090799</td>\n",
       "      <td>9.0</td>\n",
       "      <td>2002</td>\n",
       "      <td>1</td>\n",
       "      <td>231706.984375</td>\n",
       "      <td>215256.312500</td>\n",
       "      <td>30</td>\n",
       "      <td>230821.235863</td>\n",
       "      <td>610557.375000</td>\n",
       "      <td>379736.139137</td>\n",
       "    </tr>\n",
       "    <tr>\n",
       "      <th>964</th>\n",
       "      <td>5</td>\n",
       "      <td>118.871948</td>\n",
       "      <td>78</td>\n",
       "      <td>21</td>\n",
       "      <td>1</td>\n",
       "      <td>4346</td>\n",
       "      <td>2</td>\n",
       "      <td>15</td>\n",
       "      <td>16</td>\n",
       "      <td>69.023506</td>\n",
       "      <td>...</td>\n",
       "      <td>0.092291</td>\n",
       "      <td>10.0</td>\n",
       "      <td>1998</td>\n",
       "      <td>1</td>\n",
       "      <td>496026.656250</td>\n",
       "      <td>410431.593750</td>\n",
       "      <td>10</td>\n",
       "      <td>491716.424096</td>\n",
       "      <td>119853.828125</td>\n",
       "      <td>371862.595971</td>\n",
       "    </tr>\n",
       "    <tr>\n",
       "      <th>2663</th>\n",
       "      <td>2</td>\n",
       "      <td>68.983444</td>\n",
       "      <td>23</td>\n",
       "      <td>0</td>\n",
       "      <td>0</td>\n",
       "      <td>168</td>\n",
       "      <td>0</td>\n",
       "      <td>1</td>\n",
       "      <td>3</td>\n",
       "      <td>67.122673</td>\n",
       "      <td>...</td>\n",
       "      <td>0.034656</td>\n",
       "      <td>0.0</td>\n",
       "      <td>2014</td>\n",
       "      <td>3</td>\n",
       "      <td>135324.359375</td>\n",
       "      <td>215256.312500</td>\n",
       "      <td>175</td>\n",
       "      <td>135687.328828</td>\n",
       "      <td>506175.000000</td>\n",
       "      <td>370487.671172</td>\n",
       "    </tr>\n",
       "  </tbody>\n",
       "</table>\n",
       "<p>10 rows × 21 columns</p>\n",
       "</div>"
      ],
      "text/plain": [
       "      Rooms      Square  DistrictId  Social_1  Helthcare_2  Social_2  Shops_1  \\\n",
       "1026      1   34.382664          29        31            1      6119        2   \n",
       "940       1   50.299168           9        11            0      2370        1   \n",
       "2963      1   42.456928          23         6            0      1437        2   \n",
       "347       2   62.646122          27         2            0       629        0   \n",
       "2436      1   38.704697          22        49            3     11395        4   \n",
       "858       1   40.279987          27         9            0      1892        1   \n",
       "68        1   41.358940          93        25            0      6149        0   \n",
       "2754      2   54.509392          13        74            5     19083       15   \n",
       "964       5  118.871948          78        21            1      4346        2   \n",
       "2663      2   68.983444          23         0            0       168        0   \n",
       "\n",
       "      Floor  HouseFloor  LifeSquare  ...  Ecology_1  KitchenSquare  HouseYear  \\\n",
       "1026      7           9   22.438042  ...   0.069660            5.0       1965   \n",
       "940      11          16   24.349604  ...   0.136244            9.0       2006   \n",
       "2963      7          17   36.527618  ...   0.075779            1.0       1977   \n",
       "347       4           1   36.527618  ...   0.072158            1.0       1977   \n",
       "2436      9          22   21.993610  ...   0.133215           10.0       1991   \n",
       "858       8          15   38.652657  ...   0.211401           10.0       2018   \n",
       "68        7          16   22.449837  ...   0.521867            9.0       1987   \n",
       "2754     12          17   34.357174  ...   0.090799            9.0       2002   \n",
       "964      15          16   69.023506  ...   0.092291           10.0       1998   \n",
       "2663      1           3   67.122673  ...   0.034656            0.0       2014   \n",
       "\n",
       "      cluster_year  mean_price_dr  mean_price_by_rooms  large_district  \\\n",
       "1026             2  146802.281250        159850.796875              27   \n",
       "940              1  141847.359375        159850.796875              89   \n",
       "2963             0  100961.812500        159850.796875             175   \n",
       "347              0  166014.062500        215256.312500             257   \n",
       "2436             0  162263.906250        159850.796875              18   \n",
       "858              3  122710.742188        159850.796875             257   \n",
       "68               0  143967.718750        159850.796875              22   \n",
       "2754             1  231706.984375        215256.312500              30   \n",
       "964              1  496026.656250        410431.593750              10   \n",
       "2663             3  135324.359375        215256.312500             175   \n",
       "\n",
       "              Price     Price_test             SD  \n",
       "1026  147016.544572  624156.000000  477139.455428  \n",
       "940   142125.817877  608674.125000  466548.307123  \n",
       "2963  101769.977647  554809.437500  453039.459853  \n",
       "347   165979.421039  593618.750000  427639.328961  \n",
       "2436  162277.851217  573999.437500  411721.586283  \n",
       "858   123237.131659  524279.250000  401042.118341  \n",
       "68    144218.706213  526817.562500  382598.856287  \n",
       "2754  230821.235863  610557.375000  379736.139137  \n",
       "964   491716.424096  119853.828125  371862.595971  \n",
       "2663  135687.328828  506175.000000  370487.671172  \n",
       "\n",
       "[10 rows x 21 columns]"
      ]
     },
     "execution_count": 72,
     "metadata": {},
     "output_type": "execute_result"
    }
   ],
   "source": [
    "model_top_deviation(lcv_model, X_test, y_test)"
   ]
  },
  {
   "cell_type": "markdown",
   "metadata": {},
   "source": [
    "---"
   ]
  },
  {
   "cell_type": "markdown",
   "metadata": {},
   "source": [
    "## XGB Regressor<a class='anchor' id='xgb'>"
   ]
  },
  {
   "cell_type": "markdown",
   "metadata": {},
   "source": [
    "XGBoost is a **decision-tree-based ensemble** Machine Learning algorithm that uses a gradient boosting framework. In prediction problems involving unstructured data (images, text, etc.) artificial neural networks tend to outperform all other algorithms or frameworks. However, when it comes to small-to-medium structured/tabular data, decision tree based algorithms are considered best-in-class right now."
   ]
  },
  {
   "cell_type": "markdown",
   "metadata": {},
   "source": [
    "[Source](https://towardsdatascience.com/https-medium-com-vishalmorde-xgboost-algorithm-long-she-may-rein-edd9f99be63d)"
   ]
  },
  {
   "cell_type": "markdown",
   "metadata": {},
   "source": [
    "**Train the XGB Regressor Model**"
   ]
  },
  {
   "cell_type": "code",
   "execution_count": 73,
   "metadata": {},
   "outputs": [],
   "source": [
    "XGB_model = XGBRegressor()"
   ]
  },
  {
   "cell_type": "code",
   "execution_count": 74,
   "metadata": {},
   "outputs": [
    {
     "data": {
      "text/plain": [
       "XGBRegressor(base_score=0.5, booster='gbtree', colsample_bylevel=1,\n",
       "       colsample_bytree=1, gamma=0, learning_rate=0.1, max_delta_step=0,\n",
       "       max_depth=3, min_child_weight=1, missing=None, n_estimators=100,\n",
       "       n_jobs=1, nthread=None, objective='reg:linear', random_state=0,\n",
       "       reg_alpha=0, reg_lambda=1, scale_pos_weight=1, seed=None,\n",
       "       silent=True, subsample=1)"
      ]
     },
     "execution_count": 74,
     "metadata": {},
     "output_type": "execute_result"
    }
   ],
   "source": [
    "# Fit the model with train data\n",
    "\n",
    "XGB_model.fit(X_train, y_train)"
   ]
  },
  {
   "cell_type": "code",
   "execution_count": 75,
   "metadata": {},
   "outputs": [],
   "source": [
    "result_dict['XGBRegressor'] = XGB_model"
   ]
  },
  {
   "cell_type": "markdown",
   "metadata": {},
   "source": [
    "**Test the result**"
   ]
  },
  {
   "cell_type": "code",
   "execution_count": 76,
   "metadata": {},
   "outputs": [
    {
     "data": {
      "image/png": "[encoded data removed]",
      "text/plain": [
       "<Figure size 432x288 with 1 Axes>"
      ]
     },
     "metadata": {
      "needs_background": "light"
     },
     "output_type": "display_data"
    }
   ],
   "source": [
    "test_model(XGB_model, 'XGB Regressor', X_test, y_test)"
   ]
  },
  {
   "cell_type": "code",
   "execution_count": 77,
   "metadata": {
    "scrolled": true
   },
   "outputs": [
    {
     "data": {
      "text/html": [
       "<div>\n",
       "<style scoped>\n",
       "    .dataframe tbody tr th:only-of-type {\n",
       "        vertical-align: middle;\n",
       "    }\n",
       "\n",
       "    .dataframe tbody tr th {\n",
       "        vertical-align: top;\n",
       "    }\n",
       "\n",
       "    .dataframe thead th {\n",
       "        text-align: right;\n",
       "    }\n",
       "</style>\n",
       "<table border=\"1\" class=\"dataframe\">\n",
       "  <thead>\n",
       "    <tr style=\"text-align: right;\">\n",
       "      <th></th>\n",
       "      <th>Rooms</th>\n",
       "      <th>Square</th>\n",
       "      <th>DistrictId</th>\n",
       "      <th>Social_1</th>\n",
       "      <th>Helthcare_2</th>\n",
       "      <th>Social_2</th>\n",
       "      <th>Shops_1</th>\n",
       "      <th>Floor</th>\n",
       "      <th>HouseFloor</th>\n",
       "      <th>LifeSquare</th>\n",
       "      <th>...</th>\n",
       "      <th>Ecology_1</th>\n",
       "      <th>KitchenSquare</th>\n",
       "      <th>HouseYear</th>\n",
       "      <th>cluster_year</th>\n",
       "      <th>mean_price_dr</th>\n",
       "      <th>mean_price_by_rooms</th>\n",
       "      <th>large_district</th>\n",
       "      <th>Price</th>\n",
       "      <th>Price_test</th>\n",
       "      <th>SD</th>\n",
       "    </tr>\n",
       "  </thead>\n",
       "  <tbody>\n",
       "    <tr>\n",
       "      <th>1026</th>\n",
       "      <td>1</td>\n",
       "      <td>34.382664</td>\n",
       "      <td>29</td>\n",
       "      <td>31</td>\n",
       "      <td>1</td>\n",
       "      <td>6119</td>\n",
       "      <td>2</td>\n",
       "      <td>7</td>\n",
       "      <td>9</td>\n",
       "      <td>22.438042</td>\n",
       "      <td>...</td>\n",
       "      <td>0.069660</td>\n",
       "      <td>5.0</td>\n",
       "      <td>1965</td>\n",
       "      <td>2</td>\n",
       "      <td>146802.281250</td>\n",
       "      <td>159850.796875</td>\n",
       "      <td>27</td>\n",
       "      <td>140746.171875</td>\n",
       "      <td>624156.000000</td>\n",
       "      <td>483409.81250</td>\n",
       "    </tr>\n",
       "    <tr>\n",
       "      <th>940</th>\n",
       "      <td>1</td>\n",
       "      <td>50.299168</td>\n",
       "      <td>9</td>\n",
       "      <td>11</td>\n",
       "      <td>0</td>\n",
       "      <td>2370</td>\n",
       "      <td>1</td>\n",
       "      <td>11</td>\n",
       "      <td>16</td>\n",
       "      <td>24.349604</td>\n",
       "      <td>...</td>\n",
       "      <td>0.136244</td>\n",
       "      <td>9.0</td>\n",
       "      <td>2006</td>\n",
       "      <td>1</td>\n",
       "      <td>141847.359375</td>\n",
       "      <td>159850.796875</td>\n",
       "      <td>89</td>\n",
       "      <td>154041.437500</td>\n",
       "      <td>608674.125000</td>\n",
       "      <td>454632.68750</td>\n",
       "    </tr>\n",
       "    <tr>\n",
       "      <th>2963</th>\n",
       "      <td>1</td>\n",
       "      <td>42.456928</td>\n",
       "      <td>23</td>\n",
       "      <td>6</td>\n",
       "      <td>0</td>\n",
       "      <td>1437</td>\n",
       "      <td>2</td>\n",
       "      <td>7</td>\n",
       "      <td>17</td>\n",
       "      <td>36.527618</td>\n",
       "      <td>...</td>\n",
       "      <td>0.075779</td>\n",
       "      <td>1.0</td>\n",
       "      <td>1977</td>\n",
       "      <td>0</td>\n",
       "      <td>100961.812500</td>\n",
       "      <td>159850.796875</td>\n",
       "      <td>175</td>\n",
       "      <td>119821.328125</td>\n",
       "      <td>554809.437500</td>\n",
       "      <td>434988.12500</td>\n",
       "    </tr>\n",
       "    <tr>\n",
       "      <th>347</th>\n",
       "      <td>2</td>\n",
       "      <td>62.646122</td>\n",
       "      <td>27</td>\n",
       "      <td>2</td>\n",
       "      <td>0</td>\n",
       "      <td>629</td>\n",
       "      <td>0</td>\n",
       "      <td>4</td>\n",
       "      <td>1</td>\n",
       "      <td>36.527618</td>\n",
       "      <td>...</td>\n",
       "      <td>0.072158</td>\n",
       "      <td>1.0</td>\n",
       "      <td>1977</td>\n",
       "      <td>0</td>\n",
       "      <td>166014.062500</td>\n",
       "      <td>215256.312500</td>\n",
       "      <td>257</td>\n",
       "      <td>181721.156250</td>\n",
       "      <td>593618.750000</td>\n",
       "      <td>411897.59375</td>\n",
       "    </tr>\n",
       "    <tr>\n",
       "      <th>858</th>\n",
       "      <td>1</td>\n",
       "      <td>40.279987</td>\n",
       "      <td>27</td>\n",
       "      <td>9</td>\n",
       "      <td>0</td>\n",
       "      <td>1892</td>\n",
       "      <td>1</td>\n",
       "      <td>8</td>\n",
       "      <td>15</td>\n",
       "      <td>38.652657</td>\n",
       "      <td>...</td>\n",
       "      <td>0.211401</td>\n",
       "      <td>10.0</td>\n",
       "      <td>2018</td>\n",
       "      <td>3</td>\n",
       "      <td>122710.742188</td>\n",
       "      <td>159850.796875</td>\n",
       "      <td>257</td>\n",
       "      <td>112799.414062</td>\n",
       "      <td>524279.250000</td>\n",
       "      <td>411479.84375</td>\n",
       "    </tr>\n",
       "    <tr>\n",
       "      <th>964</th>\n",
       "      <td>5</td>\n",
       "      <td>118.871948</td>\n",
       "      <td>78</td>\n",
       "      <td>21</td>\n",
       "      <td>1</td>\n",
       "      <td>4346</td>\n",
       "      <td>2</td>\n",
       "      <td>15</td>\n",
       "      <td>16</td>\n",
       "      <td>69.023506</td>\n",
       "      <td>...</td>\n",
       "      <td>0.092291</td>\n",
       "      <td>10.0</td>\n",
       "      <td>1998</td>\n",
       "      <td>1</td>\n",
       "      <td>496026.656250</td>\n",
       "      <td>410431.593750</td>\n",
       "      <td>10</td>\n",
       "      <td>518382.937500</td>\n",
       "      <td>119853.828125</td>\n",
       "      <td>398529.12500</td>\n",
       "    </tr>\n",
       "    <tr>\n",
       "      <th>2436</th>\n",
       "      <td>1</td>\n",
       "      <td>38.704697</td>\n",
       "      <td>22</td>\n",
       "      <td>49</td>\n",
       "      <td>3</td>\n",
       "      <td>11395</td>\n",
       "      <td>4</td>\n",
       "      <td>9</td>\n",
       "      <td>22</td>\n",
       "      <td>21.993610</td>\n",
       "      <td>...</td>\n",
       "      <td>0.133215</td>\n",
       "      <td>10.0</td>\n",
       "      <td>1991</td>\n",
       "      <td>0</td>\n",
       "      <td>162263.906250</td>\n",
       "      <td>159850.796875</td>\n",
       "      <td>18</td>\n",
       "      <td>176279.156250</td>\n",
       "      <td>573999.437500</td>\n",
       "      <td>397720.28125</td>\n",
       "    </tr>\n",
       "    <tr>\n",
       "      <th>68</th>\n",
       "      <td>1</td>\n",
       "      <td>41.358940</td>\n",
       "      <td>93</td>\n",
       "      <td>25</td>\n",
       "      <td>0</td>\n",
       "      <td>6149</td>\n",
       "      <td>0</td>\n",
       "      <td>7</td>\n",
       "      <td>16</td>\n",
       "      <td>22.449837</td>\n",
       "      <td>...</td>\n",
       "      <td>0.521867</td>\n",
       "      <td>9.0</td>\n",
       "      <td>1987</td>\n",
       "      <td>0</td>\n",
       "      <td>143967.718750</td>\n",
       "      <td>159850.796875</td>\n",
       "      <td>22</td>\n",
       "      <td>142128.812500</td>\n",
       "      <td>526817.562500</td>\n",
       "      <td>384688.75000</td>\n",
       "    </tr>\n",
       "    <tr>\n",
       "      <th>2663</th>\n",
       "      <td>2</td>\n",
       "      <td>68.983444</td>\n",
       "      <td>23</td>\n",
       "      <td>0</td>\n",
       "      <td>0</td>\n",
       "      <td>168</td>\n",
       "      <td>0</td>\n",
       "      <td>1</td>\n",
       "      <td>3</td>\n",
       "      <td>67.122673</td>\n",
       "      <td>...</td>\n",
       "      <td>0.034656</td>\n",
       "      <td>0.0</td>\n",
       "      <td>2014</td>\n",
       "      <td>3</td>\n",
       "      <td>135324.359375</td>\n",
       "      <td>215256.312500</td>\n",
       "      <td>175</td>\n",
       "      <td>123666.492188</td>\n",
       "      <td>506175.000000</td>\n",
       "      <td>382508.50000</td>\n",
       "    </tr>\n",
       "    <tr>\n",
       "      <th>106</th>\n",
       "      <td>2</td>\n",
       "      <td>44.537441</td>\n",
       "      <td>10</td>\n",
       "      <td>33</td>\n",
       "      <td>0</td>\n",
       "      <td>8667</td>\n",
       "      <td>6</td>\n",
       "      <td>8</td>\n",
       "      <td>9</td>\n",
       "      <td>32.103275</td>\n",
       "      <td>...</td>\n",
       "      <td>0.282798</td>\n",
       "      <td>5.0</td>\n",
       "      <td>1971</td>\n",
       "      <td>2</td>\n",
       "      <td>226197.562500</td>\n",
       "      <td>215256.312500</td>\n",
       "      <td>20</td>\n",
       "      <td>201320.406250</td>\n",
       "      <td>574631.312500</td>\n",
       "      <td>373310.90625</td>\n",
       "    </tr>\n",
       "  </tbody>\n",
       "</table>\n",
       "<p>10 rows × 21 columns</p>\n",
       "</div>"
      ],
      "text/plain": [
       "      Rooms      Square  DistrictId  Social_1  Helthcare_2  Social_2  Shops_1  \\\n",
       "1026      1   34.382664          29        31            1      6119        2   \n",
       "940       1   50.299168           9        11            0      2370        1   \n",
       "2963      1   42.456928          23         6            0      1437        2   \n",
       "347       2   62.646122          27         2            0       629        0   \n",
       "858       1   40.279987          27         9            0      1892        1   \n",
       "964       5  118.871948          78        21            1      4346        2   \n",
       "2436      1   38.704697          22        49            3     11395        4   \n",
       "68        1   41.358940          93        25            0      6149        0   \n",
       "2663      2   68.983444          23         0            0       168        0   \n",
       "106       2   44.537441          10        33            0      8667        6   \n",
       "\n",
       "      Floor  HouseFloor  LifeSquare  ...  Ecology_1  KitchenSquare  HouseYear  \\\n",
       "1026      7           9   22.438042  ...   0.069660            5.0       1965   \n",
       "940      11          16   24.349604  ...   0.136244            9.0       2006   \n",
       "2963      7          17   36.527618  ...   0.075779            1.0       1977   \n",
       "347       4           1   36.527618  ...   0.072158            1.0       1977   \n",
       "858       8          15   38.652657  ...   0.211401           10.0       2018   \n",
       "964      15          16   69.023506  ...   0.092291           10.0       1998   \n",
       "2436      9          22   21.993610  ...   0.133215           10.0       1991   \n",
       "68        7          16   22.449837  ...   0.521867            9.0       1987   \n",
       "2663      1           3   67.122673  ...   0.034656            0.0       2014   \n",
       "106       8           9   32.103275  ...   0.282798            5.0       1971   \n",
       "\n",
       "      cluster_year  mean_price_dr  mean_price_by_rooms  large_district  \\\n",
       "1026             2  146802.281250        159850.796875              27   \n",
       "940              1  141847.359375        159850.796875              89   \n",
       "2963             0  100961.812500        159850.796875             175   \n",
       "347              0  166014.062500        215256.312500             257   \n",
       "858              3  122710.742188        159850.796875             257   \n",
       "964              1  496026.656250        410431.593750              10   \n",
       "2436             0  162263.906250        159850.796875              18   \n",
       "68               0  143967.718750        159850.796875              22   \n",
       "2663             3  135324.359375        215256.312500             175   \n",
       "106              2  226197.562500        215256.312500              20   \n",
       "\n",
       "              Price     Price_test            SD  \n",
       "1026  140746.171875  624156.000000  483409.81250  \n",
       "940   154041.437500  608674.125000  454632.68750  \n",
       "2963  119821.328125  554809.437500  434988.12500  \n",
       "347   181721.156250  593618.750000  411897.59375  \n",
       "858   112799.414062  524279.250000  411479.84375  \n",
       "964   518382.937500  119853.828125  398529.12500  \n",
       "2436  176279.156250  573999.437500  397720.28125  \n",
       "68    142128.812500  526817.562500  384688.75000  \n",
       "2663  123666.492188  506175.000000  382508.50000  \n",
       "106   201320.406250  574631.312500  373310.90625  \n",
       "\n",
       "[10 rows x 21 columns]"
      ]
     },
     "execution_count": 77,
     "metadata": {},
     "output_type": "execute_result"
    }
   ],
   "source": [
    "model_top_deviation(XGB_model, X_test, y_test)"
   ]
  },
  {
   "cell_type": "markdown",
   "metadata": {},
   "source": [
    "---"
   ]
  },
  {
   "cell_type": "markdown",
   "metadata": {},
   "source": [
    "## Result<a class='anchor' id='result'>"
   ]
  },
  {
   "cell_type": "code",
   "execution_count": 78,
   "metadata": {},
   "outputs": [],
   "source": [
    "# Define the function to evaluate the models (r2, mse)\n",
    "\n",
    "def r2_models(models, test, valid):\n",
    "    \n",
    "    scores = pd.DataFrame(columns = ['name', 'r2', 'mse'])\n",
    "    \n",
    "    for name, model in models.items():\n",
    "        test_pred = model.predict(test)\n",
    "        r2 = r2_score(valid, test_pred)\n",
    "        mse = mean_squared_error(valid, test_pred)\n",
    "        scores = scores.append(\n",
    "        {'name': name, 'r2': r2, 'mse': mse}, ignore_index = True)\n",
    "    \n",
    "    scores.sort_values('r2', ascending = False, inplace = True)\n",
    "    \n",
    "    return scores"
   ]
  },
  {
   "cell_type": "markdown",
   "metadata": {},
   "source": [
    "**Choosing the best model**<a class='anchor' id='best'>"
   ]
  },
  {
   "cell_type": "code",
   "execution_count": 79,
   "metadata": {},
   "outputs": [],
   "source": [
    "test_score = r2_models(result_dict, X_test, y_test)\n",
    "train_score = r2_models(result_dict, X_train, y_train)"
   ]
  },
  {
   "cell_type": "code",
   "execution_count": 80,
   "metadata": {},
   "outputs": [
    {
     "data": {
      "text/html": [
       "<div>\n",
       "<style scoped>\n",
       "    .dataframe tbody tr th:only-of-type {\n",
       "        vertical-align: middle;\n",
       "    }\n",
       "\n",
       "    .dataframe tbody tr th {\n",
       "        vertical-align: top;\n",
       "    }\n",
       "\n",
       "    .dataframe thead th {\n",
       "        text-align: right;\n",
       "    }\n",
       "</style>\n",
       "<table border=\"1\" class=\"dataframe\">\n",
       "  <thead>\n",
       "    <tr style=\"text-align: right;\">\n",
       "      <th></th>\n",
       "      <th>name</th>\n",
       "      <th>r2</th>\n",
       "    </tr>\n",
       "  </thead>\n",
       "  <tbody>\n",
       "    <tr>\n",
       "      <th>3</th>\n",
       "      <td>Gradient Boosting Regressor</td>\n",
       "      <td>0.751004</td>\n",
       "    </tr>\n",
       "    <tr>\n",
       "      <th>0</th>\n",
       "      <td>XGBRegressor</td>\n",
       "      <td>0.749026</td>\n",
       "    </tr>\n",
       "    <tr>\n",
       "      <th>1</th>\n",
       "      <td>Random Forest Regressor</td>\n",
       "      <td>0.722598</td>\n",
       "    </tr>\n",
       "    <tr>\n",
       "      <th>4</th>\n",
       "      <td>Linear Regression</td>\n",
       "      <td>0.716762</td>\n",
       "    </tr>\n",
       "    <tr>\n",
       "      <th>2</th>\n",
       "      <td>LassoCV</td>\n",
       "      <td>0.636448</td>\n",
       "    </tr>\n",
       "  </tbody>\n",
       "</table>\n",
       "</div>"
      ],
      "text/plain": [
       "                          name        r2\n",
       "3  Gradient Boosting Regressor  0.751004\n",
       "0                 XGBRegressor  0.749026\n",
       "1      Random Forest Regressor  0.722598\n",
       "4            Linear Regression  0.716762\n",
       "2                      LassoCV  0.636448"
      ]
     },
     "execution_count": 80,
     "metadata": {},
     "output_type": "execute_result"
    }
   ],
   "source": [
    "# Which models is the best on the test?\n",
    "\n",
    "test_score[['name', 'r2']]"
   ]
  },
  {
   "cell_type": "markdown",
   "metadata": {},
   "source": [
    "It appears, that GBR Model has the best r2 score. Let us perform futher checks."
   ]
  },
  {
   "cell_type": "markdown",
   "metadata": {},
   "source": [
    "**r2 Score**<a class='anchor' id='r2'>"
   ]
  },
  {
   "cell_type": "markdown",
   "metadata": {},
   "source": [
    "r2 is a statistical measure that represents the goodness of fit of a regression model. The ideal value for r2 is 1. The closer the value of r2 to 1, the better is the model fitted.\n",
    "\n",
    "**Note:** The value of r2 can also be negative when the models fitted is worse than the average fitted model."
   ]
  },
  {
   "cell_type": "code",
   "execution_count": 81,
   "metadata": {},
   "outputs": [],
   "source": [
    "r2_max_test = test_score['r2'].max()\n",
    "r2_max_train = train_score['r2'].max()"
   ]
  },
  {
   "cell_type": "code",
   "execution_count": 82,
   "metadata": {},
   "outputs": [
    {
     "data": {
      "image/png": "[encoded data removed]",
      "text/plain": [
       "<Figure size 432x288 with 1 Axes>"
      ]
     },
     "metadata": {
      "needs_background": "light"
     },
     "output_type": "display_data"
    }
   ],
   "source": [
    "plt.barh(test_score['name'], test_score['r2'], alpha = 0.5, color = 'red', label = r2_max_test)\n",
    "plt.barh(train_score['name'], train_score['r2'], alpha = 0.5, color = 'grey', label = r2_max_train)\n",
    "plt.title('r2 Score')\n",
    "plt.legend()\n",
    "plt.axvline(0.6, color = 'black')\n",
    "plt.axvline(r2_max_test, color = 'green')\n",
    "plt.show()"
   ]
  },
  {
   "cell_type": "markdown",
   "metadata": {},
   "source": [
    "**Mean Squared Error**<a class='anchor' id='mse'>"
   ]
  },
  {
   "cell_type": "markdown",
   "metadata": {},
   "source": [
    "MSE is the average of the squared error that is used as the loss function for least squares regression:"
   ]
  },
  {
   "cell_type": "markdown",
   "metadata": {},
   "source": [
    "<img src=\"mse.jpg\" width=\"200\">"
   ]
  },
  {
   "cell_type": "code",
   "execution_count": 83,
   "metadata": {},
   "outputs": [],
   "source": [
    "mse_min_test = test_score['mse'].min()\n",
    "mse_min_train = train_score['mse'].min()"
   ]
  },
  {
   "cell_type": "code",
   "execution_count": 84,
   "metadata": {},
   "outputs": [
    {
     "data": {
      "image/png": "[encoded data removed]",
      "text/plain": [
       "<Figure size 432x288 with 1 Axes>"
      ]
     },
     "metadata": {
      "needs_background": "light"
     },
     "output_type": "display_data"
    }
   ],
   "source": [
    "plt.barh(test_score['name'], test_score['mse'], alpha = 0.5, color = 'red', label = mse_min_test)\n",
    "plt.barh(train_score['name'], train_score['mse'], alpha = 0.5, color = 'grey', label = mse_min_train)\n",
    "plt.title('Mean Squared Error')\n",
    "plt.legend(loc = 2)\n",
    "plt.axvline(mse_min_test, color = 'black')\n",
    "plt.show()"
   ]
  },
  {
   "cell_type": "markdown",
   "metadata": {},
   "source": [
    "**Best Model**"
   ]
  },
  {
   "cell_type": "markdown",
   "metadata": {},
   "source": [
    "Why is this the best model"
   ]
  },
  {
   "cell_type": "code",
   "execution_count": 85,
   "metadata": {},
   "outputs": [],
   "source": [
    "best_result = result_dict['Gradient Boosting Regressor']"
   ]
  },
  {
   "cell_type": "code",
   "execution_count": 86,
   "metadata": {},
   "outputs": [
    {
     "data": {
      "text/html": [
       "<div>\n",
       "<style scoped>\n",
       "    .dataframe tbody tr th:only-of-type {\n",
       "        vertical-align: middle;\n",
       "    }\n",
       "\n",
       "    .dataframe tbody tr th {\n",
       "        vertical-align: top;\n",
       "    }\n",
       "\n",
       "    .dataframe thead th {\n",
       "        text-align: right;\n",
       "    }\n",
       "</style>\n",
       "<table border=\"1\" class=\"dataframe\">\n",
       "  <thead>\n",
       "    <tr style=\"text-align: right;\">\n",
       "      <th></th>\n",
       "      <th>importances</th>\n",
       "      <th>name</th>\n",
       "    </tr>\n",
       "  </thead>\n",
       "  <tbody>\n",
       "    <tr>\n",
       "      <th>0</th>\n",
       "      <td>0.006896</td>\n",
       "      <td>Rooms</td>\n",
       "    </tr>\n",
       "    <tr>\n",
       "      <th>1</th>\n",
       "      <td>0.110485</td>\n",
       "      <td>Square</td>\n",
       "    </tr>\n",
       "    <tr>\n",
       "      <th>2</th>\n",
       "      <td>0.004047</td>\n",
       "      <td>DistrictId</td>\n",
       "    </tr>\n",
       "    <tr>\n",
       "      <th>3</th>\n",
       "      <td>0.007563</td>\n",
       "      <td>Social_1</td>\n",
       "    </tr>\n",
       "    <tr>\n",
       "      <th>4</th>\n",
       "      <td>0.001589</td>\n",
       "      <td>Helthcare_2</td>\n",
       "    </tr>\n",
       "    <tr>\n",
       "      <th>5</th>\n",
       "      <td>0.002599</td>\n",
       "      <td>Social_2</td>\n",
       "    </tr>\n",
       "    <tr>\n",
       "      <th>6</th>\n",
       "      <td>0.001802</td>\n",
       "      <td>Shops_1</td>\n",
       "    </tr>\n",
       "    <tr>\n",
       "      <th>7</th>\n",
       "      <td>0.010602</td>\n",
       "      <td>Floor</td>\n",
       "    </tr>\n",
       "    <tr>\n",
       "      <th>8</th>\n",
       "      <td>0.008571</td>\n",
       "      <td>HouseFloor</td>\n",
       "    </tr>\n",
       "    <tr>\n",
       "      <th>9</th>\n",
       "      <td>0.001648</td>\n",
       "      <td>LifeSquare</td>\n",
       "    </tr>\n",
       "    <tr>\n",
       "      <th>10</th>\n",
       "      <td>0.009650</td>\n",
       "      <td>Social_3</td>\n",
       "    </tr>\n",
       "    <tr>\n",
       "      <th>11</th>\n",
       "      <td>0.004287</td>\n",
       "      <td>Ecology_1</td>\n",
       "    </tr>\n",
       "    <tr>\n",
       "      <th>12</th>\n",
       "      <td>0.028738</td>\n",
       "      <td>KitchenSquare</td>\n",
       "    </tr>\n",
       "    <tr>\n",
       "      <th>13</th>\n",
       "      <td>0.015125</td>\n",
       "      <td>HouseYear</td>\n",
       "    </tr>\n",
       "    <tr>\n",
       "      <th>14</th>\n",
       "      <td>0.002147</td>\n",
       "      <td>cluster_year</td>\n",
       "    </tr>\n",
       "    <tr>\n",
       "      <th>15</th>\n",
       "      <td>0.767296</td>\n",
       "      <td>mean_price_dr</td>\n",
       "    </tr>\n",
       "    <tr>\n",
       "      <th>16</th>\n",
       "      <td>0.003659</td>\n",
       "      <td>mean_price_by_rooms</td>\n",
       "    </tr>\n",
       "    <tr>\n",
       "      <th>17</th>\n",
       "      <td>0.013296</td>\n",
       "      <td>large_district</td>\n",
       "    </tr>\n",
       "  </tbody>\n",
       "</table>\n",
       "</div>"
      ],
      "text/plain": [
       "    importances                 name\n",
       "0      0.006896                Rooms\n",
       "1      0.110485               Square\n",
       "2      0.004047           DistrictId\n",
       "3      0.007563             Social_1\n",
       "4      0.001589          Helthcare_2\n",
       "5      0.002599             Social_2\n",
       "6      0.001802              Shops_1\n",
       "7      0.010602                Floor\n",
       "8      0.008571           HouseFloor\n",
       "9      0.001648           LifeSquare\n",
       "10     0.009650             Social_3\n",
       "11     0.004287            Ecology_1\n",
       "12     0.028738        KitchenSquare\n",
       "13     0.015125            HouseYear\n",
       "14     0.002147         cluster_year\n",
       "15     0.767296        mean_price_dr\n",
       "16     0.003659  mean_price_by_rooms\n",
       "17     0.013296       large_district"
      ]
     },
     "execution_count": 86,
     "metadata": {},
     "output_type": "execute_result"
    }
   ],
   "source": [
    "pd.DataFrame({\n",
    "    'name': list(X_train.columns),\n",
    "    'importances': list(best_result.feature_importances_)})"
   ]
  },
  {
   "cell_type": "code",
   "execution_count": 87,
   "metadata": {},
   "outputs": [
    {
     "data": {
      "image/png": "[encoded data removed]",
      "text/plain": [
       "<Figure size 432x288 with 1 Axes>"
      ]
     },
     "metadata": {
      "needs_background": "light"
     },
     "output_type": "display_data"
    }
   ],
   "source": [
    "test_model(best_result, 'Best Model', X_test, y_test)"
   ]
  },
  {
   "cell_type": "markdown",
   "metadata": {},
   "source": [
    "---"
   ]
  },
  {
   "cell_type": "markdown",
   "metadata": {},
   "source": [
    "## Output Files<a class='anchor' id='output'>"
   ]
  },
  {
   "cell_type": "code",
   "execution_count": 88,
   "metadata": {},
   "outputs": [
    {
     "name": "stderr",
     "output_type": "stream",
     "text": [
      "/Users/ilya.ivolgin/miniconda3/envs/day2/lib/python3.5/site-packages/sklearn/preprocessing/data.py:323: DataConversionWarning: Data with input dtype int64 were all converted to float64 by MinMaxScaler.\n",
      "  return self.partial_fit(X, y)\n"
     ]
    }
   ],
   "source": [
    "test = prep_data(test_df)"
   ]
  },
  {
   "cell_type": "code",
   "execution_count": 89,
   "metadata": {},
   "outputs": [],
   "source": [
    "test_features = list(X_train.columns)"
   ]
  },
  {
   "cell_type": "code",
   "execution_count": 90,
   "metadata": {},
   "outputs": [
    {
     "name": "stdout",
     "output_type": "stream",
     "text": [
      "<class 'pandas.core.frame.DataFrame'>\n",
      "Int64Index: 5000 entries, 0 to 4999\n",
      "Data columns (total 18 columns):\n",
      "Rooms                  5000 non-null uint8\n",
      "Square                 5000 non-null float32\n",
      "DistrictId             5000 non-null uint8\n",
      "Social_1               5000 non-null uint8\n",
      "Helthcare_2            5000 non-null uint8\n",
      "Social_2               5000 non-null uint16\n",
      "Shops_1                5000 non-null uint8\n",
      "Floor                  5000 non-null uint8\n",
      "HouseFloor             5000 non-null uint8\n",
      "LifeSquare             5000 non-null float32\n",
      "Social_3               5000 non-null uint8\n",
      "Ecology_1              5000 non-null float32\n",
      "KitchenSquare          5000 non-null float32\n",
      "HouseYear              5000 non-null uint16\n",
      "cluster_year           5000 non-null uint8\n",
      "mean_price_dr          5000 non-null float32\n",
      "mean_price_by_rooms    5000 non-null float32\n",
      "large_district         5000 non-null uint16\n",
      "dtypes: float32(6), uint16(3), uint8(9)\n",
      "memory usage: 229.5 KB\n"
     ]
    }
   ],
   "source": [
    "test[test_features].info()"
   ]
  },
  {
   "cell_type": "code",
   "execution_count": 91,
   "metadata": {},
   "outputs": [],
   "source": [
    "test['Price'] = best_result.predict(test[test_features])"
   ]
  },
  {
   "cell_type": "code",
   "execution_count": 92,
   "metadata": {},
   "outputs": [
    {
     "name": "stdout",
     "output_type": "stream",
     "text": [
      "217162.95281 77284.5347382\n"
     ]
    },
    {
     "data": {
      "image/png": "[encoded data removed]",
      "text/plain": [
       "<Figure size 432x288 with 1 Axes>"
      ]
     },
     "metadata": {
      "needs_background": "light"
     },
     "output_type": "display_data"
    },
    {
     "data": {
      "image/png": "[encoded data removed]",
      "text/plain": [
       "<Figure size 432x288 with 1 Axes>"
      ]
     },
     "metadata": {
      "needs_background": "light"
     },
     "output_type": "display_data"
    }
   ],
   "source": [
    "price_log = np.log1p(test['Price'])\n",
    "sns.distplot(price_log, fit = norm)\n",
    "\n",
    "mu, sigma = norm.fit(test['Price'])\n",
    "\n",
    "print(mu, sigma)\n",
    "\n",
    "plt.ylabel('Frequency')\n",
    "plt.title('Price distribution')\n",
    "\n",
    "# QQ-plot\n",
    "\n",
    "fig = plt.figure()\n",
    "res = stats.probplot(price_log, plot = plt)\n",
    "plt.show()"
   ]
  },
  {
   "cell_type": "markdown",
   "metadata": {},
   "source": [
    "**Export CSV**"
   ]
  },
  {
   "cell_type": "code",
   "execution_count": 93,
   "metadata": {},
   "outputs": [],
   "source": [
    "test[['Id', 'Price']].to_csv('Ivolgin_predictions.csv', index = None)"
   ]
  }
 ],
 "metadata": {
  "kernelspec": {
   "display_name": "Python 3",
   "language": "python",
   "name": "python3"
  },
  "language_info": {
   "codemirror_mode": {
    "name": "ipython",
    "version": 3
   },
   "file_extension": ".py",
   "mimetype": "text/x-python",
   "name": "python",
   "nbconvert_exporter": "python",
   "pygments_lexer": "ipython3",
   "version": "3.5.6"
  }
 },
 "nbformat": 4,
 "nbformat_minor": 2
}
